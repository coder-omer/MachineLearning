{
  "cells": [
    {
      "cell_type": "markdown",
      "id": "fatty-message",
      "metadata": {
        "id": "fatty-message"
      },
      "source": [
        "<a id = '4.0'></a>\n",
        "<p style = \"font-size : 35px; color : #34656d ;  text-align : center; background-color : #08f9f9; border-radius: 5px 5px;\"><strong>Regularization Part_2 (Ridge-Lasso)</strong></p> "
      ]
    },
    {
      "cell_type": "code",
      "execution_count": 4,
      "id": "spare-thumb",
      "metadata": {
        "id": "spare-thumb"
      },
      "outputs": [],
      "source": [
        "import numpy as np\n",
        "import pandas as pd\n",
        "import matplotlib.pyplot as plt\n",
        "import seaborn as sns\n",
        "plt.rcParams[\"figure.figsize\"] = (10,6)\n",
        "pd.set_option('display.max_columns', 100)"
      ]
    },
    {
      "cell_type": "code",
      "execution_count": 5,
      "id": "atlantic-accountability",
      "metadata": {
        "id": "atlantic-accountability"
      },
      "outputs": [],
      "source": [
        "df = pd.read_csv(\"Advertising.csv\") # Ilk başlarda yaptığımız şeyler aynı"
      ]
    },
    {
      "cell_type": "code",
      "execution_count": 6,
      "id": "modified-blame",
      "metadata": {
        "id": "modified-blame",
        "outputId": "a0e0df73-da8f-4371-d6ce-43cbc36024e6"
      },
      "outputs": [
        {
          "data": {
            "text/html": [
              "<div>\n",
              "<style scoped>\n",
              "    .dataframe tbody tr th:only-of-type {\n",
              "        vertical-align: middle;\n",
              "    }\n",
              "\n",
              "    .dataframe tbody tr th {\n",
              "        vertical-align: top;\n",
              "    }\n",
              "\n",
              "    .dataframe thead th {\n",
              "        text-align: right;\n",
              "    }\n",
              "</style>\n",
              "<table border=\"1\" class=\"dataframe\">\n",
              "  <thead>\n",
              "    <tr style=\"text-align: right;\">\n",
              "      <th></th>\n",
              "      <th>TV</th>\n",
              "      <th>radio</th>\n",
              "      <th>newspaper</th>\n",
              "      <th>sales</th>\n",
              "    </tr>\n",
              "  </thead>\n",
              "  <tbody>\n",
              "    <tr>\n",
              "      <th>0</th>\n",
              "      <td>230.1</td>\n",
              "      <td>37.8</td>\n",
              "      <td>69.2</td>\n",
              "      <td>22.1</td>\n",
              "    </tr>\n",
              "    <tr>\n",
              "      <th>1</th>\n",
              "      <td>44.5</td>\n",
              "      <td>39.3</td>\n",
              "      <td>45.1</td>\n",
              "      <td>10.4</td>\n",
              "    </tr>\n",
              "    <tr>\n",
              "      <th>2</th>\n",
              "      <td>17.2</td>\n",
              "      <td>45.9</td>\n",
              "      <td>69.3</td>\n",
              "      <td>9.3</td>\n",
              "    </tr>\n",
              "    <tr>\n",
              "      <th>3</th>\n",
              "      <td>151.5</td>\n",
              "      <td>41.3</td>\n",
              "      <td>58.5</td>\n",
              "      <td>18.5</td>\n",
              "    </tr>\n",
              "    <tr>\n",
              "      <th>4</th>\n",
              "      <td>180.8</td>\n",
              "      <td>10.8</td>\n",
              "      <td>58.4</td>\n",
              "      <td>12.9</td>\n",
              "    </tr>\n",
              "  </tbody>\n",
              "</table>\n",
              "</div>"
            ],
            "text/plain": [
              "      TV  radio  newspaper  sales\n",
              "0  230.1   37.8       69.2   22.1\n",
              "1   44.5   39.3       45.1   10.4\n",
              "2   17.2   45.9       69.3    9.3\n",
              "3  151.5   41.3       58.5   18.5\n",
              "4  180.8   10.8       58.4   12.9"
            ]
          },
          "execution_count": 6,
          "metadata": {},
          "output_type": "execute_result"
        }
      ],
      "source": [
        "df.head()"
      ]
    },
    {
      "cell_type": "code",
      "execution_count": 7,
      "id": "d8da01f5",
      "metadata": {
        "id": "d8da01f5",
        "outputId": "cee9c254-5083-402a-f4e3-90996684c54f"
      },
      "outputs": [
        {
          "data": {
            "text/plain": [
              "(200, 4)"
            ]
          },
          "execution_count": 7,
          "metadata": {},
          "output_type": "execute_result"
        }
      ],
      "source": [
        "df.shape"
      ]
    },
    {
      "cell_type": "code",
      "execution_count": 8,
      "id": "pointed-swift",
      "metadata": {
        "id": "pointed-swift"
      },
      "outputs": [],
      "source": [
        "X = df.drop(\"sales\", axis =1)\n",
        "y = df[\"sales\"]"
      ]
    },
    {
      "cell_type": "code",
      "execution_count": 9,
      "id": "725b86b4",
      "metadata": {
        "id": "725b86b4",
        "outputId": "435405d0-eb6c-4074-cad8-b086de05b1cd"
      },
      "outputs": [
        {
          "data": {
            "text/html": [
              "<div>\n",
              "<style scoped>\n",
              "    .dataframe tbody tr th:only-of-type {\n",
              "        vertical-align: middle;\n",
              "    }\n",
              "\n",
              "    .dataframe tbody tr th {\n",
              "        vertical-align: top;\n",
              "    }\n",
              "\n",
              "    .dataframe thead th {\n",
              "        text-align: right;\n",
              "    }\n",
              "</style>\n",
              "<table border=\"1\" class=\"dataframe\">\n",
              "  <thead>\n",
              "    <tr style=\"text-align: right;\">\n",
              "      <th></th>\n",
              "      <th>TV</th>\n",
              "      <th>radio</th>\n",
              "      <th>newspaper</th>\n",
              "    </tr>\n",
              "  </thead>\n",
              "  <tbody>\n",
              "    <tr>\n",
              "      <th>0</th>\n",
              "      <td>230.1</td>\n",
              "      <td>37.8</td>\n",
              "      <td>69.2</td>\n",
              "    </tr>\n",
              "    <tr>\n",
              "      <th>1</th>\n",
              "      <td>44.5</td>\n",
              "      <td>39.3</td>\n",
              "      <td>45.1</td>\n",
              "    </tr>\n",
              "    <tr>\n",
              "      <th>2</th>\n",
              "      <td>17.2</td>\n",
              "      <td>45.9</td>\n",
              "      <td>69.3</td>\n",
              "    </tr>\n",
              "    <tr>\n",
              "      <th>3</th>\n",
              "      <td>151.5</td>\n",
              "      <td>41.3</td>\n",
              "      <td>58.5</td>\n",
              "    </tr>\n",
              "    <tr>\n",
              "      <th>4</th>\n",
              "      <td>180.8</td>\n",
              "      <td>10.8</td>\n",
              "      <td>58.4</td>\n",
              "    </tr>\n",
              "  </tbody>\n",
              "</table>\n",
              "</div>"
            ],
            "text/plain": [
              "      TV  radio  newspaper\n",
              "0  230.1   37.8       69.2\n",
              "1   44.5   39.3       45.1\n",
              "2   17.2   45.9       69.3\n",
              "3  151.5   41.3       58.5\n",
              "4  180.8   10.8       58.4"
            ]
          },
          "execution_count": 9,
          "metadata": {},
          "output_type": "execute_result"
        }
      ],
      "source": [
        "X.head()"
      ]
    },
    {
      "cell_type": "markdown",
      "id": "global-check",
      "metadata": {
        "id": "global-check"
      },
      "source": [
        "### Polynomial Features"
      ]
    },
    {
      "cell_type": "code",
      "execution_count": 10,
      "id": "equipped-junior",
      "metadata": {
        "id": "equipped-junior"
      },
      "outputs": [],
      "source": [
        "from sklearn.preprocessing import PolynomialFeatures"
      ]
    },
    {
      "cell_type": "markdown",
      "id": "bef6c093",
      "metadata": {
        "id": "bef6c093"
      },
      "source": [
        "We create an artificial overfiting situation by taking poly feature from 5 degrees"
      ]
    },
    {
      "cell_type": "code",
      "execution_count": 11,
      "id": "final-travel",
      "metadata": {
        "id": "final-travel"
      },
      "outputs": [],
      "source": [
        "polynomial_converter = PolynomialFeatures(degree=5, include_bias=False)\n",
        "\n",
        "poly_features = polynomial_converter.fit_transform(X)"
      ]
    },
    {
      "cell_type": "code",
      "execution_count": 12,
      "id": "informative-collectible",
      "metadata": {
        "id": "informative-collectible",
        "outputId": "d7451909-1baa-4a6b-8b18-e69da1f2c318"
      },
      "outputs": [
        {
          "data": {
            "text/plain": [
              "(200, 55)"
            ]
          },
          "execution_count": 12,
          "metadata": {},
          "output_type": "execute_result"
        }
      ],
      "source": [
        "poly_features.shape"
      ]
    },
    {
      "cell_type": "markdown",
      "id": "delayed-textbook",
      "metadata": {
        "id": "delayed-textbook"
      },
      "source": [
        "### Train | Test Split"
      ]
    },
    {
      "cell_type": "code",
      "execution_count": 13,
      "id": "rubber-fairy",
      "metadata": {
        "id": "rubber-fairy"
      },
      "outputs": [],
      "source": [
        "from sklearn.model_selection import train_test_split"
      ]
    },
    {
      "cell_type": "code",
      "execution_count": 14,
      "id": "graphic-lafayette",
      "metadata": {
        "id": "graphic-lafayette"
      },
      "outputs": [],
      "source": [
        "X_train, X_test, y_train, y_test = train_test_split(poly_features, y, test_size=0.3, random_state=101)"
      ]
    },
    {
      "cell_type": "markdown",
      "id": "sized-census",
      "metadata": {
        "id": "sized-census"
      },
      "source": [
        "### Scaling the Data"
      ]
    },
    {
      "cell_type": "code",
      "execution_count": 15,
      "id": "identified-closing",
      "metadata": {
        "id": "identified-closing"
      },
      "outputs": [],
      "source": [
        "from sklearn.preprocessing import StandardScaler\n",
        "scaler = StandardScaler()"
      ]
    },
    {
      "cell_type": "code",
      "execution_count": 16,
      "id": "anticipated-logging",
      "metadata": {
        "id": "anticipated-logging",
        "outputId": "d560d41d-18df-4373-9012-cea827c34058"
      },
      "outputs": [
        {
          "data": {
            "text/html": [
              "<style>#sk-container-id-1 {color: black;background-color: white;}#sk-container-id-1 pre{padding: 0;}#sk-container-id-1 div.sk-toggleable {background-color: white;}#sk-container-id-1 label.sk-toggleable__label {cursor: pointer;display: block;width: 100%;margin-bottom: 0;padding: 0.3em;box-sizing: border-box;text-align: center;}#sk-container-id-1 label.sk-toggleable__label-arrow:before {content: \"▸\";float: left;margin-right: 0.25em;color: #696969;}#sk-container-id-1 label.sk-toggleable__label-arrow:hover:before {color: black;}#sk-container-id-1 div.sk-estimator:hover label.sk-toggleable__label-arrow:before {color: black;}#sk-container-id-1 div.sk-toggleable__content {max-height: 0;max-width: 0;overflow: hidden;text-align: left;background-color: #f0f8ff;}#sk-container-id-1 div.sk-toggleable__content pre {margin: 0.2em;color: black;border-radius: 0.25em;background-color: #f0f8ff;}#sk-container-id-1 input.sk-toggleable__control:checked~div.sk-toggleable__content {max-height: 200px;max-width: 100%;overflow: auto;}#sk-container-id-1 input.sk-toggleable__control:checked~label.sk-toggleable__label-arrow:before {content: \"▾\";}#sk-container-id-1 div.sk-estimator input.sk-toggleable__control:checked~label.sk-toggleable__label {background-color: #d4ebff;}#sk-container-id-1 div.sk-label input.sk-toggleable__control:checked~label.sk-toggleable__label {background-color: #d4ebff;}#sk-container-id-1 input.sk-hidden--visually {border: 0;clip: rect(1px 1px 1px 1px);clip: rect(1px, 1px, 1px, 1px);height: 1px;margin: -1px;overflow: hidden;padding: 0;position: absolute;width: 1px;}#sk-container-id-1 div.sk-estimator {font-family: monospace;background-color: #f0f8ff;border: 1px dotted black;border-radius: 0.25em;box-sizing: border-box;margin-bottom: 0.5em;}#sk-container-id-1 div.sk-estimator:hover {background-color: #d4ebff;}#sk-container-id-1 div.sk-parallel-item::after {content: \"\";width: 100%;border-bottom: 1px solid gray;flex-grow: 1;}#sk-container-id-1 div.sk-label:hover label.sk-toggleable__label {background-color: #d4ebff;}#sk-container-id-1 div.sk-serial::before {content: \"\";position: absolute;border-left: 1px solid gray;box-sizing: border-box;top: 0;bottom: 0;left: 50%;z-index: 0;}#sk-container-id-1 div.sk-serial {display: flex;flex-direction: column;align-items: center;background-color: white;padding-right: 0.2em;padding-left: 0.2em;position: relative;}#sk-container-id-1 div.sk-item {position: relative;z-index: 1;}#sk-container-id-1 div.sk-parallel {display: flex;align-items: stretch;justify-content: center;background-color: white;position: relative;}#sk-container-id-1 div.sk-item::before, #sk-container-id-1 div.sk-parallel-item::before {content: \"\";position: absolute;border-left: 1px solid gray;box-sizing: border-box;top: 0;bottom: 0;left: 50%;z-index: -1;}#sk-container-id-1 div.sk-parallel-item {display: flex;flex-direction: column;z-index: 1;position: relative;background-color: white;}#sk-container-id-1 div.sk-parallel-item:first-child::after {align-self: flex-end;width: 50%;}#sk-container-id-1 div.sk-parallel-item:last-child::after {align-self: flex-start;width: 50%;}#sk-container-id-1 div.sk-parallel-item:only-child::after {width: 0;}#sk-container-id-1 div.sk-dashed-wrapped {border: 1px dashed gray;margin: 0 0.4em 0.5em 0.4em;box-sizing: border-box;padding-bottom: 0.4em;background-color: white;}#sk-container-id-1 div.sk-label label {font-family: monospace;font-weight: bold;display: inline-block;line-height: 1.2em;}#sk-container-id-1 div.sk-label-container {text-align: center;}#sk-container-id-1 div.sk-container {/* jupyter's `normalize.less` sets `[hidden] { display: none; }` but bootstrap.min.css set `[hidden] { display: none !important; }` so we also need the `!important` here to be able to override the default hidden behavior on the sphinx rendered scikit-learn.org. See: https://github.com/scikit-learn/scikit-learn/issues/21755 */display: inline-block !important;position: relative;}#sk-container-id-1 div.sk-text-repr-fallback {display: none;}</style><div id=\"sk-container-id-1\" class=\"sk-top-container\"><div class=\"sk-text-repr-fallback\"><pre>StandardScaler()</pre><b>In a Jupyter environment, please rerun this cell to show the HTML representation or trust the notebook. <br />On GitHub, the HTML representation is unable to render, please try loading this page with nbviewer.org.</b></div><div class=\"sk-container\" hidden><div class=\"sk-item\"><div class=\"sk-estimator sk-toggleable\"><input class=\"sk-toggleable__control sk-hidden--visually\" id=\"sk-estimator-id-1\" type=\"checkbox\" checked><label for=\"sk-estimator-id-1\" class=\"sk-toggleable__label sk-toggleable__label-arrow\">StandardScaler</label><div class=\"sk-toggleable__content\"><pre>StandardScaler()</pre></div></div></div></div></div>"
            ],
            "text/plain": [
              "StandardScaler()"
            ]
          },
          "execution_count": 16,
          "metadata": {},
          "output_type": "execute_result"
        }
      ],
      "source": [
        "scaler.fit(X_train)  # Apply just for X_tarin not for X_test (Kalıp çıkarma)\n",
        "\n",
        "# bir fit, iki transfrom"
      ]
    },
    {
      "cell_type": "code",
      "execution_count": 17,
      "id": "varied-final",
      "metadata": {
        "id": "varied-final"
      },
      "outputs": [],
      "source": [
        "X_train_scaled = scaler.transform(X_train) # Apply transform according to fit\n",
        "X_test_scaled = scaler.transform(X_test)"
      ]
    },
    {
      "cell_type": "markdown",
      "id": "ancient-contributor",
      "metadata": {
        "id": "ancient-contributor"
      },
      "source": [
        "## <span style='color:red'> Ridge Regression</span> "
      ]
    },
    {
      "cell_type": "code",
      "execution_count": 18,
      "id": "involved-dylan",
      "metadata": {
        "id": "involved-dylan"
      },
      "outputs": [],
      "source": [
        "# Overfitting i engellemek için bir yapı geliştiriyordu Ridge\n",
        "\n",
        "from sklearn.linear_model import Ridge"
      ]
    },
    {
      "cell_type": "code",
      "execution_count": 19,
      "id": "d173a0bb",
      "metadata": {
        "id": "d173a0bb"
      },
      "outputs": [],
      "source": [
        "from sklearn.metrics import mean_absolute_error, mean_squared_error, r2_score\n",
        "\n",
        "def train_val(y_train, y_train_pred, y_test, y_pred, name):\n",
        "    \n",
        "    scores = {name+\"_train\": {\"R2\" : r2_score(y_train, y_train_pred),\n",
        "    \"mae\" : mean_absolute_error(y_train, y_train_pred),\n",
        "    \"mse\" : mean_squared_error(y_train, y_train_pred),                          \n",
        "    \"rmse\" : np.sqrt(mean_squared_error(y_train, y_train_pred))},\n",
        "    \n",
        "    name+\"_test\": {\"R2\" : r2_score(y_test, y_pred),\n",
        "    \"mae\" : mean_absolute_error(y_test, y_pred),\n",
        "    \"mse\" : mean_squared_error(y_test, y_pred),\n",
        "    \"rmse\" : np.sqrt(mean_squared_error(y_test, y_pred))}}\n",
        "    \n",
        "    return pd.DataFrame(scores)"
      ]
    },
    {
      "cell_type": "code",
      "execution_count": 20,
      "id": "romance-interpretation",
      "metadata": {
        "id": "romance-interpretation"
      },
      "outputs": [],
      "source": [
        "ridge_model = Ridge(alpha=1, random_state=42)  \n",
        "# ridge modeli lineer regression gibi bir model\n",
        "# alpha=1 default değeri zaten, onun için yazmasak da olur"
      ]
    },
    {
      "cell_type": "code",
      "execution_count": 22,
      "id": "cfeb8308",
      "metadata": {},
      "outputs": [],
      "source": [
        "# help (Ridge)"
      ]
    },
    {
      "cell_type": "code",
      "execution_count": 23,
      "id": "genuine-george",
      "metadata": {
        "id": "genuine-george",
        "outputId": "9613d17f-1aba-47e3-a4ae-d2e8b1308e7e"
      },
      "outputs": [
        {
          "data": {
            "text/html": [
              "<style>#sk-container-id-2 {color: black;background-color: white;}#sk-container-id-2 pre{padding: 0;}#sk-container-id-2 div.sk-toggleable {background-color: white;}#sk-container-id-2 label.sk-toggleable__label {cursor: pointer;display: block;width: 100%;margin-bottom: 0;padding: 0.3em;box-sizing: border-box;text-align: center;}#sk-container-id-2 label.sk-toggleable__label-arrow:before {content: \"▸\";float: left;margin-right: 0.25em;color: #696969;}#sk-container-id-2 label.sk-toggleable__label-arrow:hover:before {color: black;}#sk-container-id-2 div.sk-estimator:hover label.sk-toggleable__label-arrow:before {color: black;}#sk-container-id-2 div.sk-toggleable__content {max-height: 0;max-width: 0;overflow: hidden;text-align: left;background-color: #f0f8ff;}#sk-container-id-2 div.sk-toggleable__content pre {margin: 0.2em;color: black;border-radius: 0.25em;background-color: #f0f8ff;}#sk-container-id-2 input.sk-toggleable__control:checked~div.sk-toggleable__content {max-height: 200px;max-width: 100%;overflow: auto;}#sk-container-id-2 input.sk-toggleable__control:checked~label.sk-toggleable__label-arrow:before {content: \"▾\";}#sk-container-id-2 div.sk-estimator input.sk-toggleable__control:checked~label.sk-toggleable__label {background-color: #d4ebff;}#sk-container-id-2 div.sk-label input.sk-toggleable__control:checked~label.sk-toggleable__label {background-color: #d4ebff;}#sk-container-id-2 input.sk-hidden--visually {border: 0;clip: rect(1px 1px 1px 1px);clip: rect(1px, 1px, 1px, 1px);height: 1px;margin: -1px;overflow: hidden;padding: 0;position: absolute;width: 1px;}#sk-container-id-2 div.sk-estimator {font-family: monospace;background-color: #f0f8ff;border: 1px dotted black;border-radius: 0.25em;box-sizing: border-box;margin-bottom: 0.5em;}#sk-container-id-2 div.sk-estimator:hover {background-color: #d4ebff;}#sk-container-id-2 div.sk-parallel-item::after {content: \"\";width: 100%;border-bottom: 1px solid gray;flex-grow: 1;}#sk-container-id-2 div.sk-label:hover label.sk-toggleable__label {background-color: #d4ebff;}#sk-container-id-2 div.sk-serial::before {content: \"\";position: absolute;border-left: 1px solid gray;box-sizing: border-box;top: 0;bottom: 0;left: 50%;z-index: 0;}#sk-container-id-2 div.sk-serial {display: flex;flex-direction: column;align-items: center;background-color: white;padding-right: 0.2em;padding-left: 0.2em;position: relative;}#sk-container-id-2 div.sk-item {position: relative;z-index: 1;}#sk-container-id-2 div.sk-parallel {display: flex;align-items: stretch;justify-content: center;background-color: white;position: relative;}#sk-container-id-2 div.sk-item::before, #sk-container-id-2 div.sk-parallel-item::before {content: \"\";position: absolute;border-left: 1px solid gray;box-sizing: border-box;top: 0;bottom: 0;left: 50%;z-index: -1;}#sk-container-id-2 div.sk-parallel-item {display: flex;flex-direction: column;z-index: 1;position: relative;background-color: white;}#sk-container-id-2 div.sk-parallel-item:first-child::after {align-self: flex-end;width: 50%;}#sk-container-id-2 div.sk-parallel-item:last-child::after {align-self: flex-start;width: 50%;}#sk-container-id-2 div.sk-parallel-item:only-child::after {width: 0;}#sk-container-id-2 div.sk-dashed-wrapped {border: 1px dashed gray;margin: 0 0.4em 0.5em 0.4em;box-sizing: border-box;padding-bottom: 0.4em;background-color: white;}#sk-container-id-2 div.sk-label label {font-family: monospace;font-weight: bold;display: inline-block;line-height: 1.2em;}#sk-container-id-2 div.sk-label-container {text-align: center;}#sk-container-id-2 div.sk-container {/* jupyter's `normalize.less` sets `[hidden] { display: none; }` but bootstrap.min.css set `[hidden] { display: none !important; }` so we also need the `!important` here to be able to override the default hidden behavior on the sphinx rendered scikit-learn.org. See: https://github.com/scikit-learn/scikit-learn/issues/21755 */display: inline-block !important;position: relative;}#sk-container-id-2 div.sk-text-repr-fallback {display: none;}</style><div id=\"sk-container-id-2\" class=\"sk-top-container\"><div class=\"sk-text-repr-fallback\"><pre>Ridge(alpha=1, random_state=42)</pre><b>In a Jupyter environment, please rerun this cell to show the HTML representation or trust the notebook. <br />On GitHub, the HTML representation is unable to render, please try loading this page with nbviewer.org.</b></div><div class=\"sk-container\" hidden><div class=\"sk-item\"><div class=\"sk-estimator sk-toggleable\"><input class=\"sk-toggleable__control sk-hidden--visually\" id=\"sk-estimator-id-2\" type=\"checkbox\" checked><label for=\"sk-estimator-id-2\" class=\"sk-toggleable__label sk-toggleable__label-arrow\">Ridge</label><div class=\"sk-toggleable__content\"><pre>Ridge(alpha=1, random_state=42)</pre></div></div></div></div></div>"
            ],
            "text/plain": [
              "Ridge(alpha=1, random_state=42)"
            ]
          },
          "execution_count": 23,
          "metadata": {},
          "output_type": "execute_result"
        }
      ],
      "source": [
        "ridge_model.fit(X_train_scaled, y_train)"
      ]
    },
    {
      "cell_type": "code",
      "execution_count": 24,
      "id": "executed-bottle",
      "metadata": {
        "id": "executed-bottle"
      },
      "outputs": [],
      "source": [
        "y_pred = ridge_model.predict(X_test_scaled)\n",
        "y_train_pred = ridge_model.predict(X_train_scaled)"
      ]
    },
    {
      "cell_type": "code",
      "execution_count": 25,
      "id": "29a473f1",
      "metadata": {
        "id": "29a473f1",
        "outputId": "7f3c75f8-fa14-4e2e-9b52-1e0fd40a7aa9"
      },
      "outputs": [
        {
          "data": {
            "text/html": [
              "<div>\n",
              "<style scoped>\n",
              "    .dataframe tbody tr th:only-of-type {\n",
              "        vertical-align: middle;\n",
              "    }\n",
              "\n",
              "    .dataframe tbody tr th {\n",
              "        vertical-align: top;\n",
              "    }\n",
              "\n",
              "    .dataframe thead th {\n",
              "        text-align: right;\n",
              "    }\n",
              "</style>\n",
              "<table border=\"1\" class=\"dataframe\">\n",
              "  <thead>\n",
              "    <tr style=\"text-align: right;\">\n",
              "      <th></th>\n",
              "      <th>ridge_train</th>\n",
              "      <th>ridge_test</th>\n",
              "    </tr>\n",
              "  </thead>\n",
              "  <tbody>\n",
              "    <tr>\n",
              "      <th>R2</th>\n",
              "      <td>0.988677</td>\n",
              "      <td>0.982511</td>\n",
              "    </tr>\n",
              "    <tr>\n",
              "      <th>mae</th>\n",
              "      <td>0.338149</td>\n",
              "      <td>0.482446</td>\n",
              "    </tr>\n",
              "    <tr>\n",
              "      <th>mse</th>\n",
              "      <td>0.297970</td>\n",
              "      <td>0.493743</td>\n",
              "    </tr>\n",
              "    <tr>\n",
              "      <th>rmse</th>\n",
              "      <td>0.545866</td>\n",
              "      <td>0.702669</td>\n",
              "    </tr>\n",
              "  </tbody>\n",
              "</table>\n",
              "</div>"
            ],
            "text/plain": [
              "      ridge_train  ridge_test\n",
              "R2       0.988677    0.982511\n",
              "mae      0.338149    0.482446\n",
              "mse      0.297970    0.493743\n",
              "rmse     0.545866    0.702669"
            ]
          },
          "execution_count": 25,
          "metadata": {},
          "output_type": "execute_result"
        }
      ],
      "source": [
        "rs = train_val(y_train, y_train_pred, y_test, y_pred, \"ridge\")\n",
        "rs\n",
        "# Alttaki Comparision kısmı eski sonuçlar\n",
        "# Bizim çıktımız yeni sonuçlar\n",
        "# Sonuçta Ridge kullandığımız için overfitting den kurtulduğumuzu söyleyebiliriz\n",
        "# Burada bias de düşük, varyansta düşük. Good-fitting oldu\n",
        "# Acaba sonuçlarım doğru mu diye cross-validation a bakalım bir de"
      ]
    },
    {
      "cell_type": "markdown",
      "id": "c4fd3b5e",
      "metadata": {
        "id": "c4fd3b5e"
      },
      "source": [
        "#### Comparision"
      ]
    },
    {
      "cell_type": "code",
      "execution_count": 26,
      "id": "21556536",
      "metadata": {
        "id": "21556536"
      },
      "outputs": [],
      "source": [
        "# pd.concat([ls, rs], axis=1)\n",
        "\n",
        "#    linear_train\tlinear_test\tridge_train\tridge_test\n",
        "# R2\t0.997607\t0.764990\t0.988677\t0.982511\n",
        "# mae\t0.186213\t0.665959\t0.338149\t0.482446\n",
        "# mse\t0.062968\t6.634847\t0.297970\t0.493743\n",
        "# rmse  0.250934\t2.575820\t0.545866\t0.702669"
      ]
    },
    {
      "cell_type": "markdown",
      "id": "previous-mineral",
      "metadata": {
        "id": "previous-mineral"
      },
      "source": [
        "## Cross Validation (alpha = 1) "
      ]
    },
    {
      "cell_type": "code",
      "execution_count": null,
      "id": "185ea99f",
      "metadata": {
        "id": "185ea99f"
      },
      "outputs": [],
      "source": [
        "from sklearn.model_selection import cross_validate"
      ]
    },
    {
      "cell_type": "code",
      "execution_count": null,
      "id": "broke-assets",
      "metadata": {
        "id": "broke-assets"
      },
      "outputs": [],
      "source": [
        "model = Ridge(alpha=1, random_state=42)\n",
        "scores = cross_validate(model, X_train_scaled, y_train,\n",
        "                    scoring=['r2', 'neg_mean_absolute_error','neg_mean_squared_error','neg_root_mean_squared_error'], cv=5)"
      ]
    },
    {
      "cell_type": "code",
      "execution_count": null,
      "id": "fa3df1b2",
      "metadata": {
        "id": "fa3df1b2",
        "outputId": "52361c35-9f7f-482e-8e72-390d26066c79"
      },
      "outputs": [
        {
          "data": {
            "text/html": [
              "<div>\n",
              "<style scoped>\n",
              "    .dataframe tbody tr th:only-of-type {\n",
              "        vertical-align: middle;\n",
              "    }\n",
              "\n",
              "    .dataframe tbody tr th {\n",
              "        vertical-align: top;\n",
              "    }\n",
              "\n",
              "    .dataframe thead th {\n",
              "        text-align: right;\n",
              "    }\n",
              "</style>\n",
              "<table border=\"1\" class=\"dataframe\">\n",
              "  <thead>\n",
              "    <tr style=\"text-align: right;\">\n",
              "      <th></th>\n",
              "      <th>fit_time</th>\n",
              "      <th>score_time</th>\n",
              "      <th>test_r2</th>\n",
              "      <th>test_neg_mean_absolute_error</th>\n",
              "      <th>test_neg_mean_squared_error</th>\n",
              "      <th>test_neg_root_mean_squared_error</th>\n",
              "    </tr>\n",
              "  </thead>\n",
              "  <tbody>\n",
              "    <tr>\n",
              "      <th>1</th>\n",
              "      <td>0.002604</td>\n",
              "      <td>0.001835</td>\n",
              "      <td>0.988913</td>\n",
              "      <td>-0.405789</td>\n",
              "      <td>-0.336840</td>\n",
              "      <td>-0.580379</td>\n",
              "    </tr>\n",
              "    <tr>\n",
              "      <th>2</th>\n",
              "      <td>0.001380</td>\n",
              "      <td>0.001493</td>\n",
              "      <td>0.969951</td>\n",
              "      <td>-0.551469</td>\n",
              "      <td>-0.677493</td>\n",
              "      <td>-0.823099</td>\n",
              "    </tr>\n",
              "    <tr>\n",
              "      <th>3</th>\n",
              "      <td>0.001674</td>\n",
              "      <td>0.002225</td>\n",
              "      <td>0.950978</td>\n",
              "      <td>-0.552320</td>\n",
              "      <td>-1.360795</td>\n",
              "      <td>-1.166531</td>\n",
              "    </tr>\n",
              "    <tr>\n",
              "      <th>4</th>\n",
              "      <td>0.013331</td>\n",
              "      <td>0.001537</td>\n",
              "      <td>0.991259</td>\n",
              "      <td>-0.365106</td>\n",
              "      <td>-0.237919</td>\n",
              "      <td>-0.487769</td>\n",
              "    </tr>\n",
              "    <tr>\n",
              "      <th>5</th>\n",
              "      <td>0.001154</td>\n",
              "      <td>0.001356</td>\n",
              "      <td>0.986854</td>\n",
              "      <td>-0.343011</td>\n",
              "      <td>-0.243072</td>\n",
              "      <td>-0.493023</td>\n",
              "    </tr>\n",
              "  </tbody>\n",
              "</table>\n",
              "</div>"
            ],
            "text/plain": [
              "   fit_time  score_time   test_r2  test_neg_mean_absolute_error  \\\n",
              "1  0.002604    0.001835  0.988913                     -0.405789   \n",
              "2  0.001380    0.001493  0.969951                     -0.551469   \n",
              "3  0.001674    0.002225  0.950978                     -0.552320   \n",
              "4  0.013331    0.001537  0.991259                     -0.365106   \n",
              "5  0.001154    0.001356  0.986854                     -0.343011   \n",
              "\n",
              "   test_neg_mean_squared_error  test_neg_root_mean_squared_error  \n",
              "1                    -0.336840                         -0.580379  \n",
              "2                    -0.677493                         -0.823099  \n",
              "3                    -1.360795                         -1.166531  \n",
              "4                    -0.237919                         -0.487769  \n",
              "5                    -0.243072                         -0.493023  "
            ]
          },
          "execution_count": 40,
          "metadata": {},
          "output_type": "execute_result"
        }
      ],
      "source": [
        "pd.DataFrame(scores, index = range(1, 6))"
      ]
    },
    {
      "cell_type": "code",
      "execution_count": null,
      "id": "comic-hazard",
      "metadata": {
        "id": "comic-hazard",
        "outputId": "a4852093-69e0-4918-caa8-d5937549a597"
      },
      "outputs": [
        {
          "data": {
            "text/plain": [
              "test_r2                             0.977591\n",
              "test_neg_mean_absolute_error       -0.443539\n",
              "test_neg_mean_squared_error        -0.571224\n",
              "test_neg_root_mean_squared_error   -0.710160\n",
              "dtype: float64"
            ]
          },
          "execution_count": 41,
          "metadata": {},
          "output_type": "execute_result"
        }
      ],
      "source": [
        "scores = pd.DataFrame(scores, index = range(1, 6))\n",
        "scores.iloc[:,2:].mean()\n",
        "# Yukarda 0.98 di, burada 0.97 bulduk r2 yi. Yani sonuçlar tutarlı\n",
        "# CV ile sonucumuzu doğrulamış olduk.\n",
        "# negatifleri görmezden gelebiliriz, karşılaştırırken. öyle de yazdırabilirdik ama çok da önemli değil.\n",
        "# John Hoca: Patron sorarsa gerçek sonuç nedir diye. 0.97 deriz.\n",
        "# Çok hassas bir şekilde sonuç isterseniz CV kullanılmalı"
      ]
    },
    {
      "cell_type": "code",
      "execution_count": null,
      "id": "68ab7268",
      "metadata": {
        "id": "68ab7268",
        "outputId": "7684b3e1-0b62-4c3b-99c4-eef61b0f903c"
      },
      "outputs": [
        {
          "data": {
            "text/html": [
              "<div>\n",
              "<style scoped>\n",
              "    .dataframe tbody tr th:only-of-type {\n",
              "        vertical-align: middle;\n",
              "    }\n",
              "\n",
              "    .dataframe tbody tr th {\n",
              "        vertical-align: top;\n",
              "    }\n",
              "\n",
              "    .dataframe thead th {\n",
              "        text-align: right;\n",
              "    }\n",
              "</style>\n",
              "<table border=\"1\" class=\"dataframe\">\n",
              "  <thead>\n",
              "    <tr style=\"text-align: right;\">\n",
              "      <th></th>\n",
              "      <th>ridge_train</th>\n",
              "      <th>ridge_test</th>\n",
              "    </tr>\n",
              "  </thead>\n",
              "  <tbody>\n",
              "    <tr>\n",
              "      <th>R2</th>\n",
              "      <td>0.988677</td>\n",
              "      <td>0.982511</td>\n",
              "    </tr>\n",
              "    <tr>\n",
              "      <th>mae</th>\n",
              "      <td>0.338149</td>\n",
              "      <td>0.482446</td>\n",
              "    </tr>\n",
              "    <tr>\n",
              "      <th>mse</th>\n",
              "      <td>0.297970</td>\n",
              "      <td>0.493743</td>\n",
              "    </tr>\n",
              "    <tr>\n",
              "      <th>rmse</th>\n",
              "      <td>0.545866</td>\n",
              "      <td>0.702669</td>\n",
              "    </tr>\n",
              "  </tbody>\n",
              "</table>\n",
              "</div>"
            ],
            "text/plain": [
              "      ridge_train  ridge_test\n",
              "R2       0.988677    0.982511\n",
              "mae      0.338149    0.482446\n",
              "mse      0.297970    0.493743\n",
              "rmse     0.545866    0.702669"
            ]
          },
          "execution_count": 42,
          "metadata": {},
          "output_type": "execute_result"
        }
      ],
      "source": [
        "train_val(y_train, y_train_pred, y_test, y_pred, \"ridge\")"
      ]
    },
    {
      "cell_type": "code",
      "execution_count": null,
      "id": "friendly-plain",
      "metadata": {
        "id": "friendly-plain",
        "outputId": "eb88c514-1757-400a-f029-5c6372c1ca3d"
      },
      "outputs": [
        {
          "data": {
            "text/plain": [
              "<AxesSubplot:>"
            ]
          },
          "execution_count": 43,
          "metadata": {},
          "output_type": "execute_result"
        },
        {
          "data": {
            "image/png": "[encoded data removed]",
            "text/plain": [
              "<Figure size 720x432 with 1 Axes>"
            ]
          },
          "metadata": {
            "needs_background": "light"
          },
          "output_type": "display_data"
        }
      ],
      "source": [
        "sns.lineplot(data = scores.iloc[:,2:])"
      ]
    },
    {
      "cell_type": "code",
      "execution_count": null,
      "id": "neither-carry",
      "metadata": {
        "id": "neither-carry",
        "outputId": "0e4976e4-c39a-4977-8182-3cec0ce831b3"
      },
      "outputs": [
        {
          "data": {
            "text/plain": [
              "array([ 3.42882194e+00,  6.89086255e-01,  1.70305310e-01, -9.10849850e-01,\n",
              "        2.72307731e+00,  1.12909099e-01, -4.04686020e-01,  2.87949856e-01,\n",
              "       -9.19372975e-02, -1.01453529e+00, -7.53444103e-02, -7.08634181e-01,\n",
              "        1.47325425e+00,  1.48905234e-01,  5.40673712e-03, -4.71916072e-01,\n",
              "        3.11276849e-02, -9.14237139e-02,  1.09396990e-01, -2.94351259e-01,\n",
              "       -6.99938835e-02, -1.79886016e-01, -4.82892097e-01, -2.41549754e-01,\n",
              "       -7.04618089e-02,  7.81238085e-01, -3.29077891e-02,  2.16163202e-03,\n",
              "       -2.86797937e-02, -1.86742942e-01,  1.13037228e-02, -7.09241901e-02,\n",
              "       -3.59743483e-02,  1.26281214e-01,  4.53132216e-01,  4.90793990e-01,\n",
              "        4.92974171e-01, -2.88060554e-01,  2.71083972e-01,  3.21890659e-01,\n",
              "       -8.29982648e-01, -2.03685335e-01,  1.35189763e-01, -9.80952741e-03,\n",
              "        3.54289982e-01, -1.69829768e-01,  1.01346413e-01, -3.94717549e-02,\n",
              "       -2.36644809e-01,  1.65346682e-01,  3.01969498e-02,  9.30440340e-03,\n",
              "        2.46705050e-02, -5.07155436e-02, -4.15547626e-02])"
            ]
          },
          "execution_count": 44,
          "metadata": {},
          "output_type": "execute_result"
        }
      ],
      "source": [
        "ridge_model.coef_"
      ]
    },
    {
      "cell_type": "code",
      "execution_count": null,
      "id": "centered-syndicate",
      "metadata": {
        "id": "centered-syndicate",
        "outputId": "3cf5681c-1446-44e5-e1ab-2e01089241a1"
      },
      "outputs": [
        {
          "data": {
            "text/html": [
              "<div>\n",
              "<style scoped>\n",
              "    .dataframe tbody tr th:only-of-type {\n",
              "        vertical-align: middle;\n",
              "    }\n",
              "\n",
              "    .dataframe tbody tr th {\n",
              "        vertical-align: top;\n",
              "    }\n",
              "\n",
              "    .dataframe thead th {\n",
              "        text-align: right;\n",
              "    }\n",
              "</style>\n",
              "<table border=\"1\" class=\"dataframe\">\n",
              "  <thead>\n",
              "    <tr style=\"text-align: right;\">\n",
              "      <th></th>\n",
              "      <th>ridge_coef_1</th>\n",
              "    </tr>\n",
              "  </thead>\n",
              "  <tbody>\n",
              "    <tr>\n",
              "      <th>0</th>\n",
              "      <td>3.428822</td>\n",
              "    </tr>\n",
              "    <tr>\n",
              "      <th>1</th>\n",
              "      <td>0.689086</td>\n",
              "    </tr>\n",
              "    <tr>\n",
              "      <th>2</th>\n",
              "      <td>0.170305</td>\n",
              "    </tr>\n",
              "    <tr>\n",
              "      <th>3</th>\n",
              "      <td>-0.910850</td>\n",
              "    </tr>\n",
              "    <tr>\n",
              "      <th>4</th>\n",
              "      <td>2.723077</td>\n",
              "    </tr>\n",
              "    <tr>\n",
              "      <th>5</th>\n",
              "      <td>0.112909</td>\n",
              "    </tr>\n",
              "    <tr>\n",
              "      <th>6</th>\n",
              "      <td>-0.404686</td>\n",
              "    </tr>\n",
              "    <tr>\n",
              "      <th>7</th>\n",
              "      <td>0.287950</td>\n",
              "    </tr>\n",
              "    <tr>\n",
              "      <th>8</th>\n",
              "      <td>-0.091937</td>\n",
              "    </tr>\n",
              "    <tr>\n",
              "      <th>9</th>\n",
              "      <td>-1.014535</td>\n",
              "    </tr>\n",
              "    <tr>\n",
              "      <th>10</th>\n",
              "      <td>-0.075344</td>\n",
              "    </tr>\n",
              "    <tr>\n",
              "      <th>11</th>\n",
              "      <td>-0.708634</td>\n",
              "    </tr>\n",
              "    <tr>\n",
              "      <th>12</th>\n",
              "      <td>1.473254</td>\n",
              "    </tr>\n",
              "    <tr>\n",
              "      <th>13</th>\n",
              "      <td>0.148905</td>\n",
              "    </tr>\n",
              "    <tr>\n",
              "      <th>14</th>\n",
              "      <td>0.005407</td>\n",
              "    </tr>\n",
              "    <tr>\n",
              "      <th>15</th>\n",
              "      <td>-0.471916</td>\n",
              "    </tr>\n",
              "    <tr>\n",
              "      <th>16</th>\n",
              "      <td>0.031128</td>\n",
              "    </tr>\n",
              "    <tr>\n",
              "      <th>17</th>\n",
              "      <td>-0.091424</td>\n",
              "    </tr>\n",
              "    <tr>\n",
              "      <th>18</th>\n",
              "      <td>0.109397</td>\n",
              "    </tr>\n",
              "    <tr>\n",
              "      <th>19</th>\n",
              "      <td>-0.294351</td>\n",
              "    </tr>\n",
              "    <tr>\n",
              "      <th>20</th>\n",
              "      <td>-0.069994</td>\n",
              "    </tr>\n",
              "    <tr>\n",
              "      <th>21</th>\n",
              "      <td>-0.179886</td>\n",
              "    </tr>\n",
              "    <tr>\n",
              "      <th>22</th>\n",
              "      <td>-0.482892</td>\n",
              "    </tr>\n",
              "    <tr>\n",
              "      <th>23</th>\n",
              "      <td>-0.241550</td>\n",
              "    </tr>\n",
              "    <tr>\n",
              "      <th>24</th>\n",
              "      <td>-0.070462</td>\n",
              "    </tr>\n",
              "    <tr>\n",
              "      <th>25</th>\n",
              "      <td>0.781238</td>\n",
              "    </tr>\n",
              "    <tr>\n",
              "      <th>26</th>\n",
              "      <td>-0.032908</td>\n",
              "    </tr>\n",
              "    <tr>\n",
              "      <th>27</th>\n",
              "      <td>0.002162</td>\n",
              "    </tr>\n",
              "    <tr>\n",
              "      <th>28</th>\n",
              "      <td>-0.028680</td>\n",
              "    </tr>\n",
              "    <tr>\n",
              "      <th>29</th>\n",
              "      <td>-0.186743</td>\n",
              "    </tr>\n",
              "    <tr>\n",
              "      <th>30</th>\n",
              "      <td>0.011304</td>\n",
              "    </tr>\n",
              "    <tr>\n",
              "      <th>31</th>\n",
              "      <td>-0.070924</td>\n",
              "    </tr>\n",
              "    <tr>\n",
              "      <th>32</th>\n",
              "      <td>-0.035974</td>\n",
              "    </tr>\n",
              "    <tr>\n",
              "      <th>33</th>\n",
              "      <td>0.126281</td>\n",
              "    </tr>\n",
              "    <tr>\n",
              "      <th>34</th>\n",
              "      <td>0.453132</td>\n",
              "    </tr>\n",
              "    <tr>\n",
              "      <th>35</th>\n",
              "      <td>0.490794</td>\n",
              "    </tr>\n",
              "    <tr>\n",
              "      <th>36</th>\n",
              "      <td>0.492974</td>\n",
              "    </tr>\n",
              "    <tr>\n",
              "      <th>37</th>\n",
              "      <td>-0.288061</td>\n",
              "    </tr>\n",
              "    <tr>\n",
              "      <th>38</th>\n",
              "      <td>0.271084</td>\n",
              "    </tr>\n",
              "    <tr>\n",
              "      <th>39</th>\n",
              "      <td>0.321891</td>\n",
              "    </tr>\n",
              "    <tr>\n",
              "      <th>40</th>\n",
              "      <td>-0.829983</td>\n",
              "    </tr>\n",
              "    <tr>\n",
              "      <th>41</th>\n",
              "      <td>-0.203685</td>\n",
              "    </tr>\n",
              "    <tr>\n",
              "      <th>42</th>\n",
              "      <td>0.135190</td>\n",
              "    </tr>\n",
              "    <tr>\n",
              "      <th>43</th>\n",
              "      <td>-0.009810</td>\n",
              "    </tr>\n",
              "    <tr>\n",
              "      <th>44</th>\n",
              "      <td>0.354290</td>\n",
              "    </tr>\n",
              "    <tr>\n",
              "      <th>45</th>\n",
              "      <td>-0.169830</td>\n",
              "    </tr>\n",
              "    <tr>\n",
              "      <th>46</th>\n",
              "      <td>0.101346</td>\n",
              "    </tr>\n",
              "    <tr>\n",
              "      <th>47</th>\n",
              "      <td>-0.039472</td>\n",
              "    </tr>\n",
              "    <tr>\n",
              "      <th>48</th>\n",
              "      <td>-0.236645</td>\n",
              "    </tr>\n",
              "    <tr>\n",
              "      <th>49</th>\n",
              "      <td>0.165347</td>\n",
              "    </tr>\n",
              "    <tr>\n",
              "      <th>50</th>\n",
              "      <td>0.030197</td>\n",
              "    </tr>\n",
              "    <tr>\n",
              "      <th>51</th>\n",
              "      <td>0.009304</td>\n",
              "    </tr>\n",
              "    <tr>\n",
              "      <th>52</th>\n",
              "      <td>0.024671</td>\n",
              "    </tr>\n",
              "    <tr>\n",
              "      <th>53</th>\n",
              "      <td>-0.050716</td>\n",
              "    </tr>\n",
              "    <tr>\n",
              "      <th>54</th>\n",
              "      <td>-0.041555</td>\n",
              "    </tr>\n",
              "  </tbody>\n",
              "</table>\n",
              "</div>"
            ],
            "text/plain": [
              "    ridge_coef_1\n",
              "0       3.428822\n",
              "1       0.689086\n",
              "2       0.170305\n",
              "3      -0.910850\n",
              "4       2.723077\n",
              "5       0.112909\n",
              "6      -0.404686\n",
              "7       0.287950\n",
              "8      -0.091937\n",
              "9      -1.014535\n",
              "10     -0.075344\n",
              "11     -0.708634\n",
              "12      1.473254\n",
              "13      0.148905\n",
              "14      0.005407\n",
              "15     -0.471916\n",
              "16      0.031128\n",
              "17     -0.091424\n",
              "18      0.109397\n",
              "19     -0.294351\n",
              "20     -0.069994\n",
              "21     -0.179886\n",
              "22     -0.482892\n",
              "23     -0.241550\n",
              "24     -0.070462\n",
              "25      0.781238\n",
              "26     -0.032908\n",
              "27      0.002162\n",
              "28     -0.028680\n",
              "29     -0.186743\n",
              "30      0.011304\n",
              "31     -0.070924\n",
              "32     -0.035974\n",
              "33      0.126281\n",
              "34      0.453132\n",
              "35      0.490794\n",
              "36      0.492974\n",
              "37     -0.288061\n",
              "38      0.271084\n",
              "39      0.321891\n",
              "40     -0.829983\n",
              "41     -0.203685\n",
              "42      0.135190\n",
              "43     -0.009810\n",
              "44      0.354290\n",
              "45     -0.169830\n",
              "46      0.101346\n",
              "47     -0.039472\n",
              "48     -0.236645\n",
              "49      0.165347\n",
              "50      0.030197\n",
              "51      0.009304\n",
              "52      0.024671\n",
              "53     -0.050716\n",
              "54     -0.041555"
            ]
          },
          "execution_count": 54,
          "metadata": {},
          "output_type": "execute_result"
        }
      ],
      "source": [
        "rm_df = pd.DataFrame(ridge_model.coef_, columns = [\"ridge_coef_1\"])\n",
        "rm_df\n",
        "# Buradaki coefficientlar artık daha sağlıklı. çünkü multicollinearity ile mücadele edildi.\n",
        "# Ridge de hiç biri sfır olmaz, sıfıra çok yaklaşabilir. (karesini kullandığı için)"
      ]
    },
    {
      "cell_type": "markdown",
      "id": "premier-center",
      "metadata": {
        "id": "premier-center"
      },
      "source": [
        "## Choosing best alpha value by RidgeCV"
      ]
    },
    {
      "cell_type": "code",
      "execution_count": null,
      "id": "satisfied-maple",
      "metadata": {
        "id": "satisfied-maple"
      },
      "outputs": [],
      "source": [
        "from sklearn.linear_model import RidgeCV\n",
        "\n",
        "# grid search işlemi yapıyor ama buna has\n",
        "# Hiperparametreyi optimize edeceğiz gridsearch ile\n",
        "# En uygun hyperparametreyi seçmek için kullanılan parametredir grid search\n",
        "# Burada RidgeCV diye bir metod var ona bakacağız önce. En uygun alpha yı CV yaparak buluyor"
      ]
    },
    {
      "cell_type": "code",
      "execution_count": null,
      "id": "sharing-martial",
      "metadata": {
        "id": "sharing-martial",
        "outputId": "83cff6b2-b5ea-4b61-da5e-adbabbb0374d"
      },
      "outputs": [
        {
          "data": {
            "text/plain": [
              "array([0.01, 0.02, 0.03, 0.04, 0.05, 0.06, 0.07, 0.08, 0.09, 0.1 , 0.11,\n",
              "       0.12, 0.13, 0.14, 0.15, 0.16, 0.17, 0.18, 0.19, 0.2 , 0.21, 0.22,\n",
              "       0.23, 0.24, 0.25, 0.26, 0.27, 0.28, 0.29, 0.3 , 0.31, 0.32, 0.33,\n",
              "       0.34, 0.35, 0.36, 0.37, 0.38, 0.39, 0.4 , 0.41, 0.42, 0.43, 0.44,\n",
              "       0.45, 0.46, 0.47, 0.48, 0.49, 0.5 , 0.51, 0.52, 0.53, 0.54, 0.55,\n",
              "       0.56, 0.57, 0.58, 0.59, 0.6 , 0.61, 0.62, 0.63, 0.64, 0.65, 0.66,\n",
              "       0.67, 0.68, 0.69, 0.7 , 0.71, 0.72, 0.73, 0.74, 0.75, 0.76, 0.77,\n",
              "       0.78, 0.79, 0.8 , 0.81, 0.82, 0.83, 0.84, 0.85, 0.86, 0.87, 0.88,\n",
              "       0.89, 0.9 , 0.91, 0.92, 0.93, 0.94, 0.95, 0.96, 0.97, 0.98, 0.99,\n",
              "       1.  ])"
            ]
          },
          "execution_count": 33,
          "metadata": {},
          "output_type": "execute_result"
        }
      ],
      "source": [
        "alpha_space = np.linspace(0.01, 1, 100)  # Alpha kümesi oluşturalım\n",
        "alpha_space"
      ]
    },
    {
      "cell_type": "code",
      "execution_count": null,
      "id": "miniature-wildlife",
      "metadata": {
        "id": "miniature-wildlife"
      },
      "outputs": [],
      "source": [
        "ridge_cv_model = RidgeCV(alphas=alpha_space, cv = 5, scoring= \"neg_root_mean_squared_error\")\n",
        "\n",
        "# alphas=alpha_space : Bu değerlerde ara\n",
        "# CV= 5 olsun\n",
        "# scoring= \"neg_root_mean_squared_error\": Bu scora göre bak. NOT: Buraya sadece 1 score yazabiliyoruz.\n",
        "# .. maximize etmek için negatif aldık(neg_root_mean_squared_error)"
      ]
    },
    {
      "cell_type": "code",
      "execution_count": null,
      "id": "steady-import",
      "metadata": {
        "id": "steady-import",
        "outputId": "5dfa6aa8-6a82-40bb-b554-9a662f1eaaac"
      },
      "outputs": [
        {
          "data": {
            "text/plain": [
              "RidgeCV(alphas=array([0.01, 0.02, 0.03, 0.04, 0.05, 0.06, 0.07, 0.08, 0.09, 0.1 , 0.11,\n",
              "       0.12, 0.13, 0.14, 0.15, 0.16, 0.17, 0.18, 0.19, 0.2 , 0.21, 0.22,\n",
              "       0.23, 0.24, 0.25, 0.26, 0.27, 0.28, 0.29, 0.3 , 0.31, 0.32, 0.33,\n",
              "       0.34, 0.35, 0.36, 0.37, 0.38, 0.39, 0.4 , 0.41, 0.42, 0.43, 0.44,\n",
              "       0.45, 0.46, 0.47, 0.48, 0.49, 0.5 , 0.51, 0.52, 0.53, 0.54, 0.55,\n",
              "       0.56, 0.57, 0.58, 0.59, 0.6 , 0.61, 0.62, 0.63, 0.64, 0.65, 0.66,\n",
              "       0.67, 0.68, 0.69, 0.7 , 0.71, 0.72, 0.73, 0.74, 0.75, 0.76, 0.77,\n",
              "       0.78, 0.79, 0.8 , 0.81, 0.82, 0.83, 0.84, 0.85, 0.86, 0.87, 0.88,\n",
              "       0.89, 0.9 , 0.91, 0.92, 0.93, 0.94, 0.95, 0.96, 0.97, 0.98, 0.99,\n",
              "       1.  ]),\n",
              "        cv=5, scoring='neg_root_mean_squared_error')"
            ]
          },
          "execution_count": 35,
          "metadata": {},
          "output_type": "execute_result"
        }
      ],
      "source": [
        "ridge_cv_model.fit(X_train_scaled, y_train) # Eğitim yapıyoruz"
      ]
    },
    {
      "cell_type": "code",
      "execution_count": null,
      "id": "italic-backup",
      "metadata": {
        "id": "italic-backup",
        "outputId": "99364c05-8db7-4514-cc8e-32be2f4ba44f"
      },
      "outputs": [
        {
          "data": {
            "text/plain": [
              "0.02"
            ]
          },
          "execution_count": 36,
          "metadata": {},
          "output_type": "execute_result"
        }
      ],
      "source": [
        "ridge_cv_model.alpha_  # En uygun alpha değeri 0.02 olarak bulunmuş"
      ]
    },
    {
      "cell_type": "code",
      "execution_count": null,
      "id": "e4ff8617",
      "metadata": {
        "id": "e4ff8617",
        "outputId": "af890dd0-66cf-47e0-be36-5095608f1cc3"
      },
      "outputs": [
        {
          "data": {
            "text/plain": [
              "-0.6530406519552931"
            ]
          },
          "execution_count": 37,
          "metadata": {},
          "output_type": "execute_result"
        }
      ],
      "source": [
        "#rmse for ridge with CV\n",
        "ridge_cv_model.best_score_   \n",
        "\n",
        "# alpha=0.02 için bulunan en iyi score = -0.65 (R2)"
      ]
    },
    {
      "cell_type": "code",
      "execution_count": null,
      "id": "acknowledged-addition",
      "metadata": {
        "id": "acknowledged-addition"
      },
      "outputs": [],
      "source": [
        "y_pred = ridge_cv_model.predict(X_test_scaled)       # Bu scaled ile tahmin yapalım şimdi\n",
        "y_train_pred = ridge_cv_model.predict(X_train_scaled)"
      ]
    },
    {
      "cell_type": "code",
      "execution_count": null,
      "id": "c44c6386",
      "metadata": {
        "id": "c44c6386",
        "outputId": "eb718132-b17d-4713-b474-772931010ba6"
      },
      "outputs": [
        {
          "data": {
            "text/html": [
              "<div>\n",
              "<style scoped>\n",
              "    .dataframe tbody tr th:only-of-type {\n",
              "        vertical-align: middle;\n",
              "    }\n",
              "\n",
              "    .dataframe tbody tr th {\n",
              "        vertical-align: top;\n",
              "    }\n",
              "\n",
              "    .dataframe thead th {\n",
              "        text-align: right;\n",
              "    }\n",
              "</style>\n",
              "<table border=\"1\" class=\"dataframe\">\n",
              "  <thead>\n",
              "    <tr style=\"text-align: right;\">\n",
              "      <th></th>\n",
              "      <th>ridge_cv_train</th>\n",
              "      <th>ridge_cv_test</th>\n",
              "    </tr>\n",
              "  </thead>\n",
              "  <tbody>\n",
              "    <tr>\n",
              "      <th>R2</th>\n",
              "      <td>0.994491</td>\n",
              "      <td>0.983643</td>\n",
              "    </tr>\n",
              "    <tr>\n",
              "      <th>mae</th>\n",
              "      <td>0.244842</td>\n",
              "      <td>0.442087</td>\n",
              "    </tr>\n",
              "    <tr>\n",
              "      <th>mse</th>\n",
              "      <td>0.144977</td>\n",
              "      <td>0.461803</td>\n",
              "    </tr>\n",
              "    <tr>\n",
              "      <th>rmse</th>\n",
              "      <td>0.380758</td>\n",
              "      <td>0.679561</td>\n",
              "    </tr>\n",
              "  </tbody>\n",
              "</table>\n",
              "</div>"
            ],
            "text/plain": [
              "      ridge_cv_train  ridge_cv_test\n",
              "R2          0.994491       0.983643\n",
              "mae         0.244842       0.442087\n",
              "mse         0.144977       0.461803\n",
              "rmse        0.380758       0.679561"
            ]
          },
          "execution_count": 39,
          "metadata": {},
          "output_type": "execute_result"
        }
      ],
      "source": [
        "rcs = train_val(y_train, y_train_pred, y_test, y_pred, \"ridge_cv\")\n",
        "rcs"
      ]
    },
    {
      "cell_type": "code",
      "execution_count": null,
      "id": "controlled-improvement",
      "metadata": {
        "id": "controlled-improvement",
        "outputId": "ce1dcf0b-88bd-4263-a15e-a12ca8df7b3f"
      },
      "outputs": [
        {
          "data": {
            "text/html": [
              "<div>\n",
              "<style scoped>\n",
              "    .dataframe tbody tr th:only-of-type {\n",
              "        vertical-align: middle;\n",
              "    }\n",
              "\n",
              "    .dataframe tbody tr th {\n",
              "        vertical-align: top;\n",
              "    }\n",
              "\n",
              "    .dataframe thead th {\n",
              "        text-align: right;\n",
              "    }\n",
              "</style>\n",
              "<table border=\"1\" class=\"dataframe\">\n",
              "  <thead>\n",
              "    <tr style=\"text-align: right;\">\n",
              "      <th></th>\n",
              "      <th>ridge_train</th>\n",
              "      <th>ridge_test</th>\n",
              "      <th>ridge_cv_train</th>\n",
              "      <th>ridge_cv_test</th>\n",
              "    </tr>\n",
              "  </thead>\n",
              "  <tbody>\n",
              "    <tr>\n",
              "      <th>R2</th>\n",
              "      <td>0.988677</td>\n",
              "      <td>0.982511</td>\n",
              "      <td>0.994491</td>\n",
              "      <td>0.983643</td>\n",
              "    </tr>\n",
              "    <tr>\n",
              "      <th>mae</th>\n",
              "      <td>0.338149</td>\n",
              "      <td>0.482446</td>\n",
              "      <td>0.244842</td>\n",
              "      <td>0.442087</td>\n",
              "    </tr>\n",
              "    <tr>\n",
              "      <th>mse</th>\n",
              "      <td>0.297970</td>\n",
              "      <td>0.493743</td>\n",
              "      <td>0.144977</td>\n",
              "      <td>0.461803</td>\n",
              "    </tr>\n",
              "    <tr>\n",
              "      <th>rmse</th>\n",
              "      <td>0.545866</td>\n",
              "      <td>0.702669</td>\n",
              "      <td>0.380758</td>\n",
              "      <td>0.679561</td>\n",
              "    </tr>\n",
              "  </tbody>\n",
              "</table>\n",
              "</div>"
            ],
            "text/plain": [
              "      ridge_train  ridge_test  ridge_cv_train  ridge_cv_test\n",
              "R2       0.988677    0.982511        0.994491       0.983643\n",
              "mae      0.338149    0.482446        0.244842       0.442087\n",
              "mse      0.297970    0.493743        0.144977       0.461803\n",
              "rmse     0.545866    0.702669        0.380758       0.679561"
            ]
          },
          "execution_count": 40,
          "metadata": {},
          "output_type": "execute_result"
        }
      ],
      "source": [
        "pd.concat([rs, rcs], axis = 1) # R2 çok az artmış oldu 0.982511(ridge_test-r2) --> 0.983643(ridge_cv_test-r2)"
      ]
    },
    {
      "cell_type": "markdown",
      "id": "pressed-basket",
      "metadata": {
        "id": "pressed-basket"
      },
      "source": [
        "## <span style='color:red'> Lasso Regression</span> "
      ]
    },
    {
      "cell_type": "code",
      "execution_count": null,
      "id": "chicken-station",
      "metadata": {
        "id": "chicken-station"
      },
      "outputs": [],
      "source": [
        "# Aynı şeyleri Lasso ile yapalım\n",
        "from sklearn.linear_model import Lasso, LassoCV"
      ]
    },
    {
      "cell_type": "code",
      "execution_count": null,
      "id": "palestinian-render",
      "metadata": {
        "id": "palestinian-render",
        "outputId": "6c7660cf-7e3f-4379-ef8a-480d704029f5"
      },
      "outputs": [
        {
          "data": {
            "text/plain": [
              "Lasso(alpha=1, random_state=42)"
            ]
          },
          "execution_count": 42,
          "metadata": {},
          "output_type": "execute_result"
        }
      ],
      "source": [
        "lasso_model = Lasso(alpha=1, random_state=42)\n",
        "lasso_model.fit(X_train_scaled, y_train)"
      ]
    },
    {
      "cell_type": "code",
      "execution_count": null,
      "id": "ed8c466b",
      "metadata": {
        "id": "ed8c466b"
      },
      "outputs": [],
      "source": [
        "y_pred = lasso_model.predict(X_test_scaled)\n",
        "y_train_pred = lasso_model.predict(X_train_scaled)"
      ]
    },
    {
      "cell_type": "code",
      "execution_count": null,
      "id": "0e5d3326",
      "metadata": {
        "id": "0e5d3326",
        "outputId": "cdc09d78-2b2a-4766-cf3e-f28f1701896f"
      },
      "outputs": [
        {
          "data": {
            "text/html": [
              "<div>\n",
              "<style scoped>\n",
              "    .dataframe tbody tr th:only-of-type {\n",
              "        vertical-align: middle;\n",
              "    }\n",
              "\n",
              "    .dataframe tbody tr th {\n",
              "        vertical-align: top;\n",
              "    }\n",
              "\n",
              "    .dataframe thead th {\n",
              "        text-align: right;\n",
              "    }\n",
              "</style>\n",
              "<table border=\"1\" class=\"dataframe\">\n",
              "  <thead>\n",
              "    <tr style=\"text-align: right;\">\n",
              "      <th></th>\n",
              "      <th>lasso_train</th>\n",
              "      <th>lasso_test</th>\n",
              "    </tr>\n",
              "  </thead>\n",
              "  <tbody>\n",
              "    <tr>\n",
              "      <th>R2</th>\n",
              "      <td>0.919650</td>\n",
              "      <td>0.918590</td>\n",
              "    </tr>\n",
              "    <tr>\n",
              "      <th>mae</th>\n",
              "      <td>1.018355</td>\n",
              "      <td>1.017959</td>\n",
              "    </tr>\n",
              "    <tr>\n",
              "      <th>mse</th>\n",
              "      <td>2.114491</td>\n",
              "      <td>2.298390</td>\n",
              "    </tr>\n",
              "    <tr>\n",
              "      <th>rmse</th>\n",
              "      <td>1.454129</td>\n",
              "      <td>1.516044</td>\n",
              "    </tr>\n",
              "  </tbody>\n",
              "</table>\n",
              "</div>"
            ],
            "text/plain": [
              "      lasso_train  lasso_test\n",
              "R2       0.919650    0.918590\n",
              "mae      1.018355    1.017959\n",
              "mse      2.114491    2.298390\n",
              "rmse     1.454129    1.516044"
            ]
          },
          "execution_count": 44,
          "metadata": {},
          "output_type": "execute_result"
        }
      ],
      "source": [
        "lss = train_val(y_train, y_train_pred, y_test, y_pred, \"lasso\")\n",
        "lss # Bu scorumuz doğru mu diye CV ile test edeceğiz"
      ]
    },
    {
      "cell_type": "code",
      "execution_count": null,
      "id": "careful-assignment",
      "metadata": {
        "id": "careful-assignment",
        "outputId": "84eae8ac-2110-4cca-c35c-bc216d33de10"
      },
      "outputs": [
        {
          "data": {
            "text/html": [
              "<div>\n",
              "<style scoped>\n",
              "    .dataframe tbody tr th:only-of-type {\n",
              "        vertical-align: middle;\n",
              "    }\n",
              "\n",
              "    .dataframe tbody tr th {\n",
              "        vertical-align: top;\n",
              "    }\n",
              "\n",
              "    .dataframe thead th {\n",
              "        text-align: right;\n",
              "    }\n",
              "</style>\n",
              "<table border=\"1\" class=\"dataframe\">\n",
              "  <thead>\n",
              "    <tr style=\"text-align: right;\">\n",
              "      <th></th>\n",
              "      <th>ridge_train</th>\n",
              "      <th>ridge_test</th>\n",
              "      <th>ridge_cv_train</th>\n",
              "      <th>ridge_cv_test</th>\n",
              "      <th>lasso_train</th>\n",
              "      <th>lasso_test</th>\n",
              "    </tr>\n",
              "  </thead>\n",
              "  <tbody>\n",
              "    <tr>\n",
              "      <th>R2</th>\n",
              "      <td>0.988677</td>\n",
              "      <td>0.982511</td>\n",
              "      <td>0.994491</td>\n",
              "      <td>0.983643</td>\n",
              "      <td>0.919650</td>\n",
              "      <td>0.918590</td>\n",
              "    </tr>\n",
              "    <tr>\n",
              "      <th>mae</th>\n",
              "      <td>0.338149</td>\n",
              "      <td>0.482446</td>\n",
              "      <td>0.244842</td>\n",
              "      <td>0.442087</td>\n",
              "      <td>1.018355</td>\n",
              "      <td>1.017959</td>\n",
              "    </tr>\n",
              "    <tr>\n",
              "      <th>mse</th>\n",
              "      <td>0.297970</td>\n",
              "      <td>0.493743</td>\n",
              "      <td>0.144977</td>\n",
              "      <td>0.461803</td>\n",
              "      <td>2.114491</td>\n",
              "      <td>2.298390</td>\n",
              "    </tr>\n",
              "    <tr>\n",
              "      <th>rmse</th>\n",
              "      <td>0.545866</td>\n",
              "      <td>0.702669</td>\n",
              "      <td>0.380758</td>\n",
              "      <td>0.679561</td>\n",
              "      <td>1.454129</td>\n",
              "      <td>1.516044</td>\n",
              "    </tr>\n",
              "  </tbody>\n",
              "</table>\n",
              "</div>"
            ],
            "text/plain": [
              "      ridge_train  ridge_test  ridge_cv_train  ridge_cv_test  lasso_train  \\\n",
              "R2       0.988677    0.982511        0.994491       0.983643     0.919650   \n",
              "mae      0.338149    0.482446        0.244842       0.442087     1.018355   \n",
              "mse      0.297970    0.493743        0.144977       0.461803     2.114491   \n",
              "rmse     0.545866    0.702669        0.380758       0.679561     1.454129   \n",
              "\n",
              "      lasso_test  \n",
              "R2      0.918590  \n",
              "mae     1.017959  \n",
              "mse     2.298390  \n",
              "rmse    1.516044  "
            ]
          },
          "execution_count": 45,
          "metadata": {},
          "output_type": "execute_result"
        }
      ],
      "source": [
        "pd.concat([rs, rcs, lss], axis = 1)"
      ]
    },
    {
      "cell_type": "markdown",
      "id": "accessible-forwarding",
      "metadata": {
        "id": "accessible-forwarding"
      },
      "source": [
        "## Cross Validation (alpha = 1) "
      ]
    },
    {
      "cell_type": "code",
      "execution_count": null,
      "id": "opposite-airline",
      "metadata": {
        "id": "opposite-airline"
      },
      "outputs": [],
      "source": [
        "model = Lasso(alpha=1, random_state=42)\n",
        "scores = cross_validate(model, X_train_scaled, y_train,\n",
        "                        scoring=['r2', 'neg_mean_absolute_error','neg_mean_squared_error','neg_root_mean_squared_error'], cv=5)"
      ]
    },
    {
      "cell_type": "code",
      "execution_count": null,
      "id": "c9e3edb8",
      "metadata": {
        "id": "c9e3edb8",
        "outputId": "5d85127b-838e-4f86-eeba-9a03ae99e592"
      },
      "outputs": [
        {
          "data": {
            "text/html": [
              "<div>\n",
              "<style scoped>\n",
              "    .dataframe tbody tr th:only-of-type {\n",
              "        vertical-align: middle;\n",
              "    }\n",
              "\n",
              "    .dataframe tbody tr th {\n",
              "        vertical-align: top;\n",
              "    }\n",
              "\n",
              "    .dataframe thead th {\n",
              "        text-align: right;\n",
              "    }\n",
              "</style>\n",
              "<table border=\"1\" class=\"dataframe\">\n",
              "  <thead>\n",
              "    <tr style=\"text-align: right;\">\n",
              "      <th></th>\n",
              "      <th>fit_time</th>\n",
              "      <th>score_time</th>\n",
              "      <th>test_r2</th>\n",
              "      <th>test_neg_mean_absolute_error</th>\n",
              "      <th>test_neg_mean_squared_error</th>\n",
              "      <th>test_neg_root_mean_squared_error</th>\n",
              "    </tr>\n",
              "  </thead>\n",
              "  <tbody>\n",
              "    <tr>\n",
              "      <th>1</th>\n",
              "      <td>0.001959</td>\n",
              "      <td>0.001439</td>\n",
              "      <td>0.924246</td>\n",
              "      <td>-1.155268</td>\n",
              "      <td>-2.301550</td>\n",
              "      <td>-1.517086</td>\n",
              "    </tr>\n",
              "    <tr>\n",
              "      <th>2</th>\n",
              "      <td>0.001389</td>\n",
              "      <td>0.001425</td>\n",
              "      <td>0.955624</td>\n",
              "      <td>-0.656358</td>\n",
              "      <td>-1.000530</td>\n",
              "      <td>-1.000265</td>\n",
              "    </tr>\n",
              "    <tr>\n",
              "      <th>3</th>\n",
              "      <td>0.001481</td>\n",
              "      <td>0.004434</td>\n",
              "      <td>0.888327</td>\n",
              "      <td>-1.072936</td>\n",
              "      <td>-3.099952</td>\n",
              "      <td>-1.760668</td>\n",
              "    </tr>\n",
              "    <tr>\n",
              "      <th>4</th>\n",
              "      <td>0.003605</td>\n",
              "      <td>0.001438</td>\n",
              "      <td>0.896199</td>\n",
              "      <td>-1.255165</td>\n",
              "      <td>-2.825429</td>\n",
              "      <td>-1.680901</td>\n",
              "    </tr>\n",
              "    <tr>\n",
              "      <th>5</th>\n",
              "      <td>0.001456</td>\n",
              "      <td>0.001388</td>\n",
              "      <td>0.903545</td>\n",
              "      <td>-1.056538</td>\n",
              "      <td>-1.783470</td>\n",
              "      <td>-1.335466</td>\n",
              "    </tr>\n",
              "  </tbody>\n",
              "</table>\n",
              "</div>"
            ],
            "text/plain": [
              "   fit_time  score_time   test_r2  test_neg_mean_absolute_error  \\\n",
              "1  0.001959    0.001439  0.924246                     -1.155268   \n",
              "2  0.001389    0.001425  0.955624                     -0.656358   \n",
              "3  0.001481    0.004434  0.888327                     -1.072936   \n",
              "4  0.003605    0.001438  0.896199                     -1.255165   \n",
              "5  0.001456    0.001388  0.903545                     -1.056538   \n",
              "\n",
              "   test_neg_mean_squared_error  test_neg_root_mean_squared_error  \n",
              "1                    -2.301550                         -1.517086  \n",
              "2                    -1.000530                         -1.000265  \n",
              "3                    -3.099952                         -1.760668  \n",
              "4                    -2.825429                         -1.680901  \n",
              "5                    -1.783470                         -1.335466  "
            ]
          },
          "execution_count": 56,
          "metadata": {},
          "output_type": "execute_result"
        }
      ],
      "source": [
        "pd.DataFrame(scores, index = range(1, 6))"
      ]
    },
    {
      "cell_type": "code",
      "execution_count": null,
      "id": "processed-framework",
      "metadata": {
        "id": "processed-framework",
        "outputId": "9fa821e5-2144-4667-fef8-ca16d1647ba6"
      },
      "outputs": [
        {
          "data": {
            "text/plain": [
              "test_r2                             0.913588\n",
              "test_neg_mean_absolute_error       -1.039253\n",
              "test_neg_mean_squared_error        -2.202186\n",
              "test_neg_root_mean_squared_error   -1.458877\n",
              "dtype: float64"
            ]
          },
          "execution_count": 57,
          "metadata": {},
          "output_type": "execute_result"
        }
      ],
      "source": [
        "scores = pd.DataFrame(scores, index = range(1, 6))\n",
        "scores.iloc[:,2:].mean()   # 0.918 di önceki, şimdi 0.913. Değerler birbirine yakın"
      ]
    },
    {
      "cell_type": "code",
      "execution_count": null,
      "id": "c7c3bc9e",
      "metadata": {
        "id": "c7c3bc9e",
        "outputId": "43166d66-535f-40b7-eaa1-192553fd7ff1"
      },
      "outputs": [
        {
          "data": {
            "text/html": [
              "<div>\n",
              "<style scoped>\n",
              "    .dataframe tbody tr th:only-of-type {\n",
              "        vertical-align: middle;\n",
              "    }\n",
              "\n",
              "    .dataframe tbody tr th {\n",
              "        vertical-align: top;\n",
              "    }\n",
              "\n",
              "    .dataframe thead th {\n",
              "        text-align: right;\n",
              "    }\n",
              "</style>\n",
              "<table border=\"1\" class=\"dataframe\">\n",
              "  <thead>\n",
              "    <tr style=\"text-align: right;\">\n",
              "      <th></th>\n",
              "      <th>lasso_train</th>\n",
              "      <th>lasso_test</th>\n",
              "    </tr>\n",
              "  </thead>\n",
              "  <tbody>\n",
              "    <tr>\n",
              "      <th>R2</th>\n",
              "      <td>0.919650</td>\n",
              "      <td>0.918590</td>\n",
              "    </tr>\n",
              "    <tr>\n",
              "      <th>mae</th>\n",
              "      <td>1.018355</td>\n",
              "      <td>1.017959</td>\n",
              "    </tr>\n",
              "    <tr>\n",
              "      <th>mse</th>\n",
              "      <td>2.114491</td>\n",
              "      <td>2.298390</td>\n",
              "    </tr>\n",
              "    <tr>\n",
              "      <th>rmse</th>\n",
              "      <td>1.454129</td>\n",
              "      <td>1.516044</td>\n",
              "    </tr>\n",
              "  </tbody>\n",
              "</table>\n",
              "</div>"
            ],
            "text/plain": [
              "      lasso_train  lasso_test\n",
              "R2       0.919650    0.918590\n",
              "mae      1.018355    1.017959\n",
              "mse      2.114491    2.298390\n",
              "rmse     1.454129    1.516044"
            ]
          },
          "execution_count": 58,
          "metadata": {},
          "output_type": "execute_result"
        }
      ],
      "source": [
        "train_val(y_train, y_train_pred, y_test, y_pred, \"lasso\")"
      ]
    },
    {
      "cell_type": "code",
      "execution_count": null,
      "id": "printable-church",
      "metadata": {
        "id": "printable-church",
        "outputId": "27091973-22f2-45ff-af01-b617aa005954"
      },
      "outputs": [
        {
          "data": {
            "text/plain": [
              "<AxesSubplot:>"
            ]
          },
          "execution_count": 59,
          "metadata": {},
          "output_type": "execute_result"
        },
        {
          "data": {
            "image/png": "[encoded data removed]",
            "text/plain": [
              "<Figure size 720x432 with 1 Axes>"
            ]
          },
          "metadata": {
            "needs_background": "light"
          },
          "output_type": "display_data"
        }
      ],
      "source": [
        "sns.lineplot(data = scores.iloc[:,2:])"
      ]
    },
    {
      "cell_type": "code",
      "execution_count": null,
      "id": "continued-voltage",
      "metadata": {
        "id": "continued-voltage",
        "outputId": "5b6e6f09-5c18-48a9-a8e0-45ca8b4ec179"
      },
      "outputs": [
        {
          "data": {
            "text/plain": [
              "array([0.6960164 , 0.        , 0.        , 0.        , 3.49094634,\n",
              "       0.        , 0.        , 0.        , 0.        , 0.        ,\n",
              "       0.        , 0.        , 0.        , 0.        , 0.        ,\n",
              "       0.        , 0.        , 0.        , 0.        , 0.        ,\n",
              "       0.        , 0.        , 0.        , 0.        , 0.        ,\n",
              "       0.        , 0.        , 0.        , 0.        , 0.        ,\n",
              "       0.        , 0.        , 0.        , 0.        , 0.        ,\n",
              "       0.        , 0.        , 0.        , 0.        , 0.        ,\n",
              "       0.        , 0.        , 0.        , 0.        , 0.        ,\n",
              "       0.        , 0.        , 0.        , 0.        , 0.        ,\n",
              "       0.        , 0.        , 0.        , 0.        , 0.        ])"
            ]
          },
          "execution_count": 60,
          "metadata": {},
          "output_type": "execute_result"
        }
      ],
      "source": [
        "lasso_model.coef_ # Lasso bazı katsayıları 0 a çekiyordu. Sadece 2 tanesini muhafaza etmiş\n",
        "# Bunu alpha = 1 için yaptık. Bu ideal alpha değeri değil şu an. O yüzden bu sağlıklı bir sonuç değil"
      ]
    },
    {
      "cell_type": "code",
      "execution_count": null,
      "id": "fifty-heavy",
      "metadata": {
        "id": "fifty-heavy"
      },
      "outputs": [],
      "source": [
        "lsm_df = pd.DataFrame(lasso_model.coef_, columns = [\"lasso_coef_1\"])"
      ]
    },
    {
      "cell_type": "code",
      "execution_count": null,
      "id": "small-regression",
      "metadata": {
        "id": "small-regression",
        "outputId": "55bcd9d1-e08f-4728-d074-481d74f24ce7"
      },
      "outputs": [
        {
          "data": {
            "text/html": [
              "<div>\n",
              "<style scoped>\n",
              "    .dataframe tbody tr th:only-of-type {\n",
              "        vertical-align: middle;\n",
              "    }\n",
              "\n",
              "    .dataframe tbody tr th {\n",
              "        vertical-align: top;\n",
              "    }\n",
              "\n",
              "    .dataframe thead th {\n",
              "        text-align: right;\n",
              "    }\n",
              "</style>\n",
              "<table border=\"1\" class=\"dataframe\">\n",
              "  <thead>\n",
              "    <tr style=\"text-align: right;\">\n",
              "      <th></th>\n",
              "      <th>ridge_coef_1</th>\n",
              "      <th>lasso_coef_1</th>\n",
              "    </tr>\n",
              "  </thead>\n",
              "  <tbody>\n",
              "    <tr>\n",
              "      <th>0</th>\n",
              "      <td>3.428822</td>\n",
              "      <td>0.696016</td>\n",
              "    </tr>\n",
              "    <tr>\n",
              "      <th>1</th>\n",
              "      <td>0.689086</td>\n",
              "      <td>0.000000</td>\n",
              "    </tr>\n",
              "    <tr>\n",
              "      <th>2</th>\n",
              "      <td>0.170305</td>\n",
              "      <td>0.000000</td>\n",
              "    </tr>\n",
              "    <tr>\n",
              "      <th>3</th>\n",
              "      <td>-0.910850</td>\n",
              "      <td>0.000000</td>\n",
              "    </tr>\n",
              "    <tr>\n",
              "      <th>4</th>\n",
              "      <td>2.723077</td>\n",
              "      <td>3.490946</td>\n",
              "    </tr>\n",
              "    <tr>\n",
              "      <th>5</th>\n",
              "      <td>0.112909</td>\n",
              "      <td>0.000000</td>\n",
              "    </tr>\n",
              "    <tr>\n",
              "      <th>6</th>\n",
              "      <td>-0.404686</td>\n",
              "      <td>0.000000</td>\n",
              "    </tr>\n",
              "    <tr>\n",
              "      <th>7</th>\n",
              "      <td>0.287950</td>\n",
              "      <td>0.000000</td>\n",
              "    </tr>\n",
              "    <tr>\n",
              "      <th>8</th>\n",
              "      <td>-0.091937</td>\n",
              "      <td>0.000000</td>\n",
              "    </tr>\n",
              "    <tr>\n",
              "      <th>9</th>\n",
              "      <td>-1.014535</td>\n",
              "      <td>0.000000</td>\n",
              "    </tr>\n",
              "    <tr>\n",
              "      <th>10</th>\n",
              "      <td>-0.075344</td>\n",
              "      <td>0.000000</td>\n",
              "    </tr>\n",
              "    <tr>\n",
              "      <th>11</th>\n",
              "      <td>-0.708634</td>\n",
              "      <td>0.000000</td>\n",
              "    </tr>\n",
              "    <tr>\n",
              "      <th>12</th>\n",
              "      <td>1.473254</td>\n",
              "      <td>0.000000</td>\n",
              "    </tr>\n",
              "    <tr>\n",
              "      <th>13</th>\n",
              "      <td>0.148905</td>\n",
              "      <td>0.000000</td>\n",
              "    </tr>\n",
              "    <tr>\n",
              "      <th>14</th>\n",
              "      <td>0.005407</td>\n",
              "      <td>0.000000</td>\n",
              "    </tr>\n",
              "    <tr>\n",
              "      <th>15</th>\n",
              "      <td>-0.471916</td>\n",
              "      <td>0.000000</td>\n",
              "    </tr>\n",
              "    <tr>\n",
              "      <th>16</th>\n",
              "      <td>0.031128</td>\n",
              "      <td>0.000000</td>\n",
              "    </tr>\n",
              "    <tr>\n",
              "      <th>17</th>\n",
              "      <td>-0.091424</td>\n",
              "      <td>0.000000</td>\n",
              "    </tr>\n",
              "    <tr>\n",
              "      <th>18</th>\n",
              "      <td>0.109397</td>\n",
              "      <td>0.000000</td>\n",
              "    </tr>\n",
              "    <tr>\n",
              "      <th>19</th>\n",
              "      <td>-0.294351</td>\n",
              "      <td>0.000000</td>\n",
              "    </tr>\n",
              "    <tr>\n",
              "      <th>20</th>\n",
              "      <td>-0.069994</td>\n",
              "      <td>0.000000</td>\n",
              "    </tr>\n",
              "    <tr>\n",
              "      <th>21</th>\n",
              "      <td>-0.179886</td>\n",
              "      <td>0.000000</td>\n",
              "    </tr>\n",
              "    <tr>\n",
              "      <th>22</th>\n",
              "      <td>-0.482892</td>\n",
              "      <td>0.000000</td>\n",
              "    </tr>\n",
              "    <tr>\n",
              "      <th>23</th>\n",
              "      <td>-0.241550</td>\n",
              "      <td>0.000000</td>\n",
              "    </tr>\n",
              "    <tr>\n",
              "      <th>24</th>\n",
              "      <td>-0.070462</td>\n",
              "      <td>0.000000</td>\n",
              "    </tr>\n",
              "    <tr>\n",
              "      <th>25</th>\n",
              "      <td>0.781238</td>\n",
              "      <td>0.000000</td>\n",
              "    </tr>\n",
              "    <tr>\n",
              "      <th>26</th>\n",
              "      <td>-0.032908</td>\n",
              "      <td>0.000000</td>\n",
              "    </tr>\n",
              "    <tr>\n",
              "      <th>27</th>\n",
              "      <td>0.002162</td>\n",
              "      <td>0.000000</td>\n",
              "    </tr>\n",
              "    <tr>\n",
              "      <th>28</th>\n",
              "      <td>-0.028680</td>\n",
              "      <td>0.000000</td>\n",
              "    </tr>\n",
              "    <tr>\n",
              "      <th>29</th>\n",
              "      <td>-0.186743</td>\n",
              "      <td>0.000000</td>\n",
              "    </tr>\n",
              "    <tr>\n",
              "      <th>30</th>\n",
              "      <td>0.011304</td>\n",
              "      <td>0.000000</td>\n",
              "    </tr>\n",
              "    <tr>\n",
              "      <th>31</th>\n",
              "      <td>-0.070924</td>\n",
              "      <td>0.000000</td>\n",
              "    </tr>\n",
              "    <tr>\n",
              "      <th>32</th>\n",
              "      <td>-0.035974</td>\n",
              "      <td>0.000000</td>\n",
              "    </tr>\n",
              "    <tr>\n",
              "      <th>33</th>\n",
              "      <td>0.126281</td>\n",
              "      <td>0.000000</td>\n",
              "    </tr>\n",
              "    <tr>\n",
              "      <th>34</th>\n",
              "      <td>0.453132</td>\n",
              "      <td>0.000000</td>\n",
              "    </tr>\n",
              "    <tr>\n",
              "      <th>35</th>\n",
              "      <td>0.490794</td>\n",
              "      <td>0.000000</td>\n",
              "    </tr>\n",
              "    <tr>\n",
              "      <th>36</th>\n",
              "      <td>0.492974</td>\n",
              "      <td>0.000000</td>\n",
              "    </tr>\n",
              "    <tr>\n",
              "      <th>37</th>\n",
              "      <td>-0.288061</td>\n",
              "      <td>0.000000</td>\n",
              "    </tr>\n",
              "    <tr>\n",
              "      <th>38</th>\n",
              "      <td>0.271084</td>\n",
              "      <td>0.000000</td>\n",
              "    </tr>\n",
              "    <tr>\n",
              "      <th>39</th>\n",
              "      <td>0.321891</td>\n",
              "      <td>0.000000</td>\n",
              "    </tr>\n",
              "    <tr>\n",
              "      <th>40</th>\n",
              "      <td>-0.829983</td>\n",
              "      <td>0.000000</td>\n",
              "    </tr>\n",
              "    <tr>\n",
              "      <th>41</th>\n",
              "      <td>-0.203685</td>\n",
              "      <td>0.000000</td>\n",
              "    </tr>\n",
              "    <tr>\n",
              "      <th>42</th>\n",
              "      <td>0.135190</td>\n",
              "      <td>0.000000</td>\n",
              "    </tr>\n",
              "    <tr>\n",
              "      <th>43</th>\n",
              "      <td>-0.009810</td>\n",
              "      <td>0.000000</td>\n",
              "    </tr>\n",
              "    <tr>\n",
              "      <th>44</th>\n",
              "      <td>0.354290</td>\n",
              "      <td>0.000000</td>\n",
              "    </tr>\n",
              "    <tr>\n",
              "      <th>45</th>\n",
              "      <td>-0.169830</td>\n",
              "      <td>0.000000</td>\n",
              "    </tr>\n",
              "    <tr>\n",
              "      <th>46</th>\n",
              "      <td>0.101346</td>\n",
              "      <td>0.000000</td>\n",
              "    </tr>\n",
              "    <tr>\n",
              "      <th>47</th>\n",
              "      <td>-0.039472</td>\n",
              "      <td>0.000000</td>\n",
              "    </tr>\n",
              "    <tr>\n",
              "      <th>48</th>\n",
              "      <td>-0.236645</td>\n",
              "      <td>0.000000</td>\n",
              "    </tr>\n",
              "    <tr>\n",
              "      <th>49</th>\n",
              "      <td>0.165347</td>\n",
              "      <td>0.000000</td>\n",
              "    </tr>\n",
              "    <tr>\n",
              "      <th>50</th>\n",
              "      <td>0.030197</td>\n",
              "      <td>0.000000</td>\n",
              "    </tr>\n",
              "    <tr>\n",
              "      <th>51</th>\n",
              "      <td>0.009304</td>\n",
              "      <td>0.000000</td>\n",
              "    </tr>\n",
              "    <tr>\n",
              "      <th>52</th>\n",
              "      <td>0.024671</td>\n",
              "      <td>0.000000</td>\n",
              "    </tr>\n",
              "    <tr>\n",
              "      <th>53</th>\n",
              "      <td>-0.050716</td>\n",
              "      <td>0.000000</td>\n",
              "    </tr>\n",
              "    <tr>\n",
              "      <th>54</th>\n",
              "      <td>-0.041555</td>\n",
              "      <td>0.000000</td>\n",
              "    </tr>\n",
              "  </tbody>\n",
              "</table>\n",
              "</div>"
            ],
            "text/plain": [
              "    ridge_coef_1  lasso_coef_1\n",
              "0       3.428822      0.696016\n",
              "1       0.689086      0.000000\n",
              "2       0.170305      0.000000\n",
              "3      -0.910850      0.000000\n",
              "4       2.723077      3.490946\n",
              "5       0.112909      0.000000\n",
              "6      -0.404686      0.000000\n",
              "7       0.287950      0.000000\n",
              "8      -0.091937      0.000000\n",
              "9      -1.014535      0.000000\n",
              "10     -0.075344      0.000000\n",
              "11     -0.708634      0.000000\n",
              "12      1.473254      0.000000\n",
              "13      0.148905      0.000000\n",
              "14      0.005407      0.000000\n",
              "15     -0.471916      0.000000\n",
              "16      0.031128      0.000000\n",
              "17     -0.091424      0.000000\n",
              "18      0.109397      0.000000\n",
              "19     -0.294351      0.000000\n",
              "20     -0.069994      0.000000\n",
              "21     -0.179886      0.000000\n",
              "22     -0.482892      0.000000\n",
              "23     -0.241550      0.000000\n",
              "24     -0.070462      0.000000\n",
              "25      0.781238      0.000000\n",
              "26     -0.032908      0.000000\n",
              "27      0.002162      0.000000\n",
              "28     -0.028680      0.000000\n",
              "29     -0.186743      0.000000\n",
              "30      0.011304      0.000000\n",
              "31     -0.070924      0.000000\n",
              "32     -0.035974      0.000000\n",
              "33      0.126281      0.000000\n",
              "34      0.453132      0.000000\n",
              "35      0.490794      0.000000\n",
              "36      0.492974      0.000000\n",
              "37     -0.288061      0.000000\n",
              "38      0.271084      0.000000\n",
              "39      0.321891      0.000000\n",
              "40     -0.829983      0.000000\n",
              "41     -0.203685      0.000000\n",
              "42      0.135190      0.000000\n",
              "43     -0.009810      0.000000\n",
              "44      0.354290      0.000000\n",
              "45     -0.169830      0.000000\n",
              "46      0.101346      0.000000\n",
              "47     -0.039472      0.000000\n",
              "48     -0.236645      0.000000\n",
              "49      0.165347      0.000000\n",
              "50      0.030197      0.000000\n",
              "51      0.009304      0.000000\n",
              "52      0.024671      0.000000\n",
              "53     -0.050716      0.000000\n",
              "54     -0.041555      0.000000"
            ]
          },
          "execution_count": 62,
          "metadata": {},
          "output_type": "execute_result"
        }
      ],
      "source": [
        "pd.concat([rm_df, lsm_df], axis = 1) # Ridge in katsayılarıyla karşılaştırma yapalım"
      ]
    },
    {
      "cell_type": "markdown",
      "id": "sporting-moral",
      "metadata": {
        "id": "sporting-moral"
      },
      "source": [
        "## Choosing best alpha value by LassoCV"
      ]
    },
    {
      "cell_type": "code",
      "execution_count": null,
      "id": "chemical-egypt",
      "metadata": {
        "id": "chemical-egypt"
      },
      "outputs": [],
      "source": [
        "lasso_cv_model = LassoCV(alphas = alpha_space, cv = 5, max_iter=100000, random_state=42) "
      ]
    },
    {
      "cell_type": "code",
      "execution_count": null,
      "id": "seeing-visit",
      "metadata": {
        "id": "seeing-visit",
        "outputId": "dbb85c3a-6537-4f0a-b91d-1c755ca5b80b"
      },
      "outputs": [
        {
          "data": {
            "text/plain": [
              "LassoCV(alphas=array([0.01, 0.02, 0.03, 0.04, 0.05, 0.06, 0.07, 0.08, 0.09, 0.1 , 0.11,\n",
              "       0.12, 0.13, 0.14, 0.15, 0.16, 0.17, 0.18, 0.19, 0.2 , 0.21, 0.22,\n",
              "       0.23, 0.24, 0.25, 0.26, 0.27, 0.28, 0.29, 0.3 , 0.31, 0.32, 0.33,\n",
              "       0.34, 0.35, 0.36, 0.37, 0.38, 0.39, 0.4 , 0.41, 0.42, 0.43, 0.44,\n",
              "       0.45, 0.46, 0.47, 0.48, 0.49, 0.5 , 0.51, 0.52, 0.53, 0.54, 0.55,\n",
              "       0.56, 0.57, 0.58, 0.59, 0.6 , 0.61, 0.62, 0.63, 0.64, 0.65, 0.66,\n",
              "       0.67, 0.68, 0.69, 0.7 , 0.71, 0.72, 0.73, 0.74, 0.75, 0.76, 0.77,\n",
              "       0.78, 0.79, 0.8 , 0.81, 0.82, 0.83, 0.84, 0.85, 0.86, 0.87, 0.88,\n",
              "       0.89, 0.9 , 0.91, 0.92, 0.93, 0.94, 0.95, 0.96, 0.97, 0.98, 0.99,\n",
              "       1.  ]),\n",
              "        cv=5, max_iter=100000, random_state=42)"
            ]
          },
          "execution_count": 64,
          "metadata": {},
          "output_type": "execute_result"
        }
      ],
      "source": [
        "lasso_cv_model.fit(X_train_scaled, y_train)"
      ]
    },
    {
      "cell_type": "code",
      "execution_count": null,
      "id": "gentle-arlington",
      "metadata": {
        "id": "gentle-arlington",
        "outputId": "ba399d10-abee-4801-d362-f66c1011a2ba"
      },
      "outputs": [
        {
          "data": {
            "text/plain": [
              "0.01"
            ]
          },
          "execution_count": 65,
          "metadata": {},
          "output_type": "execute_result"
        }
      ],
      "source": [
        "lasso_cv_model.alpha_"
      ]
    },
    {
      "cell_type": "code",
      "execution_count": null,
      "id": "f611f2e0",
      "metadata": {
        "id": "f611f2e0"
      },
      "outputs": [],
      "source": [
        "y_pred = lasso_cv_model.predict(X_test_scaled)   #Lasso(alpha =0.01)\n",
        "y_train_pred = lasso_cv_model.predict(X_train_scaled)"
      ]
    },
    {
      "cell_type": "code",
      "execution_count": null,
      "id": "321f17f8",
      "metadata": {
        "id": "321f17f8",
        "outputId": "4bc5a36f-d070-48e2-9a1e-de4dd37020c8"
      },
      "outputs": [
        {
          "data": {
            "text/html": [
              "<div>\n",
              "<style scoped>\n",
              "    .dataframe tbody tr th:only-of-type {\n",
              "        vertical-align: middle;\n",
              "    }\n",
              "\n",
              "    .dataframe tbody tr th {\n",
              "        vertical-align: top;\n",
              "    }\n",
              "\n",
              "    .dataframe thead th {\n",
              "        text-align: right;\n",
              "    }\n",
              "</style>\n",
              "<table border=\"1\" class=\"dataframe\">\n",
              "  <thead>\n",
              "    <tr style=\"text-align: right;\">\n",
              "      <th></th>\n",
              "      <th>lasso_cv_train</th>\n",
              "      <th>lasso_cv_test</th>\n",
              "    </tr>\n",
              "  </thead>\n",
              "  <tbody>\n",
              "    <tr>\n",
              "      <th>R2</th>\n",
              "      <td>0.988824</td>\n",
              "      <td>0.986295</td>\n",
              "    </tr>\n",
              "    <tr>\n",
              "      <th>mae</th>\n",
              "      <td>0.339065</td>\n",
              "      <td>0.440975</td>\n",
              "    </tr>\n",
              "    <tr>\n",
              "      <th>mse</th>\n",
              "      <td>0.294098</td>\n",
              "      <td>0.386919</td>\n",
              "    </tr>\n",
              "    <tr>\n",
              "      <th>rmse</th>\n",
              "      <td>0.542308</td>\n",
              "      <td>0.622028</td>\n",
              "    </tr>\n",
              "  </tbody>\n",
              "</table>\n",
              "</div>"
            ],
            "text/plain": [
              "      lasso_cv_train  lasso_cv_test\n",
              "R2          0.988824       0.986295\n",
              "mae         0.339065       0.440975\n",
              "mse         0.294098       0.386919\n",
              "rmse        0.542308       0.622028"
            ]
          },
          "execution_count": 70,
          "metadata": {},
          "output_type": "execute_result"
        }
      ],
      "source": [
        "lcs = train_val(y_train, y_train_pred, y_test, y_pred, \"lasso_cv\")\n",
        "lcs"
      ]
    },
    {
      "cell_type": "code",
      "execution_count": null,
      "id": "coral-bones",
      "metadata": {
        "id": "coral-bones",
        "outputId": "3ee439a4-04c7-48ee-c5c4-6b39ae24c731"
      },
      "outputs": [
        {
          "data": {
            "text/html": [
              "<div>\n",
              "<style scoped>\n",
              "    .dataframe tbody tr th:only-of-type {\n",
              "        vertical-align: middle;\n",
              "    }\n",
              "\n",
              "    .dataframe tbody tr th {\n",
              "        vertical-align: top;\n",
              "    }\n",
              "\n",
              "    .dataframe thead th {\n",
              "        text-align: right;\n",
              "    }\n",
              "</style>\n",
              "<table border=\"1\" class=\"dataframe\">\n",
              "  <thead>\n",
              "    <tr style=\"text-align: right;\">\n",
              "      <th></th>\n",
              "      <th>ridge_train</th>\n",
              "      <th>ridge_test</th>\n",
              "      <th>ridge_cv_train</th>\n",
              "      <th>ridge_cv_test</th>\n",
              "      <th>lasso_train</th>\n",
              "      <th>lasso_test</th>\n",
              "      <th>lasso_cv_train</th>\n",
              "      <th>lasso_cv_test</th>\n",
              "    </tr>\n",
              "  </thead>\n",
              "  <tbody>\n",
              "    <tr>\n",
              "      <th>R2</th>\n",
              "      <td>0.988677</td>\n",
              "      <td>0.982511</td>\n",
              "      <td>0.994491</td>\n",
              "      <td>0.983643</td>\n",
              "      <td>0.919650</td>\n",
              "      <td>0.918590</td>\n",
              "      <td>0.988824</td>\n",
              "      <td>0.986295</td>\n",
              "    </tr>\n",
              "    <tr>\n",
              "      <th>mae</th>\n",
              "      <td>0.338149</td>\n",
              "      <td>0.482446</td>\n",
              "      <td>0.244842</td>\n",
              "      <td>0.442087</td>\n",
              "      <td>1.018355</td>\n",
              "      <td>1.017959</td>\n",
              "      <td>0.339065</td>\n",
              "      <td>0.440975</td>\n",
              "    </tr>\n",
              "    <tr>\n",
              "      <th>mse</th>\n",
              "      <td>0.297970</td>\n",
              "      <td>0.493743</td>\n",
              "      <td>0.144977</td>\n",
              "      <td>0.461803</td>\n",
              "      <td>2.114491</td>\n",
              "      <td>2.298390</td>\n",
              "      <td>0.294098</td>\n",
              "      <td>0.386919</td>\n",
              "    </tr>\n",
              "    <tr>\n",
              "      <th>rmse</th>\n",
              "      <td>0.545866</td>\n",
              "      <td>0.702669</td>\n",
              "      <td>0.380758</td>\n",
              "      <td>0.679561</td>\n",
              "      <td>1.454129</td>\n",
              "      <td>1.516044</td>\n",
              "      <td>0.542308</td>\n",
              "      <td>0.622028</td>\n",
              "    </tr>\n",
              "  </tbody>\n",
              "</table>\n",
              "</div>"
            ],
            "text/plain": [
              "      ridge_train  ridge_test  ridge_cv_train  ridge_cv_test  lasso_train  \\\n",
              "R2       0.988677    0.982511        0.994491       0.983643     0.919650   \n",
              "mae      0.338149    0.482446        0.244842       0.442087     1.018355   \n",
              "mse      0.297970    0.493743        0.144977       0.461803     2.114491   \n",
              "rmse     0.545866    0.702669        0.380758       0.679561     1.454129   \n",
              "\n",
              "      lasso_test  lasso_cv_train  lasso_cv_test  \n",
              "R2      0.918590        0.988824       0.986295  \n",
              "mae     1.017959        0.339065       0.440975  \n",
              "mse     2.298390        0.294098       0.386919  \n",
              "rmse    1.516044        0.542308       0.622028  "
            ]
          },
          "execution_count": 71,
          "metadata": {},
          "output_type": "execute_result"
        }
      ],
      "source": [
        "pd.concat([rs, rcs, lss, lcs], axis = 1) # Lasso_cv_test r2 sonucu, ridge_cv_test_r2 ye göre daha iyi sonuç verdi\n",
        "# Bu data için Lassonun daha uygun olduğu söylenebilir"
      ]
    },
    {
      "cell_type": "code",
      "execution_count": null,
      "id": "reliable-eugene",
      "metadata": {
        "id": "reliable-eugene",
        "outputId": "99e7ef49-f10d-4240-853d-82d7870817f1"
      },
      "outputs": [
        {
          "data": {
            "text/plain": [
              "array([ 4.27021377,  0.18037374,  0.13965856, -3.14605513,  4.15339959,\n",
              "       -0.        ,  0.        ,  0.06249654,  0.        , -0.        ,\n",
              "       -0.43049816, -0.17433788,  0.        , -0.        , -0.        ,\n",
              "        0.        ,  0.        ,  0.        ,  0.        ,  0.        ,\n",
              "       -0.        , -0.        , -0.        , -0.        , -0.        ,\n",
              "        0.        , -0.        , -0.        , -0.        ,  0.        ,\n",
              "        0.        ,  0.        ,  0.        , -0.        ,  0.4873868 ,\n",
              "       -0.        ,  0.        , -0.        , -0.        ,  0.        ,\n",
              "       -0.        , -0.        , -0.        , -0.        ,  0.06929818,\n",
              "       -0.        , -0.        , -0.        , -0.        ,  0.        ,\n",
              "        0.        ,  0.        ,  0.        ,  0.        , -0.        ])"
            ]
          },
          "execution_count": 72,
          "metadata": {},
          "output_type": "execute_result"
        }
      ],
      "source": [
        "lasso_cv_model.coef_\n",
        "# Orion Hoca: 0 demek o feature yok demek o yüzden lassoyu feature selectionda kullanıyoruz"
      ]
    },
    {
      "cell_type": "code",
      "execution_count": null,
      "id": "differential-greece",
      "metadata": {
        "id": "differential-greece"
      },
      "outputs": [],
      "source": [
        "lcm_df = pd.DataFrame(lasso_cv_model.coef_, columns = [\"lasso_cv_coef_0.01\"])"
      ]
    },
    {
      "cell_type": "code",
      "execution_count": null,
      "id": "occasional-trace",
      "metadata": {
        "id": "occasional-trace",
        "outputId": "ac3b5d4a-c66c-42ac-9a14-e7ff70bae50c"
      },
      "outputs": [
        {
          "data": {
            "text/html": [
              "<div>\n",
              "<style scoped>\n",
              "    .dataframe tbody tr th:only-of-type {\n",
              "        vertical-align: middle;\n",
              "    }\n",
              "\n",
              "    .dataframe tbody tr th {\n",
              "        vertical-align: top;\n",
              "    }\n",
              "\n",
              "    .dataframe thead th {\n",
              "        text-align: right;\n",
              "    }\n",
              "</style>\n",
              "<table border=\"1\" class=\"dataframe\">\n",
              "  <thead>\n",
              "    <tr style=\"text-align: right;\">\n",
              "      <th></th>\n",
              "      <th>ridge_coef_1</th>\n",
              "      <th>lasso_coef_1</th>\n",
              "      <th>lasso_cv_coef_0.01</th>\n",
              "    </tr>\n",
              "  </thead>\n",
              "  <tbody>\n",
              "    <tr>\n",
              "      <th>0</th>\n",
              "      <td>3.428822</td>\n",
              "      <td>0.696016</td>\n",
              "      <td>4.270214</td>\n",
              "    </tr>\n",
              "    <tr>\n",
              "      <th>1</th>\n",
              "      <td>0.689086</td>\n",
              "      <td>0.000000</td>\n",
              "      <td>0.180374</td>\n",
              "    </tr>\n",
              "    <tr>\n",
              "      <th>2</th>\n",
              "      <td>0.170305</td>\n",
              "      <td>0.000000</td>\n",
              "      <td>0.139659</td>\n",
              "    </tr>\n",
              "    <tr>\n",
              "      <th>3</th>\n",
              "      <td>-0.910850</td>\n",
              "      <td>0.000000</td>\n",
              "      <td>-3.146055</td>\n",
              "    </tr>\n",
              "    <tr>\n",
              "      <th>4</th>\n",
              "      <td>2.723077</td>\n",
              "      <td>3.490946</td>\n",
              "      <td>4.153400</td>\n",
              "    </tr>\n",
              "    <tr>\n",
              "      <th>5</th>\n",
              "      <td>0.112909</td>\n",
              "      <td>0.000000</td>\n",
              "      <td>-0.000000</td>\n",
              "    </tr>\n",
              "    <tr>\n",
              "      <th>6</th>\n",
              "      <td>-0.404686</td>\n",
              "      <td>0.000000</td>\n",
              "      <td>0.000000</td>\n",
              "    </tr>\n",
              "    <tr>\n",
              "      <th>7</th>\n",
              "      <td>0.287950</td>\n",
              "      <td>0.000000</td>\n",
              "      <td>0.062497</td>\n",
              "    </tr>\n",
              "    <tr>\n",
              "      <th>8</th>\n",
              "      <td>-0.091937</td>\n",
              "      <td>0.000000</td>\n",
              "      <td>0.000000</td>\n",
              "    </tr>\n",
              "    <tr>\n",
              "      <th>9</th>\n",
              "      <td>-1.014535</td>\n",
              "      <td>0.000000</td>\n",
              "      <td>-0.000000</td>\n",
              "    </tr>\n",
              "    <tr>\n",
              "      <th>10</th>\n",
              "      <td>-0.075344</td>\n",
              "      <td>0.000000</td>\n",
              "      <td>-0.430498</td>\n",
              "    </tr>\n",
              "    <tr>\n",
              "      <th>11</th>\n",
              "      <td>-0.708634</td>\n",
              "      <td>0.000000</td>\n",
              "      <td>-0.174338</td>\n",
              "    </tr>\n",
              "    <tr>\n",
              "      <th>12</th>\n",
              "      <td>1.473254</td>\n",
              "      <td>0.000000</td>\n",
              "      <td>0.000000</td>\n",
              "    </tr>\n",
              "    <tr>\n",
              "      <th>13</th>\n",
              "      <td>0.148905</td>\n",
              "      <td>0.000000</td>\n",
              "      <td>-0.000000</td>\n",
              "    </tr>\n",
              "    <tr>\n",
              "      <th>14</th>\n",
              "      <td>0.005407</td>\n",
              "      <td>0.000000</td>\n",
              "      <td>-0.000000</td>\n",
              "    </tr>\n",
              "    <tr>\n",
              "      <th>15</th>\n",
              "      <td>-0.471916</td>\n",
              "      <td>0.000000</td>\n",
              "      <td>0.000000</td>\n",
              "    </tr>\n",
              "    <tr>\n",
              "      <th>16</th>\n",
              "      <td>0.031128</td>\n",
              "      <td>0.000000</td>\n",
              "      <td>0.000000</td>\n",
              "    </tr>\n",
              "    <tr>\n",
              "      <th>17</th>\n",
              "      <td>-0.091424</td>\n",
              "      <td>0.000000</td>\n",
              "      <td>0.000000</td>\n",
              "    </tr>\n",
              "    <tr>\n",
              "      <th>18</th>\n",
              "      <td>0.109397</td>\n",
              "      <td>0.000000</td>\n",
              "      <td>0.000000</td>\n",
              "    </tr>\n",
              "    <tr>\n",
              "      <th>19</th>\n",
              "      <td>-0.294351</td>\n",
              "      <td>0.000000</td>\n",
              "      <td>0.000000</td>\n",
              "    </tr>\n",
              "    <tr>\n",
              "      <th>20</th>\n",
              "      <td>-0.069994</td>\n",
              "      <td>0.000000</td>\n",
              "      <td>-0.000000</td>\n",
              "    </tr>\n",
              "    <tr>\n",
              "      <th>21</th>\n",
              "      <td>-0.179886</td>\n",
              "      <td>0.000000</td>\n",
              "      <td>-0.000000</td>\n",
              "    </tr>\n",
              "    <tr>\n",
              "      <th>22</th>\n",
              "      <td>-0.482892</td>\n",
              "      <td>0.000000</td>\n",
              "      <td>-0.000000</td>\n",
              "    </tr>\n",
              "    <tr>\n",
              "      <th>23</th>\n",
              "      <td>-0.241550</td>\n",
              "      <td>0.000000</td>\n",
              "      <td>-0.000000</td>\n",
              "    </tr>\n",
              "    <tr>\n",
              "      <th>24</th>\n",
              "      <td>-0.070462</td>\n",
              "      <td>0.000000</td>\n",
              "      <td>-0.000000</td>\n",
              "    </tr>\n",
              "    <tr>\n",
              "      <th>25</th>\n",
              "      <td>0.781238</td>\n",
              "      <td>0.000000</td>\n",
              "      <td>0.000000</td>\n",
              "    </tr>\n",
              "    <tr>\n",
              "      <th>26</th>\n",
              "      <td>-0.032908</td>\n",
              "      <td>0.000000</td>\n",
              "      <td>-0.000000</td>\n",
              "    </tr>\n",
              "    <tr>\n",
              "      <th>27</th>\n",
              "      <td>0.002162</td>\n",
              "      <td>0.000000</td>\n",
              "      <td>-0.000000</td>\n",
              "    </tr>\n",
              "    <tr>\n",
              "      <th>28</th>\n",
              "      <td>-0.028680</td>\n",
              "      <td>0.000000</td>\n",
              "      <td>-0.000000</td>\n",
              "    </tr>\n",
              "    <tr>\n",
              "      <th>29</th>\n",
              "      <td>-0.186743</td>\n",
              "      <td>0.000000</td>\n",
              "      <td>0.000000</td>\n",
              "    </tr>\n",
              "    <tr>\n",
              "      <th>30</th>\n",
              "      <td>0.011304</td>\n",
              "      <td>0.000000</td>\n",
              "      <td>0.000000</td>\n",
              "    </tr>\n",
              "    <tr>\n",
              "      <th>31</th>\n",
              "      <td>-0.070924</td>\n",
              "      <td>0.000000</td>\n",
              "      <td>0.000000</td>\n",
              "    </tr>\n",
              "    <tr>\n",
              "      <th>32</th>\n",
              "      <td>-0.035974</td>\n",
              "      <td>0.000000</td>\n",
              "      <td>0.000000</td>\n",
              "    </tr>\n",
              "    <tr>\n",
              "      <th>33</th>\n",
              "      <td>0.126281</td>\n",
              "      <td>0.000000</td>\n",
              "      <td>-0.000000</td>\n",
              "    </tr>\n",
              "    <tr>\n",
              "      <th>34</th>\n",
              "      <td>0.453132</td>\n",
              "      <td>0.000000</td>\n",
              "      <td>0.487387</td>\n",
              "    </tr>\n",
              "    <tr>\n",
              "      <th>35</th>\n",
              "      <td>0.490794</td>\n",
              "      <td>0.000000</td>\n",
              "      <td>-0.000000</td>\n",
              "    </tr>\n",
              "    <tr>\n",
              "      <th>36</th>\n",
              "      <td>0.492974</td>\n",
              "      <td>0.000000</td>\n",
              "      <td>0.000000</td>\n",
              "    </tr>\n",
              "    <tr>\n",
              "      <th>37</th>\n",
              "      <td>-0.288061</td>\n",
              "      <td>0.000000</td>\n",
              "      <td>-0.000000</td>\n",
              "    </tr>\n",
              "    <tr>\n",
              "      <th>38</th>\n",
              "      <td>0.271084</td>\n",
              "      <td>0.000000</td>\n",
              "      <td>-0.000000</td>\n",
              "    </tr>\n",
              "    <tr>\n",
              "      <th>39</th>\n",
              "      <td>0.321891</td>\n",
              "      <td>0.000000</td>\n",
              "      <td>0.000000</td>\n",
              "    </tr>\n",
              "    <tr>\n",
              "      <th>40</th>\n",
              "      <td>-0.829983</td>\n",
              "      <td>0.000000</td>\n",
              "      <td>-0.000000</td>\n",
              "    </tr>\n",
              "    <tr>\n",
              "      <th>41</th>\n",
              "      <td>-0.203685</td>\n",
              "      <td>0.000000</td>\n",
              "      <td>-0.000000</td>\n",
              "    </tr>\n",
              "    <tr>\n",
              "      <th>42</th>\n",
              "      <td>0.135190</td>\n",
              "      <td>0.000000</td>\n",
              "      <td>-0.000000</td>\n",
              "    </tr>\n",
              "    <tr>\n",
              "      <th>43</th>\n",
              "      <td>-0.009810</td>\n",
              "      <td>0.000000</td>\n",
              "      <td>-0.000000</td>\n",
              "    </tr>\n",
              "    <tr>\n",
              "      <th>44</th>\n",
              "      <td>0.354290</td>\n",
              "      <td>0.000000</td>\n",
              "      <td>0.069298</td>\n",
              "    </tr>\n",
              "    <tr>\n",
              "      <th>45</th>\n",
              "      <td>-0.169830</td>\n",
              "      <td>0.000000</td>\n",
              "      <td>-0.000000</td>\n",
              "    </tr>\n",
              "    <tr>\n",
              "      <th>46</th>\n",
              "      <td>0.101346</td>\n",
              "      <td>0.000000</td>\n",
              "      <td>-0.000000</td>\n",
              "    </tr>\n",
              "    <tr>\n",
              "      <th>47</th>\n",
              "      <td>-0.039472</td>\n",
              "      <td>0.000000</td>\n",
              "      <td>-0.000000</td>\n",
              "    </tr>\n",
              "    <tr>\n",
              "      <th>48</th>\n",
              "      <td>-0.236645</td>\n",
              "      <td>0.000000</td>\n",
              "      <td>-0.000000</td>\n",
              "    </tr>\n",
              "    <tr>\n",
              "      <th>49</th>\n",
              "      <td>0.165347</td>\n",
              "      <td>0.000000</td>\n",
              "      <td>0.000000</td>\n",
              "    </tr>\n",
              "    <tr>\n",
              "      <th>50</th>\n",
              "      <td>0.030197</td>\n",
              "      <td>0.000000</td>\n",
              "      <td>0.000000</td>\n",
              "    </tr>\n",
              "    <tr>\n",
              "      <th>51</th>\n",
              "      <td>0.009304</td>\n",
              "      <td>0.000000</td>\n",
              "      <td>0.000000</td>\n",
              "    </tr>\n",
              "    <tr>\n",
              "      <th>52</th>\n",
              "      <td>0.024671</td>\n",
              "      <td>0.000000</td>\n",
              "      <td>0.000000</td>\n",
              "    </tr>\n",
              "    <tr>\n",
              "      <th>53</th>\n",
              "      <td>-0.050716</td>\n",
              "      <td>0.000000</td>\n",
              "      <td>0.000000</td>\n",
              "    </tr>\n",
              "    <tr>\n",
              "      <th>54</th>\n",
              "      <td>-0.041555</td>\n",
              "      <td>0.000000</td>\n",
              "      <td>-0.000000</td>\n",
              "    </tr>\n",
              "  </tbody>\n",
              "</table>\n",
              "</div>"
            ],
            "text/plain": [
              "    ridge_coef_1  lasso_coef_1  lasso_cv_coef_0.01\n",
              "0       3.428822      0.696016            4.270214\n",
              "1       0.689086      0.000000            0.180374\n",
              "2       0.170305      0.000000            0.139659\n",
              "3      -0.910850      0.000000           -3.146055\n",
              "4       2.723077      3.490946            4.153400\n",
              "5       0.112909      0.000000           -0.000000\n",
              "6      -0.404686      0.000000            0.000000\n",
              "7       0.287950      0.000000            0.062497\n",
              "8      -0.091937      0.000000            0.000000\n",
              "9      -1.014535      0.000000           -0.000000\n",
              "10     -0.075344      0.000000           -0.430498\n",
              "11     -0.708634      0.000000           -0.174338\n",
              "12      1.473254      0.000000            0.000000\n",
              "13      0.148905      0.000000           -0.000000\n",
              "14      0.005407      0.000000           -0.000000\n",
              "15     -0.471916      0.000000            0.000000\n",
              "16      0.031128      0.000000            0.000000\n",
              "17     -0.091424      0.000000            0.000000\n",
              "18      0.109397      0.000000            0.000000\n",
              "19     -0.294351      0.000000            0.000000\n",
              "20     -0.069994      0.000000           -0.000000\n",
              "21     -0.179886      0.000000           -0.000000\n",
              "22     -0.482892      0.000000           -0.000000\n",
              "23     -0.241550      0.000000           -0.000000\n",
              "24     -0.070462      0.000000           -0.000000\n",
              "25      0.781238      0.000000            0.000000\n",
              "26     -0.032908      0.000000           -0.000000\n",
              "27      0.002162      0.000000           -0.000000\n",
              "28     -0.028680      0.000000           -0.000000\n",
              "29     -0.186743      0.000000            0.000000\n",
              "30      0.011304      0.000000            0.000000\n",
              "31     -0.070924      0.000000            0.000000\n",
              "32     -0.035974      0.000000            0.000000\n",
              "33      0.126281      0.000000           -0.000000\n",
              "34      0.453132      0.000000            0.487387\n",
              "35      0.490794      0.000000           -0.000000\n",
              "36      0.492974      0.000000            0.000000\n",
              "37     -0.288061      0.000000           -0.000000\n",
              "38      0.271084      0.000000           -0.000000\n",
              "39      0.321891      0.000000            0.000000\n",
              "40     -0.829983      0.000000           -0.000000\n",
              "41     -0.203685      0.000000           -0.000000\n",
              "42      0.135190      0.000000           -0.000000\n",
              "43     -0.009810      0.000000           -0.000000\n",
              "44      0.354290      0.000000            0.069298\n",
              "45     -0.169830      0.000000           -0.000000\n",
              "46      0.101346      0.000000           -0.000000\n",
              "47     -0.039472      0.000000           -0.000000\n",
              "48     -0.236645      0.000000           -0.000000\n",
              "49      0.165347      0.000000            0.000000\n",
              "50      0.030197      0.000000            0.000000\n",
              "51      0.009304      0.000000            0.000000\n",
              "52      0.024671      0.000000            0.000000\n",
              "53     -0.050716      0.000000            0.000000\n",
              "54     -0.041555      0.000000           -0.000000"
            ]
          },
          "execution_count": 74,
          "metadata": {},
          "output_type": "execute_result"
        }
      ],
      "source": [
        "pd.concat([rm_df, lsm_df, lcm_df], axis = 1) # 4.27 ile ilk feature önemli diye görüyoruz. -3.14 te önemli diyebiliriz"
      ]
    },
    {
      "cell_type": "markdown",
      "id": "exempt-relationship",
      "metadata": {
        "id": "exempt-relationship"
      },
      "source": [
        "## <span style='color:blue'> Feature importances with Ridge</span> "
      ]
    },
    {
      "cell_type": "code",
      "execution_count": null,
      "id": "awful-split",
      "metadata": {
        "id": "awful-split",
        "outputId": "9743436e-c5da-4841-9658-2c8cd4b9c0d0"
      },
      "outputs": [
        {
          "data": {
            "image/png": "[encoded data removed]",
            "text/plain": [
              "<Figure size 720x3000 with 1 Axes>"
            ]
          },
          "metadata": {},
          "output_type": "display_data"
        },
        {
          "data": {
            "text/plain": [
              "<AxesSubplot:title={'center':'Feature Importances of 55 Features using RidgeCV'}, xlabel='relative coefficient magnitude'>"
            ]
          },
          "execution_count": 75,
          "metadata": {},
          "output_type": "execute_result"
        }
      ],
      "source": [
        "from yellowbrick.model_selection import FeatureImportances\n",
        "from yellowbrick.features import RadViz\n",
        "\n",
        "viz = FeatureImportances(ridge_cv_model, labels=pd.DataFrame(X_train).columns) # modelimizi FeatureImportances içine veriyoruz\n",
        "visualizer = RadViz(size=(720, 3000))\n",
        "viz.fit(X_train, y_train)\n",
        "viz.show()\n",
        "\n",
        "# Çıktıda göre 0. feature, 4. feature, 20. feature vs diye önem sırasına göre sıralanmış\n",
        "# Şeklin en altında ters bir orantı var ama 3. feature, 40. feature vs de önemli"
      ]
    },
    {
      "cell_type": "markdown",
      "id": "center-people",
      "metadata": {
        "id": "center-people"
      },
      "source": [
        "## <span style='color:blue'> Feature importances with Lasso</span> "
      ]
    },
    {
      "cell_type": "code",
      "execution_count": null,
      "id": "patient-rendering",
      "metadata": {
        "id": "patient-rendering",
        "outputId": "1a84c093-bf21-4216-f5d1-589020a01b8a"
      },
      "outputs": [
        {
          "data": {
            "image/png": "[encoded data removed]",
            "text/plain": [
              "<Figure size 720x3000 with 1 Axes>"
            ]
          },
          "metadata": {},
          "output_type": "display_data"
        },
        {
          "data": {
            "text/plain": [
              "<AxesSubplot:title={'center':'Feature Importances of 55 Features using LassoCV'}, xlabel='relative coefficient magnitude'>"
            ]
          },
          "execution_count": 76,
          "metadata": {},
          "output_type": "execute_result"
        }
      ],
      "source": [
        "from yellowbrick.model_selection import FeatureImportances\n",
        "from yellowbrick.features import RadViz\n",
        "\n",
        "viz = FeatureImportances(lasso_cv_model, labels=pd.DataFrame(X_train).columns)\n",
        "visualizer = RadViz(size=(720, 3000))\n",
        "viz.fit(X_train, y_train)\n",
        "viz.show()\n",
        "\n",
        "# Çıktıda göre 0. feature, 4. feature, 34. feature vs diye önem sırasına göre sıralanmış"
      ]
    }
  ],
  "metadata": {
    "colab": {
      "collapsed_sections": [],
      "name": "ML- 4 - 5  (Regularization-Part_2 Ridge_Lasso).ipynb",
      "provenance": []
    },
    "kernelspec": {
      "display_name": "Python 3.9.7 64-bit",
      "language": "python",
      "name": "python3"
    },
    "language_info": {
      "codemirror_mode": {
        "name": "ipython",
        "version": 3
      },
      "file_extension": ".py",
      "mimetype": "text/x-python",
      "name": "python",
      "nbconvert_exporter": "python",
      "pygments_lexer": "ipython3",
      "version": "3.9.7"
    },
    "vscode": {
      "interpreter": {
        "hash": "9cf30a5de90d6bd3bda27ade649b70aa23dfbcd102f452161c865f745fe85b77"
      }
    }
  },
  "nbformat": 4,
  "nbformat_minor": 5
}
