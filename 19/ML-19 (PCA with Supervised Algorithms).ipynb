{
 "cells": [
  {
   "cell_type": "markdown",
   "metadata": {},
   "source": [
    "<a id = '4.0'></a>\n",
    "<p style = \"font-size : 50px; color : #34656d ;  text-align : center; background-color : #08f9f9; border-radius: 5px 5px;\"><strong>PCA with Supervised Learning Algorithms</strong></p>"
   ]
  },
  {
   "cell_type": "markdown",
   "metadata": {},
   "source": [
    "## <span style='color:red'> Classificaton by Random Forest</span> "
   ]
  },
  {
   "cell_type": "code",
   "execution_count": 1,
   "metadata": {},
   "outputs": [],
   "source": [
    "import numpy as np\n",
    "import matplotlib.pyplot as plt\n",
    "import pandas as pd\n",
    "import warnings\n",
    "warnings.filterwarnings(\"ignore\")\n",
    "from sklearn.preprocessing import StandardScaler\n",
    "from sklearn.decomposition import PCA\n",
    "import seaborn as sns\n",
    "from matplotlib.pyplot import matplotlib\n",
    "plt.rcParams[\"figure.figsize\"] = (10,6)"
   ]
  },
  {
   "cell_type": "markdown",
   "metadata": {},
   "source": [
    "### EDA"
   ]
  },
  {
   "cell_type": "markdown",
   "metadata": {},
   "source": [
    "These data are the results of a chemical analysis of wines grown in the same region in Italy but derived from three different cultivars. The analysis determined the quantities of 13 constituents found in each of the three types of wines."
   ]
  },
  {
   "cell_type": "code",
   "execution_count": 2,
   "metadata": {},
   "outputs": [],
   "source": [
    "df = pd.read_csv(\"Wine.csv\")"
   ]
  },
  {
   "cell_type": "code",
   "execution_count": 3,
   "metadata": {},
   "outputs": [
    {
     "data": {
      "text/html": [
       "<div>\n",
       "<style scoped>\n",
       "    .dataframe tbody tr th:only-of-type {\n",
       "        vertical-align: middle;\n",
       "    }\n",
       "\n",
       "    .dataframe tbody tr th {\n",
       "        vertical-align: top;\n",
       "    }\n",
       "\n",
       "    .dataframe thead th {\n",
       "        text-align: right;\n",
       "    }\n",
       "</style>\n",
       "<table border=\"1\" class=\"dataframe\">\n",
       "  <thead>\n",
       "    <tr style=\"text-align: right;\">\n",
       "      <th></th>\n",
       "      <th>Alcohol</th>\n",
       "      <th>Malic_Acid</th>\n",
       "      <th>Ash</th>\n",
       "      <th>Ash_Alcanity</th>\n",
       "      <th>Magnesium</th>\n",
       "      <th>Total_Phenols</th>\n",
       "      <th>Flavanoids</th>\n",
       "      <th>Nonflavanoid_Phenols</th>\n",
       "      <th>Proanthocyanins</th>\n",
       "      <th>Color_Intensity</th>\n",
       "      <th>Hue</th>\n",
       "      <th>OD280</th>\n",
       "      <th>Proline</th>\n",
       "      <th>Customer_Segment</th>\n",
       "    </tr>\n",
       "  </thead>\n",
       "  <tbody>\n",
       "    <tr>\n",
       "      <th>0</th>\n",
       "      <td>14.23</td>\n",
       "      <td>1.71</td>\n",
       "      <td>2.43</td>\n",
       "      <td>15.6</td>\n",
       "      <td>127</td>\n",
       "      <td>2.80</td>\n",
       "      <td>3.06</td>\n",
       "      <td>0.28</td>\n",
       "      <td>2.29</td>\n",
       "      <td>5.64</td>\n",
       "      <td>1.04</td>\n",
       "      <td>3.92</td>\n",
       "      <td>1065</td>\n",
       "      <td>1</td>\n",
       "    </tr>\n",
       "    <tr>\n",
       "      <th>1</th>\n",
       "      <td>13.20</td>\n",
       "      <td>1.78</td>\n",
       "      <td>2.14</td>\n",
       "      <td>11.2</td>\n",
       "      <td>100</td>\n",
       "      <td>2.65</td>\n",
       "      <td>2.76</td>\n",
       "      <td>0.26</td>\n",
       "      <td>1.28</td>\n",
       "      <td>4.38</td>\n",
       "      <td>1.05</td>\n",
       "      <td>3.40</td>\n",
       "      <td>1050</td>\n",
       "      <td>1</td>\n",
       "    </tr>\n",
       "    <tr>\n",
       "      <th>2</th>\n",
       "      <td>13.16</td>\n",
       "      <td>2.36</td>\n",
       "      <td>2.67</td>\n",
       "      <td>18.6</td>\n",
       "      <td>101</td>\n",
       "      <td>2.80</td>\n",
       "      <td>3.24</td>\n",
       "      <td>0.30</td>\n",
       "      <td>2.81</td>\n",
       "      <td>5.68</td>\n",
       "      <td>1.03</td>\n",
       "      <td>3.17</td>\n",
       "      <td>1185</td>\n",
       "      <td>1</td>\n",
       "    </tr>\n",
       "    <tr>\n",
       "      <th>3</th>\n",
       "      <td>14.37</td>\n",
       "      <td>1.95</td>\n",
       "      <td>2.50</td>\n",
       "      <td>16.8</td>\n",
       "      <td>113</td>\n",
       "      <td>3.85</td>\n",
       "      <td>3.49</td>\n",
       "      <td>0.24</td>\n",
       "      <td>2.18</td>\n",
       "      <td>7.80</td>\n",
       "      <td>0.86</td>\n",
       "      <td>3.45</td>\n",
       "      <td>1480</td>\n",
       "      <td>1</td>\n",
       "    </tr>\n",
       "    <tr>\n",
       "      <th>4</th>\n",
       "      <td>13.24</td>\n",
       "      <td>2.59</td>\n",
       "      <td>2.87</td>\n",
       "      <td>21.0</td>\n",
       "      <td>118</td>\n",
       "      <td>2.80</td>\n",
       "      <td>2.69</td>\n",
       "      <td>0.39</td>\n",
       "      <td>1.82</td>\n",
       "      <td>4.32</td>\n",
       "      <td>1.04</td>\n",
       "      <td>2.93</td>\n",
       "      <td>735</td>\n",
       "      <td>1</td>\n",
       "    </tr>\n",
       "  </tbody>\n",
       "</table>\n",
       "</div>"
      ],
      "text/plain": [
       "   Alcohol  Malic_Acid   Ash  Ash_Alcanity  Magnesium  Total_Phenols  \\\n",
       "0    14.23        1.71  2.43          15.6        127           2.80   \n",
       "1    13.20        1.78  2.14          11.2        100           2.65   \n",
       "2    13.16        2.36  2.67          18.6        101           2.80   \n",
       "3    14.37        1.95  2.50          16.8        113           3.85   \n",
       "4    13.24        2.59  2.87          21.0        118           2.80   \n",
       "\n",
       "   Flavanoids  Nonflavanoid_Phenols  Proanthocyanins  Color_Intensity   Hue  \\\n",
       "0        3.06                  0.28             2.29             5.64  1.04   \n",
       "1        2.76                  0.26             1.28             4.38  1.05   \n",
       "2        3.24                  0.30             2.81             5.68  1.03   \n",
       "3        3.49                  0.24             2.18             7.80  0.86   \n",
       "4        2.69                  0.39             1.82             4.32  1.04   \n",
       "\n",
       "   OD280  Proline  Customer_Segment  \n",
       "0   3.92     1065                 1  \n",
       "1   3.40     1050                 1  \n",
       "2   3.17     1185                 1  \n",
       "3   3.45     1480                 1  \n",
       "4   2.93      735                 1  "
      ]
     },
     "execution_count": 3,
     "metadata": {},
     "output_type": "execute_result"
    }
   ],
   "source": [
    "df.head()"
   ]
  },
  {
   "cell_type": "code",
   "execution_count": 4,
   "metadata": {},
   "outputs": [
    {
     "data": {
      "text/plain": [
       "(178, 14)"
      ]
     },
     "execution_count": 4,
     "metadata": {},
     "output_type": "execute_result"
    }
   ],
   "source": [
    "df.shape"
   ]
  },
  {
   "cell_type": "code",
   "execution_count": 5,
   "metadata": {},
   "outputs": [
    {
     "data": {
      "text/plain": [
       "array([1, 2, 3], dtype=int64)"
      ]
     },
     "execution_count": 5,
     "metadata": {},
     "output_type": "execute_result"
    }
   ],
   "source": [
    "df.Customer_Segment.unique()"
   ]
  },
  {
   "cell_type": "code",
   "execution_count": 6,
   "metadata": {},
   "outputs": [
    {
     "data": {
      "text/plain": [
       "2    71\n",
       "1    59\n",
       "3    48\n",
       "Name: Customer_Segment, dtype: int64"
      ]
     },
     "execution_count": 6,
     "metadata": {},
     "output_type": "execute_result"
    }
   ],
   "source": [
    "df.Customer_Segment.value_counts()"
   ]
  },
  {
   "cell_type": "code",
   "execution_count": 7,
   "metadata": {},
   "outputs": [
    {
     "data": {
      "image/png": "[encoded data removed]",
      "text/plain": [
       "<Figure size 432x288 with 1 Axes>"
      ]
     },
     "metadata": {
      "needs_background": "light"
     },
     "output_type": "display_data"
    }
   ],
   "source": [
    "ax = df.Customer_Segment.value_counts().plot.bar()\n",
    "ax.bar_label(ax.containers[0]);"
   ]
  },
  {
   "cell_type": "code",
   "execution_count": 8,
   "metadata": {},
   "outputs": [
    {
     "data": {
      "text/html": [
       "<div>\n",
       "<style scoped>\n",
       "    .dataframe tbody tr th:only-of-type {\n",
       "        vertical-align: middle;\n",
       "    }\n",
       "\n",
       "    .dataframe tbody tr th {\n",
       "        vertical-align: top;\n",
       "    }\n",
       "\n",
       "    .dataframe thead th {\n",
       "        text-align: right;\n",
       "    }\n",
       "</style>\n",
       "<table border=\"1\" class=\"dataframe\">\n",
       "  <thead>\n",
       "    <tr style=\"text-align: right;\">\n",
       "      <th></th>\n",
       "      <th>Alcohol</th>\n",
       "      <th>Malic_Acid</th>\n",
       "      <th>Ash</th>\n",
       "      <th>Ash_Alcanity</th>\n",
       "      <th>Magnesium</th>\n",
       "      <th>Total_Phenols</th>\n",
       "      <th>Flavanoids</th>\n",
       "      <th>Nonflavanoid_Phenols</th>\n",
       "      <th>Proanthocyanins</th>\n",
       "      <th>Color_Intensity</th>\n",
       "      <th>Hue</th>\n",
       "      <th>OD280</th>\n",
       "      <th>Proline</th>\n",
       "      <th>Customer_Segment</th>\n",
       "    </tr>\n",
       "  </thead>\n",
       "  <tbody>\n",
       "    <tr>\n",
       "      <th>count</th>\n",
       "      <td>178.000000</td>\n",
       "      <td>178.000000</td>\n",
       "      <td>178.000000</td>\n",
       "      <td>178.000000</td>\n",
       "      <td>178.000000</td>\n",
       "      <td>178.000000</td>\n",
       "      <td>178.000000</td>\n",
       "      <td>178.000000</td>\n",
       "      <td>178.000000</td>\n",
       "      <td>178.000000</td>\n",
       "      <td>178.000000</td>\n",
       "      <td>178.000000</td>\n",
       "      <td>178.000000</td>\n",
       "      <td>178.000000</td>\n",
       "    </tr>\n",
       "    <tr>\n",
       "      <th>mean</th>\n",
       "      <td>13.000618</td>\n",
       "      <td>2.336348</td>\n",
       "      <td>2.366517</td>\n",
       "      <td>19.494944</td>\n",
       "      <td>99.741573</td>\n",
       "      <td>2.295112</td>\n",
       "      <td>2.029270</td>\n",
       "      <td>0.361854</td>\n",
       "      <td>1.590899</td>\n",
       "      <td>5.058090</td>\n",
       "      <td>0.957449</td>\n",
       "      <td>2.611685</td>\n",
       "      <td>746.893258</td>\n",
       "      <td>1.938202</td>\n",
       "    </tr>\n",
       "    <tr>\n",
       "      <th>std</th>\n",
       "      <td>0.811827</td>\n",
       "      <td>1.117146</td>\n",
       "      <td>0.274344</td>\n",
       "      <td>3.339564</td>\n",
       "      <td>14.282484</td>\n",
       "      <td>0.625851</td>\n",
       "      <td>0.998859</td>\n",
       "      <td>0.124453</td>\n",
       "      <td>0.572359</td>\n",
       "      <td>2.318286</td>\n",
       "      <td>0.228572</td>\n",
       "      <td>0.709990</td>\n",
       "      <td>314.907474</td>\n",
       "      <td>0.775035</td>\n",
       "    </tr>\n",
       "    <tr>\n",
       "      <th>min</th>\n",
       "      <td>11.030000</td>\n",
       "      <td>0.740000</td>\n",
       "      <td>1.360000</td>\n",
       "      <td>10.600000</td>\n",
       "      <td>70.000000</td>\n",
       "      <td>0.980000</td>\n",
       "      <td>0.340000</td>\n",
       "      <td>0.130000</td>\n",
       "      <td>0.410000</td>\n",
       "      <td>1.280000</td>\n",
       "      <td>0.480000</td>\n",
       "      <td>1.270000</td>\n",
       "      <td>278.000000</td>\n",
       "      <td>1.000000</td>\n",
       "    </tr>\n",
       "    <tr>\n",
       "      <th>25%</th>\n",
       "      <td>12.362500</td>\n",
       "      <td>1.602500</td>\n",
       "      <td>2.210000</td>\n",
       "      <td>17.200000</td>\n",
       "      <td>88.000000</td>\n",
       "      <td>1.742500</td>\n",
       "      <td>1.205000</td>\n",
       "      <td>0.270000</td>\n",
       "      <td>1.250000</td>\n",
       "      <td>3.220000</td>\n",
       "      <td>0.782500</td>\n",
       "      <td>1.937500</td>\n",
       "      <td>500.500000</td>\n",
       "      <td>1.000000</td>\n",
       "    </tr>\n",
       "    <tr>\n",
       "      <th>50%</th>\n",
       "      <td>13.050000</td>\n",
       "      <td>1.865000</td>\n",
       "      <td>2.360000</td>\n",
       "      <td>19.500000</td>\n",
       "      <td>98.000000</td>\n",
       "      <td>2.355000</td>\n",
       "      <td>2.135000</td>\n",
       "      <td>0.340000</td>\n",
       "      <td>1.555000</td>\n",
       "      <td>4.690000</td>\n",
       "      <td>0.965000</td>\n",
       "      <td>2.780000</td>\n",
       "      <td>673.500000</td>\n",
       "      <td>2.000000</td>\n",
       "    </tr>\n",
       "    <tr>\n",
       "      <th>75%</th>\n",
       "      <td>13.677500</td>\n",
       "      <td>3.082500</td>\n",
       "      <td>2.557500</td>\n",
       "      <td>21.500000</td>\n",
       "      <td>107.000000</td>\n",
       "      <td>2.800000</td>\n",
       "      <td>2.875000</td>\n",
       "      <td>0.437500</td>\n",
       "      <td>1.950000</td>\n",
       "      <td>6.200000</td>\n",
       "      <td>1.120000</td>\n",
       "      <td>3.170000</td>\n",
       "      <td>985.000000</td>\n",
       "      <td>3.000000</td>\n",
       "    </tr>\n",
       "    <tr>\n",
       "      <th>max</th>\n",
       "      <td>14.830000</td>\n",
       "      <td>5.800000</td>\n",
       "      <td>3.230000</td>\n",
       "      <td>30.000000</td>\n",
       "      <td>162.000000</td>\n",
       "      <td>3.880000</td>\n",
       "      <td>5.080000</td>\n",
       "      <td>0.660000</td>\n",
       "      <td>3.580000</td>\n",
       "      <td>13.000000</td>\n",
       "      <td>1.710000</td>\n",
       "      <td>4.000000</td>\n",
       "      <td>1680.000000</td>\n",
       "      <td>3.000000</td>\n",
       "    </tr>\n",
       "  </tbody>\n",
       "</table>\n",
       "</div>"
      ],
      "text/plain": [
       "          Alcohol  Malic_Acid         Ash  Ash_Alcanity   Magnesium  \\\n",
       "count  178.000000  178.000000  178.000000    178.000000  178.000000   \n",
       "mean    13.000618    2.336348    2.366517     19.494944   99.741573   \n",
       "std      0.811827    1.117146    0.274344      3.339564   14.282484   \n",
       "min     11.030000    0.740000    1.360000     10.600000   70.000000   \n",
       "25%     12.362500    1.602500    2.210000     17.200000   88.000000   \n",
       "50%     13.050000    1.865000    2.360000     19.500000   98.000000   \n",
       "75%     13.677500    3.082500    2.557500     21.500000  107.000000   \n",
       "max     14.830000    5.800000    3.230000     30.000000  162.000000   \n",
       "\n",
       "       Total_Phenols  Flavanoids  Nonflavanoid_Phenols  Proanthocyanins  \\\n",
       "count     178.000000  178.000000            178.000000       178.000000   \n",
       "mean        2.295112    2.029270              0.361854         1.590899   \n",
       "std         0.625851    0.998859              0.124453         0.572359   \n",
       "min         0.980000    0.340000              0.130000         0.410000   \n",
       "25%         1.742500    1.205000              0.270000         1.250000   \n",
       "50%         2.355000    2.135000              0.340000         1.555000   \n",
       "75%         2.800000    2.875000              0.437500         1.950000   \n",
       "max         3.880000    5.080000              0.660000         3.580000   \n",
       "\n",
       "       Color_Intensity         Hue       OD280      Proline  Customer_Segment  \n",
       "count       178.000000  178.000000  178.000000   178.000000        178.000000  \n",
       "mean          5.058090    0.957449    2.611685   746.893258          1.938202  \n",
       "std           2.318286    0.228572    0.709990   314.907474          0.775035  \n",
       "min           1.280000    0.480000    1.270000   278.000000          1.000000  \n",
       "25%           3.220000    0.782500    1.937500   500.500000          1.000000  \n",
       "50%           4.690000    0.965000    2.780000   673.500000          2.000000  \n",
       "75%           6.200000    1.120000    3.170000   985.000000          3.000000  \n",
       "max          13.000000    1.710000    4.000000  1680.000000          3.000000  "
      ]
     },
     "execution_count": 8,
     "metadata": {},
     "output_type": "execute_result"
    }
   ],
   "source": [
    "df.describe()"
   ]
  },
  {
   "cell_type": "code",
   "execution_count": 9,
   "metadata": {},
   "outputs": [
    {
     "data": {
      "text/plain": [
       "<AxesSubplot:>"
      ]
     },
     "execution_count": 9,
     "metadata": {},
     "output_type": "execute_result"
    },
    {
     "data": {
      "image/png": "[encoded data removed]",
      "text/plain": [
       "<Figure size 864x576 with 2 Axes>"
      ]
     },
     "metadata": {
      "needs_background": "light"
     },
     "output_type": "display_data"
    }
   ],
   "source": [
    "plt.figure(figsize=(12,8))\n",
    "sns.heatmap(df.corr(), annot = True, fmt=\".2f\")"
   ]
  },
  {
   "cell_type": "code",
   "execution_count": 10,
   "metadata": {},
   "outputs": [
    {
     "data": {
      "image/png": "[encoded data removed]",
      "text/plain": [
       "<Figure size 432x288 with 1 Axes>"
      ]
     },
     "metadata": {
      "needs_background": "light"
     },
     "output_type": "display_data"
    }
   ],
   "source": [
    "ax = df.corr()[\"Customer_Segment\"][:-1].sort_values().plot(kind=\"barh\")\n",
    "ax.bar_label(ax.containers[0], fmt=\"%.2f\");"
   ]
  },
  {
   "cell_type": "code",
   "execution_count": 12,
   "metadata": {},
   "outputs": [
    {
     "data": {
      "text/plain": [
       "False"
      ]
     },
     "execution_count": 12,
     "metadata": {},
     "output_type": "execute_result"
    }
   ],
   "source": [
    "df.isnull().sum().any()"
   ]
  },
  {
   "cell_type": "markdown",
   "metadata": {},
   "source": [
    "### Split the Data"
   ]
  },
  {
   "cell_type": "code",
   "execution_count": 13,
   "metadata": {},
   "outputs": [],
   "source": [
    "X = df.drop(\"Customer_Segment\", axis = 1)"
   ]
  },
  {
   "cell_type": "code",
   "execution_count": 14,
   "metadata": {},
   "outputs": [],
   "source": [
    "y = df[\"Customer_Segment\"]"
   ]
  },
  {
   "cell_type": "code",
   "execution_count": 15,
   "metadata": {},
   "outputs": [],
   "source": [
    "from sklearn.model_selection import train_test_split\n",
    "X_train, X_test, y_train, y_test = train_test_split(X, y, test_size = 0.2, stratify=y, random_state = 0)"
   ]
  },
  {
   "cell_type": "markdown",
   "metadata": {},
   "source": [
    "### Modeling "
   ]
  },
  {
   "cell_type": "code",
   "execution_count": 16,
   "metadata": {},
   "outputs": [],
   "source": [
    "from sklearn.metrics import confusion_matrix, classification_report"
   ]
  },
  {
   "cell_type": "code",
   "execution_count": 17,
   "metadata": {},
   "outputs": [],
   "source": [
    "def eval_metric(model, X_train, y_train, X_test, y_test):\n",
    "    y_train_pred = model.predict(X_train)\n",
    "    y_pred = model.predict(X_test)\n",
    "    \n",
    "    print(\"Test_Set\")\n",
    "    print(confusion_matrix(y_test, y_pred))\n",
    "    print(classification_report(y_test, y_pred))\n",
    "    print()\n",
    "    print(\"Train_Set\")\n",
    "    print(confusion_matrix(y_train, y_train_pred))\n",
    "    print(classification_report(y_train, y_train_pred))"
   ]
  },
  {
   "cell_type": "code",
   "execution_count": 18,
   "metadata": {},
   "outputs": [],
   "source": [
    "from sklearn.ensemble import RandomForestClassifier"
   ]
  },
  {
   "cell_type": "code",
   "execution_count": 19,
   "metadata": {},
   "outputs": [
    {
     "name": "stdout",
     "output_type": "stream",
     "text": [
      "Test_Set\n",
      "[[12  0  0]\n",
      " [ 0 14  0]\n",
      " [ 0  0 10]]\n",
      "              precision    recall  f1-score   support\n",
      "\n",
      "           1       1.00      1.00      1.00        12\n",
      "           2       1.00      1.00      1.00        14\n",
      "           3       1.00      1.00      1.00        10\n",
      "\n",
      "    accuracy                           1.00        36\n",
      "   macro avg       1.00      1.00      1.00        36\n",
      "weighted avg       1.00      1.00      1.00        36\n",
      "\n",
      "\n",
      "Train_Set\n",
      "[[47  0  0]\n",
      " [ 0 57  0]\n",
      " [ 0  0 38]]\n",
      "              precision    recall  f1-score   support\n",
      "\n",
      "           1       1.00      1.00      1.00        47\n",
      "           2       1.00      1.00      1.00        57\n",
      "           3       1.00      1.00      1.00        38\n",
      "\n",
      "    accuracy                           1.00       142\n",
      "   macro avg       1.00      1.00      1.00       142\n",
      "weighted avg       1.00      1.00      1.00       142\n",
      "\n"
     ]
    }
   ],
   "source": [
    "classifier = RandomForestClassifier(random_state = 0)\n",
    "classifier.fit(X_train, y_train)\n",
    "eval_metric(classifier, X_train, y_train, X_test, y_test)"
   ]
  },
  {
   "cell_type": "code",
   "execution_count": 20,
   "metadata": {},
   "outputs": [
    {
     "data": {
      "text/plain": [
       "test_accuracy           0.971905\n",
       "test_precision_micro    0.971905\n",
       "test_recall_micro       0.971905\n",
       "test_f1_micro           0.971905\n",
       "dtype: float64"
      ]
     },
     "execution_count": 20,
     "metadata": {},
     "output_type": "execute_result"
    }
   ],
   "source": [
    "from sklearn.model_selection import cross_validate\n",
    "\n",
    "model = RandomForestClassifier(random_state = 0)\n",
    "\n",
    "scores = cross_validate(model, X_train, y_train, scoring = ['accuracy', 'precision_micro','recall_micro','f1_micro'], cv = 10)\n",
    "df_scores = pd.DataFrame(scores, index = range(1, 11))\n",
    "df_scores.mean()[2:]"
   ]
  },
  {
   "cell_type": "code",
   "execution_count": 21,
   "metadata": {},
   "outputs": [
    {
     "data": {
      "text/plain": [
       "array([0.12930939, 0.02858818, 0.01005337, 0.02107876, 0.02670528,\n",
       "       0.04826478, 0.17041694, 0.01237242, 0.01801449, 0.17606478,\n",
       "       0.06869346, 0.09987653, 0.19056163])"
      ]
     },
     "execution_count": 21,
     "metadata": {},
     "output_type": "execute_result"
    }
   ],
   "source": [
    "classifier.feature_importances_"
   ]
  },
  {
   "cell_type": "code",
   "execution_count": 22,
   "metadata": {},
   "outputs": [
    {
     "data": {
      "text/html": [
       "<div>\n",
       "<style scoped>\n",
       "    .dataframe tbody tr th:only-of-type {\n",
       "        vertical-align: middle;\n",
       "    }\n",
       "\n",
       "    .dataframe tbody tr th {\n",
       "        vertical-align: top;\n",
       "    }\n",
       "\n",
       "    .dataframe thead th {\n",
       "        text-align: right;\n",
       "    }\n",
       "</style>\n",
       "<table border=\"1\" class=\"dataframe\">\n",
       "  <thead>\n",
       "    <tr style=\"text-align: right;\">\n",
       "      <th></th>\n",
       "      <th>Importance</th>\n",
       "    </tr>\n",
       "  </thead>\n",
       "  <tbody>\n",
       "    <tr>\n",
       "      <th>Ash</th>\n",
       "      <td>0.010053</td>\n",
       "    </tr>\n",
       "    <tr>\n",
       "      <th>Nonflavanoid_Phenols</th>\n",
       "      <td>0.012372</td>\n",
       "    </tr>\n",
       "    <tr>\n",
       "      <th>Proanthocyanins</th>\n",
       "      <td>0.018014</td>\n",
       "    </tr>\n",
       "    <tr>\n",
       "      <th>Ash_Alcanity</th>\n",
       "      <td>0.021079</td>\n",
       "    </tr>\n",
       "    <tr>\n",
       "      <th>Magnesium</th>\n",
       "      <td>0.026705</td>\n",
       "    </tr>\n",
       "    <tr>\n",
       "      <th>Malic_Acid</th>\n",
       "      <td>0.028588</td>\n",
       "    </tr>\n",
       "    <tr>\n",
       "      <th>Total_Phenols</th>\n",
       "      <td>0.048265</td>\n",
       "    </tr>\n",
       "    <tr>\n",
       "      <th>Hue</th>\n",
       "      <td>0.068693</td>\n",
       "    </tr>\n",
       "    <tr>\n",
       "      <th>OD280</th>\n",
       "      <td>0.099877</td>\n",
       "    </tr>\n",
       "    <tr>\n",
       "      <th>Alcohol</th>\n",
       "      <td>0.129309</td>\n",
       "    </tr>\n",
       "    <tr>\n",
       "      <th>Flavanoids</th>\n",
       "      <td>0.170417</td>\n",
       "    </tr>\n",
       "    <tr>\n",
       "      <th>Color_Intensity</th>\n",
       "      <td>0.176065</td>\n",
       "    </tr>\n",
       "    <tr>\n",
       "      <th>Proline</th>\n",
       "      <td>0.190562</td>\n",
       "    </tr>\n",
       "  </tbody>\n",
       "</table>\n",
       "</div>"
      ],
      "text/plain": [
       "                      Importance\n",
       "Ash                     0.010053\n",
       "Nonflavanoid_Phenols    0.012372\n",
       "Proanthocyanins         0.018014\n",
       "Ash_Alcanity            0.021079\n",
       "Magnesium               0.026705\n",
       "Malic_Acid              0.028588\n",
       "Total_Phenols           0.048265\n",
       "Hue                     0.068693\n",
       "OD280                   0.099877\n",
       "Alcohol                 0.129309\n",
       "Flavanoids              0.170417\n",
       "Color_Intensity         0.176065\n",
       "Proline                 0.190562"
      ]
     },
     "execution_count": 22,
     "metadata": {},
     "output_type": "execute_result"
    }
   ],
   "source": [
    "feats = pd.DataFrame(index=df.iloc[:,:-1].columns, data= classifier.feature_importances_, \n",
    "                     columns=['Importance'])\n",
    "imp_feats = feats.sort_values(\"Importance\")\n",
    "imp_feats"
   ]
  },
  {
   "cell_type": "code",
   "execution_count": 23,
   "metadata": {},
   "outputs": [
    {
     "data": {
      "image/png": "[encoded data removed]",
      "text/plain": [
       "<Figure size 864x432 with 1 Axes>"
      ]
     },
     "metadata": {
      "needs_background": "light"
     },
     "output_type": "display_data"
    }
   ],
   "source": [
    "plt.figure(figsize=(12,6))\n",
    "splot = sns.barplot(data=imp_feats.sort_values('Importance'),x=imp_feats.sort_values('Importance').index,y='Importance')\n",
    "plt.xticks(rotation=90)\n",
    "for p in splot.patches:\n",
    "    splot.annotate(format(p.get_height(), '.2f'), \n",
    "                   (p.get_x() + p.get_width() / 2., p.get_height()), \n",
    "                   ha = 'center', va = 'center', \n",
    "                   size=15,\n",
    "                   xytext = (0, -12), \n",
    "                   textcoords = 'offset points')"
   ]
  },
  {
   "cell_type": "markdown",
   "metadata": {},
   "source": [
    "## <span style='color:red'> Modeling by feature importance (feature selection)</span> "
   ]
  },
  {
   "cell_type": "code",
   "execution_count": 24,
   "metadata": {},
   "outputs": [],
   "source": [
    "X2 = df[[\"Proline\", \"Color_Intensity\", \"Flavanoids\"]]"
   ]
  },
  {
   "cell_type": "code",
   "execution_count": 25,
   "metadata": {},
   "outputs": [],
   "source": [
    "X_train2, X_test2, y_train2, y_test2 = train_test_split(X2, y, test_size = 0.2, stratify=y, random_state = 0)"
   ]
  },
  {
   "cell_type": "code",
   "execution_count": 26,
   "metadata": {},
   "outputs": [
    {
     "name": "stdout",
     "output_type": "stream",
     "text": [
      "Test_Set\n",
      "[[12  0  0]\n",
      " [ 0 14  0]\n",
      " [ 0  1  9]]\n",
      "              precision    recall  f1-score   support\n",
      "\n",
      "           1       1.00      1.00      1.00        12\n",
      "           2       0.93      1.00      0.97        14\n",
      "           3       1.00      0.90      0.95        10\n",
      "\n",
      "    accuracy                           0.97        36\n",
      "   macro avg       0.98      0.97      0.97        36\n",
      "weighted avg       0.97      0.97      0.97        36\n",
      "\n",
      "\n",
      "Train_Set\n",
      "[[47  0  0]\n",
      " [ 0 57  0]\n",
      " [ 0  0 38]]\n",
      "              precision    recall  f1-score   support\n",
      "\n",
      "           1       1.00      1.00      1.00        47\n",
      "           2       1.00      1.00      1.00        57\n",
      "           3       1.00      1.00      1.00        38\n",
      "\n",
      "    accuracy                           1.00       142\n",
      "   macro avg       1.00      1.00      1.00       142\n",
      "weighted avg       1.00      1.00      1.00       142\n",
      "\n"
     ]
    }
   ],
   "source": [
    "classifier2 = RandomForestClassifier(random_state = 0)\n",
    "classifier2.fit(X_train2, y_train2)\n",
    "eval_metric(classifier2, X_train2, y_train2, X_test2, y_test2)"
   ]
  },
  {
   "cell_type": "code",
   "execution_count": 27,
   "metadata": {},
   "outputs": [
    {
     "data": {
      "text/plain": [
       "test_accuracy           0.957619\n",
       "test_precision_micro    0.957619\n",
       "test_recall_micro       0.957619\n",
       "test_f1_micro           0.957619\n",
       "dtype: float64"
      ]
     },
     "execution_count": 27,
     "metadata": {},
     "output_type": "execute_result"
    }
   ],
   "source": [
    "model = RandomForestClassifier(random_state = 0)\n",
    "\n",
    "scores = cross_validate(model, X_train2, y_train2, scoring = ['accuracy', 'precision_micro','recall_micro','f1_micro'], cv = 10)\n",
    "df_scores = pd.DataFrame(scores, index = range(1, 11))\n",
    "df_scores.mean()[2:]"
   ]
  },
  {
   "cell_type": "markdown",
   "metadata": {},
   "source": [
    "## <span style='color:red'> Modeling by PCA (Feature Transform)</span> \n"
   ]
  },
  {
   "cell_type": "markdown",
   "metadata": {},
   "source": [
    "### Scaling Data"
   ]
  },
  {
   "cell_type": "code",
   "execution_count": 28,
   "metadata": {},
   "outputs": [],
   "source": [
    "from sklearn.preprocessing import StandardScaler"
   ]
  },
  {
   "cell_type": "code",
   "execution_count": 29,
   "metadata": {},
   "outputs": [],
   "source": [
    "scaler = StandardScaler()     # pca için en iyi scaling standart scaling"
   ]
  },
  {
   "cell_type": "code",
   "execution_count": 30,
   "metadata": {},
   "outputs": [],
   "source": [
    "X_train_scaled = scaler.fit_transform(X_train)\n",
    "X_test_scaled = scaler.transform(X_test)"
   ]
  },
  {
   "cell_type": "markdown",
   "metadata": {},
   "source": [
    "### PCA"
   ]
  },
  {
   "cell_type": "code",
   "execution_count": 31,
   "metadata": {},
   "outputs": [
    {
     "data": {
      "image/png": "[encoded data removed]",
      "text/plain": [
       "<Figure size 432x288 with 1 Axes>"
      ]
     },
     "metadata": {
      "needs_background": "light"
     },
     "output_type": "display_data"
    }
   ],
   "source": [
    "from sklearn.decomposition import PCA\n",
    "pca = PCA().fit(X_train_scaled)\n",
    "x = range(1,14)\n",
    "plt.plot(x,np.cumsum(pca.explained_variance_ratio_))\n",
    "plt.xlabel(\"Component count\")\n",
    "plt.ylabel(\"Variance Ratio\");"
   ]
  },
  {
   "cell_type": "code",
   "execution_count": 32,
   "metadata": {},
   "outputs": [],
   "source": [
    "pca = PCA(n_components=13).fit(X_train_scaled)"
   ]
  },
  {
   "cell_type": "code",
   "execution_count": 33,
   "metadata": {},
   "outputs": [],
   "source": [
    "my_dict = {\"explained_variance\":pca.explained_variance_, \n",
    "           \"explained_variance_ratio\":pca.explained_variance_ratio_,\n",
    "           \"cumsum_explained_variance_ratio\":pca.explained_variance_ratio_.cumsum()}"
   ]
  },
  {
   "cell_type": "code",
   "execution_count": 34,
   "metadata": {},
   "outputs": [
    {
     "data": {
      "text/html": [
       "<div>\n",
       "<style scoped>\n",
       "    .dataframe tbody tr th:only-of-type {\n",
       "        vertical-align: middle;\n",
       "    }\n",
       "\n",
       "    .dataframe tbody tr th {\n",
       "        vertical-align: top;\n",
       "    }\n",
       "\n",
       "    .dataframe thead th {\n",
       "        text-align: right;\n",
       "    }\n",
       "</style>\n",
       "<table border=\"1\" class=\"dataframe\">\n",
       "  <thead>\n",
       "    <tr style=\"text-align: right;\">\n",
       "      <th></th>\n",
       "      <th>explained_variance</th>\n",
       "      <th>explained_variance_ratio</th>\n",
       "      <th>cumsum_explained_variance_ratio</th>\n",
       "    </tr>\n",
       "  </thead>\n",
       "  <tbody>\n",
       "    <tr>\n",
       "      <th>1</th>\n",
       "      <td>4.706713</td>\n",
       "      <td>0.359505</td>\n",
       "      <td>0.359505</td>\n",
       "    </tr>\n",
       "    <tr>\n",
       "      <th>2</th>\n",
       "      <td>2.428244</td>\n",
       "      <td>0.185473</td>\n",
       "      <td>0.544978</td>\n",
       "    </tr>\n",
       "    <tr>\n",
       "      <th>3</th>\n",
       "      <td>1.580507</td>\n",
       "      <td>0.120721</td>\n",
       "      <td>0.665699</td>\n",
       "    </tr>\n",
       "    <tr>\n",
       "      <th>4</th>\n",
       "      <td>0.964060</td>\n",
       "      <td>0.073636</td>\n",
       "      <td>0.739335</td>\n",
       "    </tr>\n",
       "    <tr>\n",
       "      <th>5</th>\n",
       "      <td>0.848632</td>\n",
       "      <td>0.064820</td>\n",
       "      <td>0.804155</td>\n",
       "    </tr>\n",
       "    <tr>\n",
       "      <th>6</th>\n",
       "      <td>0.675462</td>\n",
       "      <td>0.051593</td>\n",
       "      <td>0.855748</td>\n",
       "    </tr>\n",
       "    <tr>\n",
       "      <th>7</th>\n",
       "      <td>0.524426</td>\n",
       "      <td>0.040056</td>\n",
       "      <td>0.895804</td>\n",
       "    </tr>\n",
       "    <tr>\n",
       "      <th>8</th>\n",
       "      <td>0.363173</td>\n",
       "      <td>0.027740</td>\n",
       "      <td>0.923544</td>\n",
       "    </tr>\n",
       "    <tr>\n",
       "      <th>9</th>\n",
       "      <td>0.300204</td>\n",
       "      <td>0.022930</td>\n",
       "      <td>0.946474</td>\n",
       "    </tr>\n",
       "    <tr>\n",
       "      <th>10</th>\n",
       "      <td>0.224731</td>\n",
       "      <td>0.017165</td>\n",
       "      <td>0.963639</td>\n",
       "    </tr>\n",
       "    <tr>\n",
       "      <th>11</th>\n",
       "      <td>0.193896</td>\n",
       "      <td>0.014810</td>\n",
       "      <td>0.978449</td>\n",
       "    </tr>\n",
       "    <tr>\n",
       "      <th>12</th>\n",
       "      <td>0.169263</td>\n",
       "      <td>0.012929</td>\n",
       "      <td>0.991378</td>\n",
       "    </tr>\n",
       "    <tr>\n",
       "      <th>13</th>\n",
       "      <td>0.112887</td>\n",
       "      <td>0.008622</td>\n",
       "      <td>1.000000</td>\n",
       "    </tr>\n",
       "  </tbody>\n",
       "</table>\n",
       "</div>"
      ],
      "text/plain": [
       "    explained_variance  explained_variance_ratio  \\\n",
       "1             4.706713                  0.359505   \n",
       "2             2.428244                  0.185473   \n",
       "3             1.580507                  0.120721   \n",
       "4             0.964060                  0.073636   \n",
       "5             0.848632                  0.064820   \n",
       "6             0.675462                  0.051593   \n",
       "7             0.524426                  0.040056   \n",
       "8             0.363173                  0.027740   \n",
       "9             0.300204                  0.022930   \n",
       "10            0.224731                  0.017165   \n",
       "11            0.193896                  0.014810   \n",
       "12            0.169263                  0.012929   \n",
       "13            0.112887                  0.008622   \n",
       "\n",
       "    cumsum_explained_variance_ratio  \n",
       "1                          0.359505  \n",
       "2                          0.544978  \n",
       "3                          0.665699  \n",
       "4                          0.739335  \n",
       "5                          0.804155  \n",
       "6                          0.855748  \n",
       "7                          0.895804  \n",
       "8                          0.923544  \n",
       "9                          0.946474  \n",
       "10                         0.963639  \n",
       "11                         0.978449  \n",
       "12                         0.991378  \n",
       "13                         1.000000  "
      ]
     },
     "execution_count": 34,
     "metadata": {},
     "output_type": "execute_result"
    }
   ],
   "source": [
    "df_ev = pd.DataFrame(my_dict, index = range(1,14))\n",
    "df_ev"
   ]
  },
  {
   "cell_type": "code",
   "execution_count": 35,
   "metadata": {},
   "outputs": [],
   "source": [
    "pca = PCA(n_components = 3) # 0.75"
   ]
  },
  {
   "cell_type": "code",
   "execution_count": 36,
   "metadata": {},
   "outputs": [],
   "source": [
    "X_train_pca = pca.fit_transform(X_train_scaled)\n",
    "X_test_pca = pca.transform(X_test_scaled)"
   ]
  },
  {
   "cell_type": "code",
   "execution_count": 37,
   "metadata": {},
   "outputs": [
    {
     "data": {
      "text/html": [
       "<div>\n",
       "<style scoped>\n",
       "    .dataframe tbody tr th:only-of-type {\n",
       "        vertical-align: middle;\n",
       "    }\n",
       "\n",
       "    .dataframe tbody tr th {\n",
       "        vertical-align: top;\n",
       "    }\n",
       "\n",
       "    .dataframe thead th {\n",
       "        text-align: right;\n",
       "    }\n",
       "</style>\n",
       "<table border=\"1\" class=\"dataframe\">\n",
       "  <thead>\n",
       "    <tr style=\"text-align: right;\">\n",
       "      <th></th>\n",
       "      <th>first_component</th>\n",
       "      <th>second_component</th>\n",
       "      <th>third_component</th>\n",
       "    </tr>\n",
       "  </thead>\n",
       "  <tbody>\n",
       "    <tr>\n",
       "      <th>0</th>\n",
       "      <td>-0.783937</td>\n",
       "      <td>-1.590432</td>\n",
       "      <td>0.568115</td>\n",
       "    </tr>\n",
       "    <tr>\n",
       "      <th>1</th>\n",
       "      <td>-1.792083</td>\n",
       "      <td>0.583400</td>\n",
       "      <td>-1.321347</td>\n",
       "    </tr>\n",
       "    <tr>\n",
       "      <th>2</th>\n",
       "      <td>2.101051</td>\n",
       "      <td>2.109598</td>\n",
       "      <td>0.790712</td>\n",
       "    </tr>\n",
       "    <tr>\n",
       "      <th>3</th>\n",
       "      <td>3.107242</td>\n",
       "      <td>0.448619</td>\n",
       "      <td>-1.057832</td>\n",
       "    </tr>\n",
       "    <tr>\n",
       "      <th>4</th>\n",
       "      <td>0.725718</td>\n",
       "      <td>-2.107998</td>\n",
       "      <td>0.588435</td>\n",
       "    </tr>\n",
       "  </tbody>\n",
       "</table>\n",
       "</div>"
      ],
      "text/plain": [
       "   first_component  second_component  third_component\n",
       "0        -0.783937         -1.590432         0.568115\n",
       "1        -1.792083          0.583400        -1.321347\n",
       "2         2.101051          2.109598         0.790712\n",
       "3         3.107242          0.448619        -1.057832\n",
       "4         0.725718         -2.107998         0.588435"
      ]
     },
     "execution_count": 37,
     "metadata": {},
     "output_type": "execute_result"
    }
   ],
   "source": [
    "df_pca_train = pd.DataFrame(X_train_pca)\n",
    "df_pca_train = df_pca_train.rename(columns={0:\"first_component\", 1:\"second_component\", 2:\"third_component\"})\n",
    "df_pca_train.head()"
   ]
  },
  {
   "cell_type": "code",
   "execution_count": 38,
   "metadata": {},
   "outputs": [
    {
     "data": {
      "text/html": [
       "<div>\n",
       "<style scoped>\n",
       "    .dataframe tbody tr th:only-of-type {\n",
       "        vertical-align: middle;\n",
       "    }\n",
       "\n",
       "    .dataframe tbody tr th {\n",
       "        vertical-align: top;\n",
       "    }\n",
       "\n",
       "    .dataframe thead th {\n",
       "        text-align: right;\n",
       "    }\n",
       "</style>\n",
       "<table border=\"1\" class=\"dataframe\">\n",
       "  <thead>\n",
       "    <tr style=\"text-align: right;\">\n",
       "      <th></th>\n",
       "      <th>first_component</th>\n",
       "      <th>second_component</th>\n",
       "      <th>third_component</th>\n",
       "    </tr>\n",
       "  </thead>\n",
       "  <tbody>\n",
       "    <tr>\n",
       "      <th>0</th>\n",
       "      <td>0.510682</td>\n",
       "      <td>-1.703429</td>\n",
       "      <td>0.476175</td>\n",
       "    </tr>\n",
       "    <tr>\n",
       "      <th>1</th>\n",
       "      <td>-1.431099</td>\n",
       "      <td>0.675556</td>\n",
       "      <td>0.335034</td>\n",
       "    </tr>\n",
       "    <tr>\n",
       "      <th>2</th>\n",
       "      <td>1.517576</td>\n",
       "      <td>-1.098461</td>\n",
       "      <td>-1.110562</td>\n",
       "    </tr>\n",
       "    <tr>\n",
       "      <th>3</th>\n",
       "      <td>-2.504356</td>\n",
       "      <td>1.651059</td>\n",
       "      <td>-0.292180</td>\n",
       "    </tr>\n",
       "    <tr>\n",
       "      <th>4</th>\n",
       "      <td>-0.335949</td>\n",
       "      <td>-2.097911</td>\n",
       "      <td>-2.503081</td>\n",
       "    </tr>\n",
       "  </tbody>\n",
       "</table>\n",
       "</div>"
      ],
      "text/plain": [
       "   first_component  second_component  third_component\n",
       "0         0.510682         -1.703429         0.476175\n",
       "1        -1.431099          0.675556         0.335034\n",
       "2         1.517576         -1.098461        -1.110562\n",
       "3        -2.504356          1.651059        -0.292180\n",
       "4        -0.335949         -2.097911        -2.503081"
      ]
     },
     "execution_count": 38,
     "metadata": {},
     "output_type": "execute_result"
    }
   ],
   "source": [
    "df_pca_test=pd.DataFrame(X_test_pca)\n",
    "df_pca_test = df_pca_test.rename(columns={0:\"first_component\", 1:\"second_component\", 2:\"third_component\"})\n",
    "df_pca_test.head()"
   ]
  },
  {
   "cell_type": "code",
   "execution_count": 39,
   "metadata": {},
   "outputs": [
    {
     "data": {
      "text/html": [
       "<div>\n",
       "<style scoped>\n",
       "    .dataframe tbody tr th:only-of-type {\n",
       "        vertical-align: middle;\n",
       "    }\n",
       "\n",
       "    .dataframe tbody tr th {\n",
       "        vertical-align: top;\n",
       "    }\n",
       "\n",
       "    .dataframe thead th {\n",
       "        text-align: right;\n",
       "    }\n",
       "</style>\n",
       "<table border=\"1\" class=\"dataframe\">\n",
       "  <thead>\n",
       "    <tr style=\"text-align: right;\">\n",
       "      <th></th>\n",
       "      <th>first_component</th>\n",
       "      <th>second_component</th>\n",
       "      <th>third_component</th>\n",
       "    </tr>\n",
       "  </thead>\n",
       "  <tbody>\n",
       "    <tr>\n",
       "      <th>first_component</th>\n",
       "      <td>1.0</td>\n",
       "      <td>-0.0</td>\n",
       "      <td>-0.0</td>\n",
       "    </tr>\n",
       "    <tr>\n",
       "      <th>second_component</th>\n",
       "      <td>-0.0</td>\n",
       "      <td>1.0</td>\n",
       "      <td>0.0</td>\n",
       "    </tr>\n",
       "    <tr>\n",
       "      <th>third_component</th>\n",
       "      <td>-0.0</td>\n",
       "      <td>0.0</td>\n",
       "      <td>1.0</td>\n",
       "    </tr>\n",
       "  </tbody>\n",
       "</table>\n",
       "</div>"
      ],
      "text/plain": [
       "                  first_component  second_component  third_component\n",
       "first_component               1.0              -0.0             -0.0\n",
       "second_component             -0.0               1.0              0.0\n",
       "third_component              -0.0               0.0              1.0"
      ]
     },
     "execution_count": 39,
     "metadata": {},
     "output_type": "execute_result"
    }
   ],
   "source": [
    "df_pca_train.corr().round()"
   ]
  },
  {
   "cell_type": "markdown",
   "metadata": {},
   "source": [
    "### Modeling after PCA"
   ]
  },
  {
   "cell_type": "code",
   "execution_count": 40,
   "metadata": {},
   "outputs": [
    {
     "name": "stdout",
     "output_type": "stream",
     "text": [
      "Test_Set\n",
      "[[11  1  0]\n",
      " [ 1 13  0]\n",
      " [ 0  0 10]]\n",
      "              precision    recall  f1-score   support\n",
      "\n",
      "           1       0.92      0.92      0.92        12\n",
      "           2       0.93      0.93      0.93        14\n",
      "           3       1.00      1.00      1.00        10\n",
      "\n",
      "    accuracy                           0.94        36\n",
      "   macro avg       0.95      0.95      0.95        36\n",
      "weighted avg       0.94      0.94      0.94        36\n",
      "\n",
      "\n",
      "Train_Set\n",
      "[[46  1  0]\n",
      " [ 3 53  1]\n",
      " [ 0  0 38]]\n",
      "              precision    recall  f1-score   support\n",
      "\n",
      "           1       0.94      0.98      0.96        47\n",
      "           2       0.98      0.93      0.95        57\n",
      "           3       0.97      1.00      0.99        38\n",
      "\n",
      "    accuracy                           0.96       142\n",
      "   macro avg       0.96      0.97      0.97       142\n",
      "weighted avg       0.97      0.96      0.96       142\n",
      "\n"
     ]
    }
   ],
   "source": [
    "classifier3 = RandomForestClassifier(random_state = 0, max_depth=2)\n",
    "classifier3.fit(X_train_pca, y_train)\n",
    "eval_metric(classifier3, X_train_pca, y_train, X_test_pca, y_test)"
   ]
  },
  {
   "cell_type": "code",
   "execution_count": 41,
   "metadata": {},
   "outputs": [],
   "source": [
    "from sklearn.pipeline import Pipeline"
   ]
  },
  {
   "cell_type": "code",
   "execution_count": 42,
   "metadata": {},
   "outputs": [
    {
     "data": {
      "text/plain": [
       "test_accuracy           0.957143\n",
       "test_precision_macro    0.964127\n",
       "test_recall_macro       0.964444\n",
       "test_f1_macro           0.960736\n",
       "dtype: float64"
      ]
     },
     "execution_count": 42,
     "metadata": {},
     "output_type": "execute_result"
    }
   ],
   "source": [
    "operations = [(\"scaler\", StandardScaler()), (\"PCA\",PCA(n_components=3)),\n",
    "              (\"RF\", RandomForestClassifier(random_state = 0, max_depth=2))]\n",
    "\n",
    "pipe_model = Pipeline(steps=operations)\n",
    "                                             \n",
    "scores = cross_validate(pipe_model, X_train, y_train, scoring = ['accuracy', 'precision_macro','recall_macro','f1_macro'], \n",
    "                        cv = 10)\n",
    "df_scores = pd.DataFrame(scores, index = range(1, 11))\n",
    "df_scores.mean()[2:]                                            "
   ]
  },
  {
   "cell_type": "markdown",
   "metadata": {},
   "source": [
    "### Interpreting PCA results"
   ]
  },
  {
   "cell_type": "code",
   "execution_count": 43,
   "metadata": {},
   "outputs": [],
   "source": [
    "scaled_df = pd.DataFrame(X_train_scaled, columns = df.columns[:-1])"
   ]
  },
  {
   "cell_type": "code",
   "execution_count": 44,
   "metadata": {},
   "outputs": [
    {
     "data": {
      "text/html": [
       "<div>\n",
       "<style scoped>\n",
       "    .dataframe tbody tr th:only-of-type {\n",
       "        vertical-align: middle;\n",
       "    }\n",
       "\n",
       "    .dataframe tbody tr th {\n",
       "        vertical-align: top;\n",
       "    }\n",
       "\n",
       "    .dataframe thead th {\n",
       "        text-align: right;\n",
       "    }\n",
       "</style>\n",
       "<table border=\"1\" class=\"dataframe\">\n",
       "  <thead>\n",
       "    <tr style=\"text-align: right;\">\n",
       "      <th></th>\n",
       "      <th>first_component</th>\n",
       "      <th>second_component</th>\n",
       "      <th>third_component</th>\n",
       "      <th>Alcohol</th>\n",
       "      <th>Malic_Acid</th>\n",
       "      <th>Ash</th>\n",
       "      <th>Ash_Alcanity</th>\n",
       "      <th>Magnesium</th>\n",
       "      <th>Total_Phenols</th>\n",
       "      <th>Flavanoids</th>\n",
       "      <th>Nonflavanoid_Phenols</th>\n",
       "      <th>Proanthocyanins</th>\n",
       "      <th>Color_Intensity</th>\n",
       "      <th>Hue</th>\n",
       "      <th>OD280</th>\n",
       "      <th>Proline</th>\n",
       "    </tr>\n",
       "  </thead>\n",
       "  <tbody>\n",
       "    <tr>\n",
       "      <th>first_component</th>\n",
       "      <td>1.000000e+00</td>\n",
       "      <td>-4.821214e-17</td>\n",
       "      <td>-3.539358e-16</td>\n",
       "      <td>-0.315917</td>\n",
       "      <td>0.522374</td>\n",
       "      <td>-0.041560</td>\n",
       "      <td>0.457484</td>\n",
       "      <td>-0.297626</td>\n",
       "      <td>-0.858881</td>\n",
       "      <td>-0.910155</td>\n",
       "      <td>0.647516</td>\n",
       "      <td>-0.661573</td>\n",
       "      <td>0.157077</td>\n",
       "      <td>-0.703526</td>\n",
       "      <td>-0.796406</td>\n",
       "      <td>-0.651453</td>\n",
       "    </tr>\n",
       "    <tr>\n",
       "      <th>second_component</th>\n",
       "      <td>-4.821214e-17</td>\n",
       "      <td>1.000000e+00</td>\n",
       "      <td>3.295798e-17</td>\n",
       "      <td>0.759174</td>\n",
       "      <td>0.314529</td>\n",
       "      <td>0.481679</td>\n",
       "      <td>-0.033691</td>\n",
       "      <td>0.471424</td>\n",
       "      <td>0.089916</td>\n",
       "      <td>-0.016412</td>\n",
       "      <td>0.122430</td>\n",
       "      <td>0.060781</td>\n",
       "      <td>0.847400</td>\n",
       "      <td>-0.340077</td>\n",
       "      <td>-0.332120</td>\n",
       "      <td>0.556237</td>\n",
       "    </tr>\n",
       "    <tr>\n",
       "      <th>third_component</th>\n",
       "      <td>-3.539358e-16</td>\n",
       "      <td>3.295798e-17</td>\n",
       "      <td>1.000000e+00</td>\n",
       "      <td>-0.250287</td>\n",
       "      <td>0.138850</td>\n",
       "      <td>0.764486</td>\n",
       "      <td>0.798863</td>\n",
       "      <td>0.165145</td>\n",
       "      <td>0.186767</td>\n",
       "      <td>0.187314</td>\n",
       "      <td>0.162821</td>\n",
       "      <td>0.177221</td>\n",
       "      <td>-0.138940</td>\n",
       "      <td>0.042489</td>\n",
       "      <td>0.218051</td>\n",
       "      <td>-0.202532</td>\n",
       "    </tr>\n",
       "    <tr>\n",
       "      <th>Alcohol</th>\n",
       "      <td>-3.159174e-01</td>\n",
       "      <td>7.591742e-01</td>\n",
       "      <td>-2.502869e-01</td>\n",
       "      <td>1.000000</td>\n",
       "      <td>0.086124</td>\n",
       "      <td>0.201450</td>\n",
       "      <td>-0.315958</td>\n",
       "      <td>0.249971</td>\n",
       "      <td>0.287509</td>\n",
       "      <td>0.224431</td>\n",
       "      <td>-0.089860</td>\n",
       "      <td>0.123973</td>\n",
       "      <td>0.541419</td>\n",
       "      <td>0.040125</td>\n",
       "      <td>0.023660</td>\n",
       "      <td>0.652054</td>\n",
       "    </tr>\n",
       "    <tr>\n",
       "      <th>Malic_Acid</th>\n",
       "      <td>5.223736e-01</td>\n",
       "      <td>3.145289e-01</td>\n",
       "      <td>1.388497e-01</td>\n",
       "      <td>0.086124</td>\n",
       "      <td>1.000000</td>\n",
       "      <td>0.123963</td>\n",
       "      <td>0.272138</td>\n",
       "      <td>-0.071824</td>\n",
       "      <td>-0.313270</td>\n",
       "      <td>-0.384919</td>\n",
       "      <td>0.328954</td>\n",
       "      <td>-0.201117</td>\n",
       "      <td>0.203619</td>\n",
       "      <td>-0.534350</td>\n",
       "      <td>-0.365818</td>\n",
       "      <td>-0.216060</td>\n",
       "    </tr>\n",
       "    <tr>\n",
       "      <th>Ash</th>\n",
       "      <td>-4.156029e-02</td>\n",
       "      <td>4.816793e-01</td>\n",
       "      <td>7.644857e-01</td>\n",
       "      <td>0.201450</td>\n",
       "      <td>0.123963</td>\n",
       "      <td>1.000000</td>\n",
       "      <td>0.499520</td>\n",
       "      <td>0.295116</td>\n",
       "      <td>0.162924</td>\n",
       "      <td>0.149936</td>\n",
       "      <td>0.158610</td>\n",
       "      <td>0.049224</td>\n",
       "      <td>0.251937</td>\n",
       "      <td>-0.036072</td>\n",
       "      <td>0.025333</td>\n",
       "      <td>0.204146</td>\n",
       "    </tr>\n",
       "    <tr>\n",
       "      <th>Ash_Alcanity</th>\n",
       "      <td>4.574839e-01</td>\n",
       "      <td>-3.369122e-02</td>\n",
       "      <td>7.988626e-01</td>\n",
       "      <td>-0.315958</td>\n",
       "      <td>0.272138</td>\n",
       "      <td>0.499520</td>\n",
       "      <td>1.000000</td>\n",
       "      <td>-0.037198</td>\n",
       "      <td>-0.270902</td>\n",
       "      <td>-0.290175</td>\n",
       "      <td>0.330071</td>\n",
       "      <td>-0.170231</td>\n",
       "      <td>-0.025659</td>\n",
       "      <td>-0.252200</td>\n",
       "      <td>-0.192587</td>\n",
       "      <td>-0.458074</td>\n",
       "    </tr>\n",
       "    <tr>\n",
       "      <th>Magnesium</th>\n",
       "      <td>-2.976258e-01</td>\n",
       "      <td>4.714238e-01</td>\n",
       "      <td>1.651446e-01</td>\n",
       "      <td>0.249971</td>\n",
       "      <td>-0.071824</td>\n",
       "      <td>0.295116</td>\n",
       "      <td>-0.037198</td>\n",
       "      <td>1.000000</td>\n",
       "      <td>0.227277</td>\n",
       "      <td>0.181490</td>\n",
       "      <td>-0.249800</td>\n",
       "      <td>0.181372</td>\n",
       "      <td>0.223524</td>\n",
       "      <td>0.099632</td>\n",
       "      <td>0.029348</td>\n",
       "      <td>0.379295</td>\n",
       "    </tr>\n",
       "    <tr>\n",
       "      <th>Total_Phenols</th>\n",
       "      <td>-8.588813e-01</td>\n",
       "      <td>8.991650e-02</td>\n",
       "      <td>1.867672e-01</td>\n",
       "      <td>0.287509</td>\n",
       "      <td>-0.313270</td>\n",
       "      <td>0.162924</td>\n",
       "      <td>-0.270902</td>\n",
       "      <td>0.227277</td>\n",
       "      <td>1.000000</td>\n",
       "      <td>0.860816</td>\n",
       "      <td>-0.441993</td>\n",
       "      <td>0.612551</td>\n",
       "      <td>-0.043103</td>\n",
       "      <td>0.483347</td>\n",
       "      <td>0.699105</td>\n",
       "      <td>0.497085</td>\n",
       "    </tr>\n",
       "    <tr>\n",
       "      <th>Flavanoids</th>\n",
       "      <td>-9.101552e-01</td>\n",
       "      <td>-1.641220e-02</td>\n",
       "      <td>1.873139e-01</td>\n",
       "      <td>0.224431</td>\n",
       "      <td>-0.384919</td>\n",
       "      <td>0.149936</td>\n",
       "      <td>-0.290175</td>\n",
       "      <td>0.181490</td>\n",
       "      <td>0.860816</td>\n",
       "      <td>1.000000</td>\n",
       "      <td>-0.511210</td>\n",
       "      <td>0.649661</td>\n",
       "      <td>-0.146488</td>\n",
       "      <td>0.576261</td>\n",
       "      <td>0.775939</td>\n",
       "      <td>0.509639</td>\n",
       "    </tr>\n",
       "    <tr>\n",
       "      <th>Nonflavanoid_Phenols</th>\n",
       "      <td>6.475163e-01</td>\n",
       "      <td>1.224298e-01</td>\n",
       "      <td>1.628211e-01</td>\n",
       "      <td>-0.089860</td>\n",
       "      <td>0.328954</td>\n",
       "      <td>0.158610</td>\n",
       "      <td>0.330071</td>\n",
       "      <td>-0.249800</td>\n",
       "      <td>-0.441993</td>\n",
       "      <td>-0.511210</td>\n",
       "      <td>1.000000</td>\n",
       "      <td>-0.348634</td>\n",
       "      <td>0.171611</td>\n",
       "      <td>-0.347937</td>\n",
       "      <td>-0.495701</td>\n",
       "      <td>-0.334094</td>\n",
       "    </tr>\n",
       "    <tr>\n",
       "      <th>Proanthocyanins</th>\n",
       "      <td>-6.615726e-01</td>\n",
       "      <td>6.078131e-02</td>\n",
       "      <td>1.772215e-01</td>\n",
       "      <td>0.123973</td>\n",
       "      <td>-0.201117</td>\n",
       "      <td>0.049224</td>\n",
       "      <td>-0.170231</td>\n",
       "      <td>0.181372</td>\n",
       "      <td>0.612551</td>\n",
       "      <td>0.649661</td>\n",
       "      <td>-0.348634</td>\n",
       "      <td>1.000000</td>\n",
       "      <td>0.026989</td>\n",
       "      <td>0.308193</td>\n",
       "      <td>0.483265</td>\n",
       "      <td>0.324809</td>\n",
       "    </tr>\n",
       "    <tr>\n",
       "      <th>Color_Intensity</th>\n",
       "      <td>1.570772e-01</td>\n",
       "      <td>8.473998e-01</td>\n",
       "      <td>-1.389397e-01</td>\n",
       "      <td>0.541419</td>\n",
       "      <td>0.203619</td>\n",
       "      <td>0.251937</td>\n",
       "      <td>-0.025659</td>\n",
       "      <td>0.223524</td>\n",
       "      <td>-0.043103</td>\n",
       "      <td>-0.146488</td>\n",
       "      <td>0.171611</td>\n",
       "      <td>0.026989</td>\n",
       "      <td>1.000000</td>\n",
       "      <td>-0.450186</td>\n",
       "      <td>-0.441680</td>\n",
       "      <td>0.309522</td>\n",
       "    </tr>\n",
       "    <tr>\n",
       "      <th>Hue</th>\n",
       "      <td>-7.035259e-01</td>\n",
       "      <td>-3.400774e-01</td>\n",
       "      <td>4.248892e-02</td>\n",
       "      <td>0.040125</td>\n",
       "      <td>-0.534350</td>\n",
       "      <td>-0.036072</td>\n",
       "      <td>-0.252200</td>\n",
       "      <td>0.099632</td>\n",
       "      <td>0.483347</td>\n",
       "      <td>0.576261</td>\n",
       "      <td>-0.347937</td>\n",
       "      <td>0.308193</td>\n",
       "      <td>-0.450186</td>\n",
       "      <td>1.000000</td>\n",
       "      <td>0.607541</td>\n",
       "      <td>0.346513</td>\n",
       "    </tr>\n",
       "    <tr>\n",
       "      <th>OD280</th>\n",
       "      <td>-7.964056e-01</td>\n",
       "      <td>-3.321195e-01</td>\n",
       "      <td>2.180509e-01</td>\n",
       "      <td>0.023660</td>\n",
       "      <td>-0.365818</td>\n",
       "      <td>0.025333</td>\n",
       "      <td>-0.192587</td>\n",
       "      <td>0.029348</td>\n",
       "      <td>0.699105</td>\n",
       "      <td>0.775939</td>\n",
       "      <td>-0.495701</td>\n",
       "      <td>0.483265</td>\n",
       "      <td>-0.441680</td>\n",
       "      <td>0.607541</td>\n",
       "      <td>1.000000</td>\n",
       "      <td>0.284021</td>\n",
       "    </tr>\n",
       "    <tr>\n",
       "      <th>Proline</th>\n",
       "      <td>-6.514527e-01</td>\n",
       "      <td>5.562366e-01</td>\n",
       "      <td>-2.025316e-01</td>\n",
       "      <td>0.652054</td>\n",
       "      <td>-0.216060</td>\n",
       "      <td>0.204146</td>\n",
       "      <td>-0.458074</td>\n",
       "      <td>0.379295</td>\n",
       "      <td>0.497085</td>\n",
       "      <td>0.509639</td>\n",
       "      <td>-0.334094</td>\n",
       "      <td>0.324809</td>\n",
       "      <td>0.309522</td>\n",
       "      <td>0.346513</td>\n",
       "      <td>0.284021</td>\n",
       "      <td>1.000000</td>\n",
       "    </tr>\n",
       "  </tbody>\n",
       "</table>\n",
       "</div>"
      ],
      "text/plain": [
       "                      first_component  second_component  third_component  \\\n",
       "first_component          1.000000e+00     -4.821214e-17    -3.539358e-16   \n",
       "second_component        -4.821214e-17      1.000000e+00     3.295798e-17   \n",
       "third_component         -3.539358e-16      3.295798e-17     1.000000e+00   \n",
       "Alcohol                 -3.159174e-01      7.591742e-01    -2.502869e-01   \n",
       "Malic_Acid               5.223736e-01      3.145289e-01     1.388497e-01   \n",
       "Ash                     -4.156029e-02      4.816793e-01     7.644857e-01   \n",
       "Ash_Alcanity             4.574839e-01     -3.369122e-02     7.988626e-01   \n",
       "Magnesium               -2.976258e-01      4.714238e-01     1.651446e-01   \n",
       "Total_Phenols           -8.588813e-01      8.991650e-02     1.867672e-01   \n",
       "Flavanoids              -9.101552e-01     -1.641220e-02     1.873139e-01   \n",
       "Nonflavanoid_Phenols     6.475163e-01      1.224298e-01     1.628211e-01   \n",
       "Proanthocyanins         -6.615726e-01      6.078131e-02     1.772215e-01   \n",
       "Color_Intensity          1.570772e-01      8.473998e-01    -1.389397e-01   \n",
       "Hue                     -7.035259e-01     -3.400774e-01     4.248892e-02   \n",
       "OD280                   -7.964056e-01     -3.321195e-01     2.180509e-01   \n",
       "Proline                 -6.514527e-01      5.562366e-01    -2.025316e-01   \n",
       "\n",
       "                       Alcohol  Malic_Acid       Ash  Ash_Alcanity  Magnesium  \\\n",
       "first_component      -0.315917    0.522374 -0.041560      0.457484  -0.297626   \n",
       "second_component      0.759174    0.314529  0.481679     -0.033691   0.471424   \n",
       "third_component      -0.250287    0.138850  0.764486      0.798863   0.165145   \n",
       "Alcohol               1.000000    0.086124  0.201450     -0.315958   0.249971   \n",
       "Malic_Acid            0.086124    1.000000  0.123963      0.272138  -0.071824   \n",
       "Ash                   0.201450    0.123963  1.000000      0.499520   0.295116   \n",
       "Ash_Alcanity         -0.315958    0.272138  0.499520      1.000000  -0.037198   \n",
       "Magnesium             0.249971   -0.071824  0.295116     -0.037198   1.000000   \n",
       "Total_Phenols         0.287509   -0.313270  0.162924     -0.270902   0.227277   \n",
       "Flavanoids            0.224431   -0.384919  0.149936     -0.290175   0.181490   \n",
       "Nonflavanoid_Phenols -0.089860    0.328954  0.158610      0.330071  -0.249800   \n",
       "Proanthocyanins       0.123973   -0.201117  0.049224     -0.170231   0.181372   \n",
       "Color_Intensity       0.541419    0.203619  0.251937     -0.025659   0.223524   \n",
       "Hue                   0.040125   -0.534350 -0.036072     -0.252200   0.099632   \n",
       "OD280                 0.023660   -0.365818  0.025333     -0.192587   0.029348   \n",
       "Proline               0.652054   -0.216060  0.204146     -0.458074   0.379295   \n",
       "\n",
       "                      Total_Phenols  Flavanoids  Nonflavanoid_Phenols  \\\n",
       "first_component           -0.858881   -0.910155              0.647516   \n",
       "second_component           0.089916   -0.016412              0.122430   \n",
       "third_component            0.186767    0.187314              0.162821   \n",
       "Alcohol                    0.287509    0.224431             -0.089860   \n",
       "Malic_Acid                -0.313270   -0.384919              0.328954   \n",
       "Ash                        0.162924    0.149936              0.158610   \n",
       "Ash_Alcanity              -0.270902   -0.290175              0.330071   \n",
       "Magnesium                  0.227277    0.181490             -0.249800   \n",
       "Total_Phenols              1.000000    0.860816             -0.441993   \n",
       "Flavanoids                 0.860816    1.000000             -0.511210   \n",
       "Nonflavanoid_Phenols      -0.441993   -0.511210              1.000000   \n",
       "Proanthocyanins            0.612551    0.649661             -0.348634   \n",
       "Color_Intensity           -0.043103   -0.146488              0.171611   \n",
       "Hue                        0.483347    0.576261             -0.347937   \n",
       "OD280                      0.699105    0.775939             -0.495701   \n",
       "Proline                    0.497085    0.509639             -0.334094   \n",
       "\n",
       "                      Proanthocyanins  Color_Intensity       Hue     OD280  \\\n",
       "first_component             -0.661573         0.157077 -0.703526 -0.796406   \n",
       "second_component             0.060781         0.847400 -0.340077 -0.332120   \n",
       "third_component              0.177221        -0.138940  0.042489  0.218051   \n",
       "Alcohol                      0.123973         0.541419  0.040125  0.023660   \n",
       "Malic_Acid                  -0.201117         0.203619 -0.534350 -0.365818   \n",
       "Ash                          0.049224         0.251937 -0.036072  0.025333   \n",
       "Ash_Alcanity                -0.170231        -0.025659 -0.252200 -0.192587   \n",
       "Magnesium                    0.181372         0.223524  0.099632  0.029348   \n",
       "Total_Phenols                0.612551        -0.043103  0.483347  0.699105   \n",
       "Flavanoids                   0.649661        -0.146488  0.576261  0.775939   \n",
       "Nonflavanoid_Phenols        -0.348634         0.171611 -0.347937 -0.495701   \n",
       "Proanthocyanins              1.000000         0.026989  0.308193  0.483265   \n",
       "Color_Intensity              0.026989         1.000000 -0.450186 -0.441680   \n",
       "Hue                          0.308193        -0.450186  1.000000  0.607541   \n",
       "OD280                        0.483265        -0.441680  0.607541  1.000000   \n",
       "Proline                      0.324809         0.309522  0.346513  0.284021   \n",
       "\n",
       "                       Proline  \n",
       "first_component      -0.651453  \n",
       "second_component      0.556237  \n",
       "third_component      -0.202532  \n",
       "Alcohol               0.652054  \n",
       "Malic_Acid           -0.216060  \n",
       "Ash                   0.204146  \n",
       "Ash_Alcanity         -0.458074  \n",
       "Magnesium             0.379295  \n",
       "Total_Phenols         0.497085  \n",
       "Flavanoids            0.509639  \n",
       "Nonflavanoid_Phenols -0.334094  \n",
       "Proanthocyanins       0.324809  \n",
       "Color_Intensity       0.309522  \n",
       "Hue                   0.346513  \n",
       "OD280                 0.284021  \n",
       "Proline               1.000000  "
      ]
     },
     "execution_count": 44,
     "metadata": {},
     "output_type": "execute_result"
    }
   ],
   "source": [
    "combined_df = pd.concat([df_pca_train, scaled_df], axis=1)\n",
    "correlation = combined_df.corr()\n",
    "correlation"
   ]
  },
  {
   "cell_type": "code",
   "execution_count": 45,
   "metadata": {},
   "outputs": [
    {
     "data": {
      "image/png": "[encoded data removed]",
      "text/plain": [
       "<Figure size 1440x504 with 2 Axes>"
      ]
     },
     "metadata": {
      "needs_background": "light"
     },
     "output_type": "display_data"
    }
   ],
   "source": [
    "fig, ax = plt.subplots(figsize=(20, 7))\n",
    "sns.heatmap(correlation.iloc[:3,3:], cmap='YlGnBu', linewidths=.7, annot=True, fmt='.2f')\n",
    "plt.show()"
   ]
  },
  {
   "cell_type": "code",
   "execution_count": 46,
   "metadata": {},
   "outputs": [
    {
     "data": {
      "application/vnd.plotly.v1+json": {
       "config": {
        "plotlyServerURL": "https://plot.ly"
       },
       "data": [
        {
         "hovertemplate": "x=%{x}<br>y=%{y}<br>z=%{z}<br>color=%{marker.color}<extra></extra>",
         "legendgroup": "",
         "marker": {
          "color": [
           2,
           1,
           3,
           3,
           2,
           1,
           2,
           2,
           1,
           2,
           2,
           2,
           3,
           2,
           1,
           1,
           1,
           2,
           2,
           2,
           2,
           1,
           2,
           2,
           3,
           1,
           2,
           2,
           3,
           2,
           2,
           2,
           3,
           2,
           3,
           1,
           1,
           2,
           3,
           2,
           2,
           2,
           2,
           1,
           3,
           1,
           3,
           2,
           3,
           2,
           1,
           1,
           3,
           1,
           2,
           3,
           2,
           1,
           3,
           1,
           1,
           2,
           1,
           1,
           2,
           2,
           3,
           3,
           3,
           2,
           3,
           3,
           3,
           3,
           2,
           1,
           1,
           2,
           3,
           1,
           3,
           1,
           1,
           2,
           2,
           1,
           3,
           1,
           1,
           1,
           1,
           3,
           1,
           2,
           3,
           1,
           1,
           2,
           2,
           2,
           3,
           1,
           2,
           2,
           1,
           2,
           2,
           3,
           2,
           1,
           2,
           1,
           2,
           3,
           1,
           1,
           3,
           2,
           1,
           1,
           1,
           2,
           1,
           2,
           2,
           1,
           1,
           2,
           2,
           3,
           3,
           2,
           3,
           3,
           3,
           1,
           3,
           1,
           2,
           3,
           3,
           2
          ],
          "coloraxis": "coloraxis",
          "symbol": "circle"
         },
         "mode": "markers",
         "name": "",
         "scene": "scene",
         "showlegend": false,
         "type": "scatter3d",
         "x": [
          -0.7839367887427744,
          -1.7920825319943383,
          2.1010508609844676,
          3.1072423820438573,
          0.7257182462663379,
          -2.0156557792466847,
          -1.4343696562273365,
          1.8591572686407842,
          -1.2336121245915288,
          0.28605488104935717,
          -2.1800789384363553,
          -0.9386493437465208,
          2.9068475376320086,
          1.0942470910776512,
          -1.1777330808124091,
          -1.6543298502614647,
          -1.4771631871112576,
          -0.797620310386399,
          -1.1804784897291027,
          1.4735994128296446,
          1.638286675102439,
          -3.0679640317323287,
          -0.9409054301283644,
          1.5422228553012742,
          2.901554076246735,
          -2.6195978788836083,
          1.5014539302730798,
          -0.1948917968615144,
          2.8035829093841858,
          0.38739230265379193,
          2.534267552910803,
          -2.777058916968152,
          3.6998342323489797,
          0.4150379907637125,
          2.6719815140751217,
          -2.2599281565323754,
          -2.1561834042004198,
          0.40798710647593855,
          2.8862637629912733,
          1.8108593835773599,
          0.5193803559076984,
          1.0904104503905676,
          -1.4841274094337369,
          -2.1214139589305443,
          3.2415698032244635,
          -2.5631941131874454,
          2.290854913273116,
          0.46446688984049833,
          2.798776065455377,
          -1.816232183959991,
          -1.7793301768071337,
          -1.1402097783848884,
          1.3477005606779475,
          -2.55128945834398,
          -1.0551598096888275,
          3.1016314747008034,
          -0.7460022720806899,
          -2.4842530869835566,
          2.752520189220166,
          -2.9243484737787218,
          -2.2409137323619857,
          -0.9993888165131535,
          -2.730876254783459,
          -1.8228255832063918,
          1.0540906253890638,
          -0.45328198128667946,
          1.7425972069501054,
          3.610333938704718,
          2.343615181761674,
          0.4759862460475513,
          2.288236182660543,
          3.8979424277644505,
          2.460253628059011,
          2.6232569215386206,
          0.8030528980844037,
          -2.5467783593749913,
          -2.230930331349131,
          1.5878264175860821,
          2.909179059149057,
          -2.744550438772855,
          2.8119453472422724,
          -2.753782381849768,
          -2.4380945046205253,
          0.4784493683852202,
          0.7070432272378291,
          -2.7368777682335135,
          1.5897006535824867,
          -2.424875089883975,
          -0.43563938197635926,
          -3.073091749642267,
          -1.9884802470184328,
          3.1414711674712557,
          -1.0929873320534391,
          0.0026728421210619447,
          3.3536606490186633,
          -3.1311389997087598,
          -2.1462421392770503,
          -0.05754999805013162,
          2.539867843787834,
          -1.9618603420985472,
          2.3722319141985784,
          -3.428159840468818,
          0.010669243166227353,
          0.8774846210947765,
          -2.2913190350944146,
          -0.3845822452763926,
          0.2836578563621308,
          2.5577836678181143,
          0.1634370909982912,
          -1.1733486806321145,
          -0.7192151270015806,
          -1.9510754986269636,
          0.49645071860891166,
          2.4303084197842963,
          -3.1548815458652486,
          -3.5465409741105685,
          2.1758826312804276,
          1.9623749942210824,
          -3.5122961275160947,
          -4.3123183743012214,
          -1.502715693816517,
          0.6722433933233437,
          -3.6320709802432884,
          -0.8087119343649702,
          -1.5851514622238068,
          -0.6659916435928143,
          -3.168413605249608,
          1.7931152915527204,
          -1.3196221007785396,
          4.317600623790291,
          2.9150141025406398,
          -1.8785211075198167,
          2.533037504472305,
          2.260605514946908,
          2.303498870182279,
          -2.5215015152265057,
          2.6752196282201655,
          -2.045510293974052,
          0.1218015357767987,
          3.858037818066152,
          0.9955973546490421,
          0.4007263332023754
         ],
         "y": [
          -1.5904317082696888,
          0.5834000288691568,
          2.109598427706059,
          0.44861943925670567,
          -2.1079978657241663,
          1.7410837707849953,
          -2.092605153639697,
          -0.6233530678750304,
          -0.15588303261817613,
          -2.908230518382118,
          -1.9193590963508524,
          -1.7237342887869562,
          0.2587347292302834,
          -0.7578069953114392,
          0.10375953797920517,
          0.1085277307181704,
          0.6671763557339127,
          -3.3274167351588892,
          -0.6446977366785309,
          -1.3348476569912484,
          -1.319359355434156,
          0.9655112843614067,
          -0.6781961381536793,
          -1.7747894246512823,
          0.5532940742779863,
          1.2085811173915364,
          -1.149645321184172,
          -2.488116876522548,
          0.5352338995530931,
          -2.329714555705325,
          -1.2679541948218662,
          0.19286446574242472,
          0.9187724165300555,
          -2.1865435580002432,
          0.5558353538590184,
          2.3228905873683017,
          -0.4089353860895348,
          -2.3471209153604593,
          2.0576510600638294,
          -1.6792454574101536,
          -2.7014730586143787,
          -1.7921349010652472,
          0.18214207372432908,
          1.5312194733871471,
          -0.23429135287667607,
          0.7387883271935046,
          0.3224670933744862,
          -1.9774674167746846,
          0.671547621121735,
          -1.0057215970909117,
          0.587237120590313,
          0.9603154166469545,
          0.22555409451868697,
          0.9331762777991929,
          -1.507987137062393,
          0.5086844106356594,
          -2.393628467583977,
          0.8964810897516785,
          0.32906872040798296,
          0.6594047302077802,
          0.08671288671423484,
          -2.282450615870582,
          1.054021555416678,
          -0.43203978244578145,
          -2.9695174378805738,
          -1.046690783119323,
          1.5368295580927187,
          1.8540565662021535,
          0.5002125000731175,
          -0.40228432875342185,
          0.36136162849429904,
          0.20746626766545567,
          2.2391347047744787,
          0.719129501399754,
          -0.03708046756898636,
          -0.2171436394397011,
          1.1643435516823029,
          -0.823531379101867,
          1.3034252095241925,
          1.3908174833997142,
          2.255624940923231,
          1.7348694400188838,
          1.0692076075195196,
          -1.9715959448930576,
          -2.673880020030028,
          1.3615397313819442,
          2.473136787203176,
          1.6793328666689176,
          0.21310608535502196,
          2.1015965720117227,
          1.6844792310338477,
          2.822173012669836,
          0.861661636248389,
          -2.325189755712055,
          2.2157060380921285,
          0.7282039822734452,
          0.6297756251523959,
          -1.183822397661114,
          -0.015972271473310328,
          -1.356401954479888,
          0.37354448951944513,
          1.1939697510112002,
          -1.343482115817086,
          -2.3248687066499807,
          0.6796912538164573,
          -2.1884474001761305,
          -2.0253840089597377,
          1.7795116236196236,
          -1.2841509722052897,
          1.623786909963112,
          -1.5552849138866478,
          0.06831225013850457,
          -0.8400472623431917,
          -0.3004898248713664,
          1.612112242581241,
          1.2197591772752268,
          1.2946438634353823,
          -1.4313708395792728,
          1.5546867016825956,
          2.0658653370409286,
          -0.7644838777307884,
          -1.1178396837446023,
          2.5176666312239298,
          -2.0014141692226963,
          -1.5663448098372041,
          0.016007313047822085,
          0.0944462427788462,
          -1.2508255447447323,
          -1.572555502613358,
          0.6264844744366627,
          1.948693224728538,
          -1.431907160691616,
          2.022532713654009,
          2.5068362116419483,
          2.6840392916533444,
          1.2309270034999251,
          2.802141365462981,
          1.227113255735592,
          -2.205475553956447,
          0.7301024820310904,
          3.578714799516769,
          -2.206472212624014
         ],
         "z": [
          0.5681149593789504,
          -1.321347258208369,
          0.7907117520991275,
          -1.0578318278353354,
          0.5884354954573847,
          0.9822710177168176,
          0.5559997115366416,
          -1.686242310264147,
          -1.490644410515843,
          -0.35288053205307324,
          -2.082016197044842,
          1.5357365563923402,
          -0.10651859606486451,
          2.986625649952196,
          -0.17404420051976624,
          -0.34341511637750904,
          0.36435181720986654,
          -0.4871521092010156,
          -1.3093449583002823,
          -0.29105378576192314,
          0.2000795843154539,
          -0.32651874734919606,
          0.41289215033003157,
          0.6441485115510239,
          0.9046185500648183,
          1.2354679071095678,
          3.2209716310127305,
          -1.1103281923368604,
          -1.1926937398333153,
          1.1378856770033745,
          -1.8850058997160448,
          3.2875223721158187,
          -1.2644565023526113,
          0.9118771948419864,
          -0.8417280343328721,
          0.7239618793293,
          -2.1084735735482774,
          2.1286108406243986,
          -0.36105403050011114,
          0.8534820548096801,
          0.7099154193947981,
          0.8195089822741923,
          5.288643012173855,
          0.05903779885298817,
          -0.8158369863299132,
          -0.15633970497255906,
          -0.9510794747485779,
          1.2524047932458704,
          0.7421963259148459,
          1.8628310893293791,
          -0.18844462888464997,
          3.66082289259202,
          -1.1654123475028395,
          0.8701677409933264,
          -0.45275033279184695,
          -1.1572137795594237,
          0.06272799926178707,
          -1.8584415251491553,
          0.5600800373127652,
          -0.1386510409901947,
          -1.1614016205298114,
          0.11156314128540973,
          -0.5763746371086667,
          0.7988914009468853,
          -4.653072507631764,
          1.706458986576399,
          1.4546697570051852,
          -0.06354799911567696,
          -0.2604352866487898,
          1.2872756794449498,
          1.1911979547330316,
          0.1702622972183844,
          -0.8594059078124819,
          -0.8619353535291874,
          -0.8576924632763937,
          -0.4026545304436985,
          0.14095441822306273,
          -0.7336608965186758,
          -1.1493522130048304,
          -0.4280692154169888,
          -0.9344824832690068,
          -0.7213412355117726,
          -1.0809246273015392,
          1.2372393293873019,
          -0.824926726860798,
          -0.6239948286922035,
          0.5867967457490803,
          0.07619112883363677,
          -0.17567710120597638,
          -0.7485234206308186,
          0.6669937271321567,
          1.0749915543575264,
          1.9407940936372465,
          -0.5053172632574225,
          -0.2807076601295413,
          -0.3898073498724669,
          -1.007091114930072,
          -1.8735305059937315,
          0.4104237153339472,
          -1.310106902706554,
          -0.6649860381556882,
          -1.4147645410214535,
          0.6907842858498687,
          -1.6696868477056346,
          1.249044594833753,
          -0.536079491494945,
          0.08710984017866259,
          0.243231857637597,
          1.006673798333047,
          0.048918536034961095,
          1.1004370106198957,
          0.3988829896305955,
          0.5777718160416171,
          -1.2069940228615352,
          -0.32183539976280057,
          -0.5559120330989435,
          -0.15427770058829862,
          -0.24174331547228942,
          -0.591896971909569,
          -1.4257183843435468,
          -1.5547653164833322,
          0.07497742501229149,
          -0.639767521959667,
          -0.36618398677624303,
          1.6685674754484487,
          -0.7918369092883791,
          -2.0580846494137184,
          0.760081784867267,
          0.17056662707342776,
          -1.3624865749783412,
          -0.6930243854584887,
          0.42104916183567886,
          -0.13530622084748362,
          1.550253406084408,
          0.46985380238418156,
          0.47811767724123744,
          -0.8383785516705207,
          -0.14537836326158038,
          0.4161229159115608,
          1.6805170313172808,
          1.2211647317761967,
          -0.5608711811767662
         ]
        }
       ],
       "layout": {
        "coloraxis": {
         "colorbar": {
          "title": {
           "text": "color"
          }
         },
         "colorscale": [
          [
           0,
           "#0d0887"
          ],
          [
           0.1111111111111111,
           "#46039f"
          ],
          [
           0.2222222222222222,
           "#7201a8"
          ],
          [
           0.3333333333333333,
           "#9c179e"
          ],
          [
           0.4444444444444444,
           "#bd3786"
          ],
          [
           0.5555555555555556,
           "#d8576b"
          ],
          [
           0.6666666666666666,
           "#ed7953"
          ],
          [
           0.7777777777777778,
           "#fb9f3a"
          ],
          [
           0.8888888888888888,
           "#fdca26"
          ],
          [
           1,
           "#f0f921"
          ]
         ]
        },
        "legend": {
         "tracegroupgap": 0
        },
        "margin": {
         "t": 60
        },
        "scene": {
         "domain": {
          "x": [
           0,
           1
          ],
          "y": [
           0,
           1
          ]
         },
         "xaxis": {
          "title": {
           "text": "x"
          }
         },
         "yaxis": {
          "title": {
           "text": "y"
          }
         },
         "zaxis": {
          "title": {
           "text": "z"
          }
         }
        },
        "template": {
         "data": {
          "bar": [
           {
            "error_x": {
             "color": "#2a3f5f"
            },
            "error_y": {
             "color": "#2a3f5f"
            },
            "marker": {
             "line": {
              "color": "#E5ECF6",
              "width": 0.5
             },
             "pattern": {
              "fillmode": "overlay",
              "size": 10,
              "solidity": 0.2
             }
            },
            "type": "bar"
           }
          ],
          "barpolar": [
           {
            "marker": {
             "line": {
              "color": "#E5ECF6",
              "width": 0.5
             },
             "pattern": {
              "fillmode": "overlay",
              "size": 10,
              "solidity": 0.2
             }
            },
            "type": "barpolar"
           }
          ],
          "carpet": [
           {
            "aaxis": {
             "endlinecolor": "#2a3f5f",
             "gridcolor": "white",
             "linecolor": "white",
             "minorgridcolor": "white",
             "startlinecolor": "#2a3f5f"
            },
            "baxis": {
             "endlinecolor": "#2a3f5f",
             "gridcolor": "white",
             "linecolor": "white",
             "minorgridcolor": "white",
             "startlinecolor": "#2a3f5f"
            },
            "type": "carpet"
           }
          ],
          "choropleth": [
           {
            "colorbar": {
             "outlinewidth": 0,
             "ticks": ""
            },
            "type": "choropleth"
           }
          ],
          "contour": [
           {
            "colorbar": {
             "outlinewidth": 0,
             "ticks": ""
            },
            "colorscale": [
             [
              0,
              "#0d0887"
             ],
             [
              0.1111111111111111,
              "#46039f"
             ],
             [
              0.2222222222222222,
              "#7201a8"
             ],
             [
              0.3333333333333333,
              "#9c179e"
             ],
             [
              0.4444444444444444,
              "#bd3786"
             ],
             [
              0.5555555555555556,
              "#d8576b"
             ],
             [
              0.6666666666666666,
              "#ed7953"
             ],
             [
              0.7777777777777778,
              "#fb9f3a"
             ],
             [
              0.8888888888888888,
              "#fdca26"
             ],
             [
              1,
              "#f0f921"
             ]
            ],
            "type": "contour"
           }
          ],
          "contourcarpet": [
           {
            "colorbar": {
             "outlinewidth": 0,
             "ticks": ""
            },
            "type": "contourcarpet"
           }
          ],
          "heatmap": [
           {
            "colorbar": {
             "outlinewidth": 0,
             "ticks": ""
            },
            "colorscale": [
             [
              0,
              "#0d0887"
             ],
             [
              0.1111111111111111,
              "#46039f"
             ],
             [
              0.2222222222222222,
              "#7201a8"
             ],
             [
              0.3333333333333333,
              "#9c179e"
             ],
             [
              0.4444444444444444,
              "#bd3786"
             ],
             [
              0.5555555555555556,
              "#d8576b"
             ],
             [
              0.6666666666666666,
              "#ed7953"
             ],
             [
              0.7777777777777778,
              "#fb9f3a"
             ],
             [
              0.8888888888888888,
              "#fdca26"
             ],
             [
              1,
              "#f0f921"
             ]
            ],
            "type": "heatmap"
           }
          ],
          "heatmapgl": [
           {
            "colorbar": {
             "outlinewidth": 0,
             "ticks": ""
            },
            "colorscale": [
             [
              0,
              "#0d0887"
             ],
             [
              0.1111111111111111,
              "#46039f"
             ],
             [
              0.2222222222222222,
              "#7201a8"
             ],
             [
              0.3333333333333333,
              "#9c179e"
             ],
             [
              0.4444444444444444,
              "#bd3786"
             ],
             [
              0.5555555555555556,
              "#d8576b"
             ],
             [
              0.6666666666666666,
              "#ed7953"
             ],
             [
              0.7777777777777778,
              "#fb9f3a"
             ],
             [
              0.8888888888888888,
              "#fdca26"
             ],
             [
              1,
              "#f0f921"
             ]
            ],
            "type": "heatmapgl"
           }
          ],
          "histogram": [
           {
            "marker": {
             "pattern": {
              "fillmode": "overlay",
              "size": 10,
              "solidity": 0.2
             }
            },
            "type": "histogram"
           }
          ],
          "histogram2d": [
           {
            "colorbar": {
             "outlinewidth": 0,
             "ticks": ""
            },
            "colorscale": [
             [
              0,
              "#0d0887"
             ],
             [
              0.1111111111111111,
              "#46039f"
             ],
             [
              0.2222222222222222,
              "#7201a8"
             ],
             [
              0.3333333333333333,
              "#9c179e"
             ],
             [
              0.4444444444444444,
              "#bd3786"
             ],
             [
              0.5555555555555556,
              "#d8576b"
             ],
             [
              0.6666666666666666,
              "#ed7953"
             ],
             [
              0.7777777777777778,
              "#fb9f3a"
             ],
             [
              0.8888888888888888,
              "#fdca26"
             ],
             [
              1,
              "#f0f921"
             ]
            ],
            "type": "histogram2d"
           }
          ],
          "histogram2dcontour": [
           {
            "colorbar": {
             "outlinewidth": 0,
             "ticks": ""
            },
            "colorscale": [
             [
              0,
              "#0d0887"
             ],
             [
              0.1111111111111111,
              "#46039f"
             ],
             [
              0.2222222222222222,
              "#7201a8"
             ],
             [
              0.3333333333333333,
              "#9c179e"
             ],
             [
              0.4444444444444444,
              "#bd3786"
             ],
             [
              0.5555555555555556,
              "#d8576b"
             ],
             [
              0.6666666666666666,
              "#ed7953"
             ],
             [
              0.7777777777777778,
              "#fb9f3a"
             ],
             [
              0.8888888888888888,
              "#fdca26"
             ],
             [
              1,
              "#f0f921"
             ]
            ],
            "type": "histogram2dcontour"
           }
          ],
          "mesh3d": [
           {
            "colorbar": {
             "outlinewidth": 0,
             "ticks": ""
            },
            "type": "mesh3d"
           }
          ],
          "parcoords": [
           {
            "line": {
             "colorbar": {
              "outlinewidth": 0,
              "ticks": ""
             }
            },
            "type": "parcoords"
           }
          ],
          "pie": [
           {
            "automargin": true,
            "type": "pie"
           }
          ],
          "scatter": [
           {
            "fillpattern": {
             "fillmode": "overlay",
             "size": 10,
             "solidity": 0.2
            },
            "type": "scatter"
           }
          ],
          "scatter3d": [
           {
            "line": {
             "colorbar": {
              "outlinewidth": 0,
              "ticks": ""
             }
            },
            "marker": {
             "colorbar": {
              "outlinewidth": 0,
              "ticks": ""
             }
            },
            "type": "scatter3d"
           }
          ],
          "scattercarpet": [
           {
            "marker": {
             "colorbar": {
              "outlinewidth": 0,
              "ticks": ""
             }
            },
            "type": "scattercarpet"
           }
          ],
          "scattergeo": [
           {
            "marker": {
             "colorbar": {
              "outlinewidth": 0,
              "ticks": ""
             }
            },
            "type": "scattergeo"
           }
          ],
          "scattergl": [
           {
            "marker": {
             "colorbar": {
              "outlinewidth": 0,
              "ticks": ""
             }
            },
            "type": "scattergl"
           }
          ],
          "scattermapbox": [
           {
            "marker": {
             "colorbar": {
              "outlinewidth": 0,
              "ticks": ""
             }
            },
            "type": "scattermapbox"
           }
          ],
          "scatterpolar": [
           {
            "marker": {
             "colorbar": {
              "outlinewidth": 0,
              "ticks": ""
             }
            },
            "type": "scatterpolar"
           }
          ],
          "scatterpolargl": [
           {
            "marker": {
             "colorbar": {
              "outlinewidth": 0,
              "ticks": ""
             }
            },
            "type": "scatterpolargl"
           }
          ],
          "scatterternary": [
           {
            "marker": {
             "colorbar": {
              "outlinewidth": 0,
              "ticks": ""
             }
            },
            "type": "scatterternary"
           }
          ],
          "surface": [
           {
            "colorbar": {
             "outlinewidth": 0,
             "ticks": ""
            },
            "colorscale": [
             [
              0,
              "#0d0887"
             ],
             [
              0.1111111111111111,
              "#46039f"
             ],
             [
              0.2222222222222222,
              "#7201a8"
             ],
             [
              0.3333333333333333,
              "#9c179e"
             ],
             [
              0.4444444444444444,
              "#bd3786"
             ],
             [
              0.5555555555555556,
              "#d8576b"
             ],
             [
              0.6666666666666666,
              "#ed7953"
             ],
             [
              0.7777777777777778,
              "#fb9f3a"
             ],
             [
              0.8888888888888888,
              "#fdca26"
             ],
             [
              1,
              "#f0f921"
             ]
            ],
            "type": "surface"
           }
          ],
          "table": [
           {
            "cells": {
             "fill": {
              "color": "#EBF0F8"
             },
             "line": {
              "color": "white"
             }
            },
            "header": {
             "fill": {
              "color": "#C8D4E3"
             },
             "line": {
              "color": "white"
             }
            },
            "type": "table"
           }
          ]
         },
         "layout": {
          "annotationdefaults": {
           "arrowcolor": "#2a3f5f",
           "arrowhead": 0,
           "arrowwidth": 1
          },
          "autotypenumbers": "strict",
          "coloraxis": {
           "colorbar": {
            "outlinewidth": 0,
            "ticks": ""
           }
          },
          "colorscale": {
           "diverging": [
            [
             0,
             "#8e0152"
            ],
            [
             0.1,
             "#c51b7d"
            ],
            [
             0.2,
             "#de77ae"
            ],
            [
             0.3,
             "#f1b6da"
            ],
            [
             0.4,
             "#fde0ef"
            ],
            [
             0.5,
             "#f7f7f7"
            ],
            [
             0.6,
             "#e6f5d0"
            ],
            [
             0.7,
             "#b8e186"
            ],
            [
             0.8,
             "#7fbc41"
            ],
            [
             0.9,
             "#4d9221"
            ],
            [
             1,
             "#276419"
            ]
           ],
           "sequential": [
            [
             0,
             "#0d0887"
            ],
            [
             0.1111111111111111,
             "#46039f"
            ],
            [
             0.2222222222222222,
             "#7201a8"
            ],
            [
             0.3333333333333333,
             "#9c179e"
            ],
            [
             0.4444444444444444,
             "#bd3786"
            ],
            [
             0.5555555555555556,
             "#d8576b"
            ],
            [
             0.6666666666666666,
             "#ed7953"
            ],
            [
             0.7777777777777778,
             "#fb9f3a"
            ],
            [
             0.8888888888888888,
             "#fdca26"
            ],
            [
             1,
             "#f0f921"
            ]
           ],
           "sequentialminus": [
            [
             0,
             "#0d0887"
            ],
            [
             0.1111111111111111,
             "#46039f"
            ],
            [
             0.2222222222222222,
             "#7201a8"
            ],
            [
             0.3333333333333333,
             "#9c179e"
            ],
            [
             0.4444444444444444,
             "#bd3786"
            ],
            [
             0.5555555555555556,
             "#d8576b"
            ],
            [
             0.6666666666666666,
             "#ed7953"
            ],
            [
             0.7777777777777778,
             "#fb9f3a"
            ],
            [
             0.8888888888888888,
             "#fdca26"
            ],
            [
             1,
             "#f0f921"
            ]
           ]
          },
          "colorway": [
           "#636efa",
           "#EF553B",
           "#00cc96",
           "#ab63fa",
           "#FFA15A",
           "#19d3f3",
           "#FF6692",
           "#B6E880",
           "#FF97FF",
           "#FECB52"
          ],
          "font": {
           "color": "#2a3f5f"
          },
          "geo": {
           "bgcolor": "white",
           "lakecolor": "white",
           "landcolor": "#E5ECF6",
           "showlakes": true,
           "showland": true,
           "subunitcolor": "white"
          },
          "hoverlabel": {
           "align": "left"
          },
          "hovermode": "closest",
          "mapbox": {
           "style": "light"
          },
          "paper_bgcolor": "white",
          "plot_bgcolor": "#E5ECF6",
          "polar": {
           "angularaxis": {
            "gridcolor": "white",
            "linecolor": "white",
            "ticks": ""
           },
           "bgcolor": "#E5ECF6",
           "radialaxis": {
            "gridcolor": "white",
            "linecolor": "white",
            "ticks": ""
           }
          },
          "scene": {
           "xaxis": {
            "backgroundcolor": "#E5ECF6",
            "gridcolor": "white",
            "gridwidth": 2,
            "linecolor": "white",
            "showbackground": true,
            "ticks": "",
            "zerolinecolor": "white"
           },
           "yaxis": {
            "backgroundcolor": "#E5ECF6",
            "gridcolor": "white",
            "gridwidth": 2,
            "linecolor": "white",
            "showbackground": true,
            "ticks": "",
            "zerolinecolor": "white"
           },
           "zaxis": {
            "backgroundcolor": "#E5ECF6",
            "gridcolor": "white",
            "gridwidth": 2,
            "linecolor": "white",
            "showbackground": true,
            "ticks": "",
            "zerolinecolor": "white"
           }
          },
          "shapedefaults": {
           "line": {
            "color": "#2a3f5f"
           }
          },
          "ternary": {
           "aaxis": {
            "gridcolor": "white",
            "linecolor": "white",
            "ticks": ""
           },
           "baxis": {
            "gridcolor": "white",
            "linecolor": "white",
            "ticks": ""
           },
           "bgcolor": "#E5ECF6",
           "caxis": {
            "gridcolor": "white",
            "linecolor": "white",
            "ticks": ""
           }
          },
          "title": {
           "x": 0.05
          },
          "xaxis": {
           "automargin": true,
           "gridcolor": "white",
           "linecolor": "white",
           "ticks": "",
           "title": {
            "standoff": 15
           },
           "zerolinecolor": "white",
           "zerolinewidth": 2
          },
          "yaxis": {
           "automargin": true,
           "gridcolor": "white",
           "linecolor": "white",
           "ticks": "",
           "title": {
            "standoff": 15
           },
           "zerolinecolor": "white",
           "zerolinewidth": 2
          }
         }
        }
       }
      }
     },
     "metadata": {},
     "output_type": "display_data"
    }
   ],
   "source": [
    "import plotly.express as px\n",
    "fig = px.scatter_3d(x=df_pca_train[\"first_component\"], y=df_pca_train[\"second_component\"], \n",
    "                    z=df_pca_train[\"third_component\"], color=y_train)\n",
    "fig.show()"
   ]
  }
 ],
 "metadata": {
  "kernelspec": {
   "display_name": "Python 3.9.7 64-bit",
   "language": "python",
   "name": "python3"
  },
  "language_info": {
   "codemirror_mode": {
    "name": "ipython",
    "version": 3
   },
   "file_extension": ".py",
   "mimetype": "text/x-python",
   "name": "python",
   "nbconvert_exporter": "python",
   "pygments_lexer": "ipython3",
   "version": "3.9.7"
  },
  "vscode": {
   "interpreter": {
    "hash": "9cf30a5de90d6bd3bda27ade649b70aa23dfbcd102f452161c865f745fe85b77"
   }
  }
 },
 "nbformat": 4,
 "nbformat_minor": 4
}
